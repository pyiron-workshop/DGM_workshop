{
 "cells": [
  {
   "cell_type": "markdown",
   "id": "bf2ee604-36c7-4406-86ce-82f07eff053a",
   "metadata": {},
   "source": [
    "<table border=\"0\">\n",
    "<tr>\n",
    "  <td>\n",
    "    <font style=\"font-family:roboto;color:#455e6c;font-size:30px\"> <b> Data analysis and workflows in Materials science </b> </font> </td>\n",
    "  <td>\n",
    "    <img src=\"logo.png\" width=\"40%\" align=\"right\"></td>\n",
    "</tr>\n",
    "<tr></tr>\n",
    "<tr>\n",
    "  <td> \n",
    "    <font style=\"font-family:roboto;color:#455e6c;font-size:18px\"> Sarath Menon </font> <br> \n",
    "    <font style=\"font-family:roboto;color:#455e6c;font-size:12px\"> Max-Planck-Institut für Eisenforschung GmbH <br></font>\n",
    "    <font style=\"font-family:roboto;color:#455e6c;font-size:12px\"> DGM-Nachwuchsforum | 25.04.2023 </font>\n",
    "  </td>\n",
    "</tr>\n",
    "</table>"
   ]
  },
  {
   "cell_type": "markdown",
   "id": "42864dbd-93b0-4890-b791-033cda035c1f",
   "metadata": {},
   "source": [
    "## <font style=\"font-family:roboto;color:#455e6c\"> Part II: Workflows in Materials Science </font>  "
   ]
  },
  {
   "cell_type": "markdown",
   "id": "bcddced5-907b-4d1e-9eab-3bdcf13c8681",
   "metadata": {},
   "source": [
    "Now that we are familiar with python, we will look a typical workflow in materials science. We will calculate the Youngs modulus, first with [LAMMPS](https://www.lammps.org/#gsc.tab=0), a widely used simulation code. If you are looking for a quick way to calculate elastic constants, example script provided with LAMMPS is the way to go. Here, the method itself will be explored. [This method](http://micro.stanford.edu/wiki/M07_Computing_Elastic_Constants) will be followed here and is a good resource for further reading. \n",
    "\n",
    "A crucial input that we need is a way to model to the interaction between the atoms. Here will we will use an [Embedded Atom Method interatomic potential](https://www.tandfonline.com/doi/abs/10.1080/14786430802206482) to simulate Aluminium."
   ]
  },
  {
   "cell_type": "markdown",
   "id": "938d46f4-f64f-4554-969f-bcbf2c5d93b2",
   "metadata": {},
   "source": [
    "## Using Stress\n",
    "\n",
    "For a cubic material, there are three independent elastic constants - $C_{11}$, $C_{12}$ and $C_{44}$. $C_{11}$ and $C_{12}$ can be calculated from the stress-strain relationships. If a strain $\\epsilon_{11}$ is applied and the stresses $\\sigma_{11}$ and $\\sigma_{22}$ are measured, the elastic constants can be calculated directly from,\n",
    "\n",
    "$$\n",
    "C_{11} = \\frac{\\sigma_{11}}{\\epsilon_{11}} \\\\\n",
    "C_{12} = \\frac{\\sigma_{22}}{\\epsilon_{11}}\n",
    "$$\n",
    "\n",
    "Here, we will focus on $C_{11}$, which is the Youngs Modulus."
   ]
  },
  {
   "cell_type": "markdown",
   "id": "a325af65-9ea5-4c16-8f45-b2b3cc42e425",
   "metadata": {},
   "source": [
    "The LAMMPS script is already prepared for you. Let us take a look first."
   ]
  },
  {
   "cell_type": "code",
   "execution_count": null,
   "id": "f7396532-257a-4aec-a7a7-9e110b5ec932",
   "metadata": {},
   "outputs": [],
   "source": [
    "! cat lammps.in"
   ]
  },
  {
   "cell_type": "markdown",
   "id": "d932cd37-6880-4999-81ca-8f145bba319e",
   "metadata": {},
   "source": [
    "Now we can run the script"
   ]
  },
  {
   "cell_type": "code",
   "execution_count": null,
   "id": "bd81de60-e11b-4cde-80df-cde6e233b0ba",
   "metadata": {
    "tags": []
   },
   "outputs": [],
   "source": [
    "! lmp_serial -in lammps.in"
   ]
  },
  {
   "cell_type": "markdown",
   "id": "a0319725-c56a-4ee2-be25-16a8a3f238a0",
   "metadata": {},
   "source": [
    "We can read in the output we need, from `stress.dat`"
   ]
  },
  {
   "cell_type": "code",
   "execution_count": null,
   "id": "8a753f86-5958-4af0-80dd-9b888b96bcf3",
   "metadata": {},
   "outputs": [],
   "source": [
    "import numpy as np\n",
    "import matplotlib.pyplot as plt"
   ]
  },
  {
   "cell_type": "code",
   "execution_count": null,
   "id": "f38b35cc-dfe8-4e74-b9c7-f668b7a1bfc7",
   "metadata": {},
   "outputs": [],
   "source": [
    "lx, sigma11, sigma22 = np.loadtxt(\"stress.dat\", unpack=True)"
   ]
  },
  {
   "cell_type": "markdown",
   "id": "e3c6e46e-13e8-4a59-98fb-c27dc5d3999a",
   "metadata": {},
   "source": [
    "The first thing to do to look at our data is to convert the simulation box dimension along x to strain. The value at position 0, `lx[0]` is the undeformed box dimension. Thus, the strain is given as,"
   ]
  },
  {
   "cell_type": "code",
   "execution_count": null,
   "id": "5b8ebae0-05d2-48e9-bbcd-a16767045e8a",
   "metadata": {},
   "outputs": [],
   "source": [
    "strain = (lx -lx[0])/lx"
   ]
  },
  {
   "cell_type": "markdown",
   "id": "6d13ad22-5057-4922-970a-70a6aa0db8a3",
   "metadata": {},
   "source": [
    "Great! Now we can see the stress values that we calculated,"
   ]
  },
  {
   "cell_type": "code",
   "execution_count": null,
   "id": "33b21464-73cc-47a2-818e-9275c7e080d7",
   "metadata": {},
   "outputs": [],
   "source": [
    "sigma11"
   ]
  },
  {
   "cell_type": "markdown",
   "id": "65ec3d69-8a18-4d37-8770-1b909a1fb2b7",
   "metadata": {
    "tags": []
   },
   "source": [
    "The first thing to notice is that the values are negative. Since we are calculating the pressure, the negative sign just indicates that the simulation box wants to contract. The values are in bar, so to convert to GPa, it is multiplied with 0.0001"
   ]
  },
  {
   "cell_type": "code",
   "execution_count": null,
   "id": "a30829a0-1769-4021-84ae-be94b9aa8de1",
   "metadata": {},
   "outputs": [],
   "source": [
    "sigma11 = -1*0.0001*sigma11\n",
    "sigma22 = -1*0.0001*sigma22"
   ]
  },
  {
   "cell_type": "markdown",
   "id": "166943f0-ee95-4f2e-93d7-1ca334491c51",
   "metadata": {},
   "source": [
    "Now we can plot the strain versus the stress."
   ]
  },
  {
   "cell_type": "code",
   "execution_count": null,
   "id": "35680027-88ee-486f-bf97-fcc20579354a",
   "metadata": {},
   "outputs": [],
   "source": [
    "plt.plot(strain, sigma11, '-', label=r\"$\\sigma_{11}$\")\n",
    "plt.plot(strain, sigma22, '-', label=r\"$\\sigma_{22}$\")\n",
    "plt.xlabel(r\"$\\epsilon$\");\n",
    "plt.ylabel(r\"$\\sigma$ GPa\");"
   ]
  },
  {
   "cell_type": "markdown",
   "id": "a0161c50-ed8b-4035-8195-06956d15e7ff",
   "metadata": {},
   "source": [
    "The slope of $\\sigma_{11}-\\epsilon_{11}$ and $\\sigma_{22}-\\epsilon_{11}$ will give $C_{11}$ and $C_{12}$ respectively. To calculate the slope, we can fit a straight line using numpy. We can use the `polyfit` function for that. `polyfit` stands for polynomial fit, and we need to provide an order of fit."
   ]
  },
  {
   "cell_type": "code",
   "execution_count": null,
   "id": "e59384d0-da50-4821-97d3-a6464d04d381",
   "metadata": {},
   "outputs": [],
   "source": [
    "np.polyfit(strain, sigma11, 1)"
   ]
  },
  {
   "cell_type": "markdown",
   "id": "0f1966d0-a688-431d-b6c6-bd9c729e22e0",
   "metadata": {},
   "source": [
    "The function above fits it to $y = m*x + c$, the output is the slope, $m$ and the intercept $c$. Therefore the Youngs modulus is 105 GPa. The expected value would be 118 GPa, so our estimate is fairly close."
   ]
  },
  {
   "cell_type": "markdown",
   "id": "e0d9cd53-522d-4b04-8879-932b81a22bbd",
   "metadata": {},
   "source": [
    "<div class=\"admonition note\" name=\"html-admonition\" style=\"background: #FFEDD1; padding: 10px\">\n",
    "<p class=\"title\"><b>Task</b></p>\n",
    "Calculate C12\n",
    "</div>"
   ]
  },
  {
   "cell_type": "markdown",
   "id": "9e305379-ea03-4e38-a7d8-cdb329cf1d9e",
   "metadata": {},
   "source": [
    "We successfully managed to calculate the elastic constants. However, there were a number of things we had to do or know:\n",
    "\n",
    "- How to write LAMMPS script\n",
    "- Interatomic potential file\n",
    "\n",
    "Additionally, we ran LAMMPS from the terminal, then took the results file, and post-processed it with python. These workflows come with a number of risks which affect the reproducibility. Also, how can we be sure that we ourselves can understand and interpret these calculations as time goes by. \n",
    "\n",
    "- We need to organise folders and files ourselves (possibly with a naming convention)\n",
    "- We need to be able to look into the LAMMPS file and understand the input quantities.\n",
    "- We need to save the python script for the analysis we did.\n",
    "- ..\n",
    "\n",
    "This is where workflow environments come in. Workflow environments automate a number of these tasks and make it easy for you to focus on the science. One such workflow environment in pyiron. Now we will do the same calculation using pyiron."
   ]
  },
  {
   "cell_type": "code",
   "execution_count": null,
   "id": "cb444682-1c13-42b9-91e0-d818a80c1071",
   "metadata": {},
   "outputs": [],
   "source": [
    "from pyiron import Project"
   ]
  },
  {
   "cell_type": "markdown",
   "id": "c2b74230-2072-4d3c-8e15-181eefd3c2da",
   "metadata": {},
   "source": [
    "The Project object introduced below is central in pyiron. You can imagine it to be equivalent to the current scientific project you are working on. In this case, we will call it `Al_elastic_constant`"
   ]
  },
  {
   "cell_type": "code",
   "execution_count": null,
   "id": "e9adabbf-6f45-4a63-bd0e-b86a7cd2c3c9",
   "metadata": {},
   "outputs": [],
   "source": [
    "project = Project(\"Al_elastic_constant\")"
   ]
  },
  {
   "cell_type": "markdown",
   "id": "7d3b0bd4-a3e7-4866-96dc-c0daf183749c",
   "metadata": {},
   "source": [
    "The next major object in pyiron is `Job`. A Job is a class designed to do a particular task at hand. pyiron comes with a lot of pre-built jobs. However, it is also easy to create your own."
   ]
  },
  {
   "cell_type": "markdown",
   "id": "06cdd67f-c077-4b09-b115-3d8572d7c0c5",
   "metadata": {},
   "source": [
    "In this case we will use a job for calculating elastic constants. You can always press `Tab` key for autocompletion to see what options are possible. Now we create a LAMMPS job."
   ]
  },
  {
   "cell_type": "code",
   "execution_count": null,
   "id": "124fcacd-51a2-4c92-9057-c92f89a7261e",
   "metadata": {},
   "outputs": [],
   "source": [
    "job = project.create.job.Lammps(\"job_1\")"
   ]
  },
  {
   "cell_type": "markdown",
   "id": "dac003ae-7a6d-48d8-9d16-68de3cbf46d2",
   "metadata": {},
   "source": [
    "First thing we need is a structure! pyiron also provides tools to create and visualise structures."
   ]
  },
  {
   "cell_type": "code",
   "execution_count": null,
   "id": "741d31b9-d4d4-43d0-84bf-af42031ef6b9",
   "metadata": {},
   "outputs": [],
   "source": [
    "structure = pr.create.structure.bulk('Al', cubic=True)"
   ]
  },
  {
   "cell_type": "code",
   "execution_count": null,
   "id": "1466da4a-54bf-4064-87c4-4b835cc40494",
   "metadata": {},
   "outputs": [],
   "source": [
    "structure.plot3d()"
   ]
  },
  {
   "cell_type": "markdown",
   "id": "03eac6ce-6cdc-4542-936d-9f69788a7aa5",
   "metadata": {},
   "source": [
    "We assign the structure to a job"
   ]
  },
  {
   "cell_type": "code",
   "execution_count": null,
   "id": "181d7b70-5fdd-45de-81b3-ea1d8dea7973",
   "metadata": {},
   "outputs": [],
   "source": [
    "job.structure = structure"
   ]
  },
  {
   "cell_type": "markdown",
   "id": "79f0183f-bdc0-4c4e-80e7-1f95c0a6786e",
   "metadata": {},
   "source": [
    "Next thing we need is an interatomic potential. We can check which potentials are available."
   ]
  },
  {
   "cell_type": "code",
   "execution_count": null,
   "id": "de355d33-d789-4b38-9763-c251d35cf089",
   "metadata": {
    "tags": []
   },
   "outputs": [],
   "source": [
    "job.list_potentials()"
   ]
  },
  {
   "cell_type": "markdown",
   "id": "50fd317d-1590-4877-971f-c3e46de5bfb4",
   "metadata": {},
   "source": [
    "There are a large number of potentials available for Al. We will select the same one as before. However, here we did not have to find the file, or consider how it is mapped into the LAMMPS input file."
   ]
  },
  {
   "cell_type": "code",
   "execution_count": null,
   "id": "1729210e-3659-48e8-8c1f-265e78e4b3c1",
   "metadata": {},
   "outputs": [],
   "source": [
    "job.potential = \"2008--Mendelev-M-I--Al--LAMMPS--ipr1\""
   ]
  },
  {
   "cell_type": "markdown",
   "id": "e70f28c1-6b99-4dde-8d50-39b85a8f7f23",
   "metadata": {},
   "source": [
    "As we discussed before, the first step is a relaxation or minimization. We will do the same here."
   ]
  },
  {
   "cell_type": "code",
   "execution_count": null,
   "id": "5fec8e6d-8b38-428e-a12b-5277216fde58",
   "metadata": {},
   "outputs": [],
   "source": [
    "job.calc_minimize()"
   ]
  },
  {
   "cell_type": "markdown",
   "id": "8ce3a811-b1d6-422a-8b76-75e84e69f009",
   "metadata": {},
   "source": [
    "Now we use the LAMMPS job as a reference, and now tell pyiron to calculate the elastic constants."
   ]
  },
  {
   "cell_type": "code",
   "execution_count": null,
   "id": "aad92021-0dec-4982-8bab-34bd32dbc977",
   "metadata": {},
   "outputs": [],
   "source": [
    "elastic_job = job.create_job(pr.job_type.ElasticMatrixJob, \"elastic_job\")"
   ]
  },
  {
   "cell_type": "markdown",
   "id": "1f90b44b-689f-421c-938f-a3f8490b54c9",
   "metadata": {},
   "source": [
    "We provide the input strain range, 0.001"
   ]
  },
  {
   "cell_type": "code",
   "execution_count": null,
   "id": "a1379965-6f8b-454e-802b-5143cc03a2af",
   "metadata": {},
   "outputs": [],
   "source": [
    "elastic_job.input[\"eps_range\"] = 0.001"
   ]
  },
  {
   "cell_type": "markdown",
   "id": "f68f75ec-66c8-48ea-97a0-8f472680f5eb",
   "metadata": {},
   "source": [
    "And finally call run"
   ]
  },
  {
   "cell_type": "code",
   "execution_count": null,
   "id": "717bbe7c-093a-426a-ada2-c1699668014e",
   "metadata": {},
   "outputs": [],
   "source": [
    "elastic_job.run()"
   ]
  },
  {
   "cell_type": "markdown",
   "id": "4560c010-9874-4c61-b12a-97310c2bdfcc",
   "metadata": {},
   "source": [
    "The `elastic_job` starts several other jobs automatically. Once it is finished, we can look at the results."
   ]
  },
  {
   "cell_type": "code",
   "execution_count": null,
   "id": "b5096f11-0d2e-4d2f-a27f-ee188b30c6ce",
   "metadata": {},
   "outputs": [],
   "source": [
    "elastic_job[\"output/elasticmatrix\"][\"C\"][0,0]"
   ]
  },
  {
   "cell_type": "markdown",
   "id": "2314ab0f-6d62-415b-915c-b7725d9e7774",
   "metadata": {},
   "source": [
    "You can see that we got very similar results. However, we could directly focus on the scientific aspects of the workflow. pyiron takes care of managing the folders, giving IDs to your jobs, and the post-processing automatically"
   ]
  },
  {
   "cell_type": "markdown",
   "id": "12f64a38-cd48-4081-9c18-886b4048d7d8",
   "metadata": {},
   "source": [
    "<div class=\"admonition note\" name=\"html-admonition\" style=\"background: #C9E4DE; padding: 10px\">\n",
    "<p class=\"title\"><b>Further reading..</b></p>\n",
    "<ul>    \n",
    "<li> <a href=\"http://micro.stanford.edu/wiki/M07_Computing_Elastic_Constants\">Calculation of elastic constants</a> </li>\n",
    "<li> <a href=\"https://lammps.sandia.gov/doc/Manual.html\">LAMMPS documentation</a> </li>\n",
    "<li> <a href=\"https://www.tandfonline.com/doi/abs/10.1080/14786430802206482\">EAM potential used in this notebook</a> </li>\n",
    "<li> <a href=\"https://pyiron.org\">pyiron</a> </li>\n",
    "</ul>    \n",
    "</div>"
   ]
  }
 ],
 "metadata": {
  "kernelspec": {
   "display_name": "Python 3 (ipykernel)",
   "language": "python",
   "name": "python3"
  },
  "language_info": {
   "codemirror_mode": {
    "name": "ipython",
    "version": 3
   },
   "file_extension": ".py",
   "mimetype": "text/x-python",
   "name": "python",
   "nbconvert_exporter": "python",
   "pygments_lexer": "ipython3",
   "version": "3.9.16"
  }
 },
 "nbformat": 4,
 "nbformat_minor": 5
}
