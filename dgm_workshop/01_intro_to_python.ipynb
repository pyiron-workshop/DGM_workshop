{
 "cells": [
  {
   "cell_type": "markdown",
   "id": "2676ddaa-f077-4934-a360-6e5e672ce2e2",
   "metadata": {},
   "source": [
    "# <font style=\"font-family:roboto;color:#455e6c\"> Data analysis and workflows in Materials science </font>  "
   ]
  },
  {
   "cell_type": "markdown",
   "id": "150c4306-adba-4a06-ac10-ea5b0b13047a",
   "metadata": {},
   "source": [
    "## <font style=\"font-family:roboto;color:#455e6c\"> Part I: Introduction to Python </font>  "
   ]
  },
  {
   "cell_type": "markdown",
   "id": "68488ada-ac3e-4814-bf64-f709cb024289",
   "metadata": {},
   "source": [
    "### Why do you need python for data analysis?\n",
    "\n",
    "- **Easy to learn**: clean and simple, easy to read, inituitive. You will start writing code in about 1 minute..\n",
    "- **Reproducibility**: writing automated scripts to analyse data ensures reproducibility. \n",
    "- **Versatile and extensible**: A number of useful libraries for scientific computing and data analysis such as numpy, scipy, matplotlib, pandas and modules for data science.\n",
    "- However much slower than C++ and FORTRAN"
   ]
  },
  {
   "cell_type": "markdown",
   "id": "2801dc53-a67d-4616-85a0-393a666da582",
   "metadata": {},
   "source": [
    "### The Jupyter Notebook\n",
    "\n",
    "* interactive editor for Python (and other languages)\n",
    "\n",
    "#### Some useful shortcuts\n",
    "\n",
    "* `Enter` on a cell to edit it\n",
    "* `Esc` to stop editing\n",
    "* `Alt+Enter` to execute cell\n",
    "* `A` to insert cell above\n",
    "* `B` to insert cell below"
   ]
  },
  {
   "cell_type": "markdown",
   "id": "a1142562-d501-4963-afc8-db1ea52c97b9",
   "metadata": {},
   "source": [
    "### Typing code"
   ]
  },
  {
   "cell_type": "code",
   "execution_count": 1,
   "id": "c4179300-dfa6-4ec1-9ce0-fd5d8eb2acfa",
   "metadata": {
    "tags": []
   },
   "outputs": [],
   "source": [
    "# You can put comments by putting \"#\" first"
   ]
  },
  {
   "cell_type": "markdown",
   "id": "4aa0a66e-bde8-4a77-b5de-1c5dbb723f13",
   "metadata": {},
   "source": [
    "You can print by,"
   ]
  },
  {
   "cell_type": "code",
   "execution_count": 3,
   "id": "6fc8c099-e903-45fa-bc9a-3c19805dd16f",
   "metadata": {},
   "outputs": [
    {
     "name": "stdout",
     "output_type": "stream",
     "text": [
      "Hello, World!\n"
     ]
    }
   ],
   "source": [
    "print(\"Hello, World!\")"
   ]
  },
  {
   "cell_type": "markdown",
   "id": "b247dafe-9d1c-43f9-81e0-5d473f88cb09",
   "metadata": {},
   "source": [
    "Indentation is important!</br>  \n",
    "This works -"
   ]
  },
  {
   "cell_type": "code",
   "execution_count": 6,
   "id": "14ee66c2-7639-4c9b-9cff-6da0b3068eda",
   "metadata": {},
   "outputs": [
    {
     "name": "stdout",
     "output_type": "stream",
     "text": [
      "Five is greater than two!\n"
     ]
    }
   ],
   "source": [
    "if 5 > 2:\n",
    "    print(\"Five is greater than two!\")"
   ]
  },
  {
   "cell_type": "markdown",
   "id": "11ed7072-64f1-40ad-a75f-ad18f89e29b2",
   "metadata": {},
   "source": [
    "This does not-"
   ]
  },
  {
   "cell_type": "code",
   "execution_count": 4,
   "id": "1356266e-1e53-4320-a4c2-b7d9f0cb86c6",
   "metadata": {},
   "outputs": [
    {
     "ename": "IndentationError",
     "evalue": "expected an indented block (<ipython-input-4-a314491c53bb>, line 2)",
     "output_type": "error",
     "traceback": [
      "\u001b[1;36m  File \u001b[1;32m\"<ipython-input-4-a314491c53bb>\"\u001b[1;36m, line \u001b[1;32m2\u001b[0m\n\u001b[1;33m    print(\"Five is greater than two!\")\u001b[0m\n\u001b[1;37m        ^\u001b[0m\n\u001b[1;31mIndentationError\u001b[0m\u001b[1;31m:\u001b[0m expected an indented block\n"
     ]
    }
   ],
   "source": [
    "if 5 > 2:\n",
    "print(\"Five is greater than two!\")"
   ]
  },
  {
   "cell_type": "markdown",
   "id": "7e4289ab-21de-4b23-8dcb-3a2c7e46c90b",
   "metadata": {},
   "source": [
    "### Variables in python"
   ]
  },
  {
   "cell_type": "markdown",
   "id": "c53eaef1-3427-452b-9eaf-963ecbb0717c",
   "metadata": {},
   "source": [
    "Python has five standard data types- </br>\n",
    "\n",
    "* Number - integer, float, long, complex, boolean\n",
    "* string\n",
    "* list\n",
    "* tuple\n",
    "* dictionary\n",
    "\n",
    "Variables can have any names, except for reserved python names such as `class, def, lambda, int` etc"
   ]
  },
  {
   "cell_type": "markdown",
   "id": "cc312122-49a3-4123-9902-8fb11d316be0",
   "metadata": {},
   "source": [
    "Python directly guesses the data type of the variable."
   ]
  },
  {
   "cell_type": "code",
   "execution_count": 20,
   "id": "c862c2a2-c510-42f0-8fec-543dc256f9e6",
   "metadata": {
    "tags": []
   },
   "outputs": [
    {
     "name": "stdout",
     "output_type": "stream",
     "text": [
      "Ada Lovelace 1 1.23 True <class 'bool'>\n"
     ]
    }
   ],
   "source": [
    "# Examples\n",
    "name = \"Ada Lovelace\"\n",
    "a = 1\n",
    "b = 1.23\n",
    "c = True\n",
    "d = type(c)\n",
    "\n",
    "print(name, a, b, c, d)"
   ]
  },
  {
   "cell_type": "markdown",
   "id": "36e1ebef-46f6-4184-b14f-03f803a0cd7a",
   "metadata": {
    "tags": []
   },
   "source": [
    "<div class=\"admonition note\" name=\"html-admonition\" style=\"background: #FFEDD1; padding: 10px\">\n",
    "<p class=\"title\"><b>Task</b></p>\n",
    "Exchange the value of two variables\n",
    "\n",
    "x = 5  \n",
    "y = 2\n",
    "\n",
    "to,\n",
    "\n",
    "x = 2  \n",
    "y = 5\n",
    "</div>"
   ]
  },
  {
   "cell_type": "markdown",
   "id": "7e8a662d-7f66-46ce-b1af-65232990b34c",
   "metadata": {},
   "source": [
    "### Sequences"
   ]
  },
  {
   "cell_type": "markdown",
   "id": "d82bb7dd-0c23-4f88-9e7c-58547cbafbd5",
   "metadata": {},
   "source": [
    "**Lists**"
   ]
  },
  {
   "cell_type": "code",
   "execution_count": 22,
   "id": "1347ac14-fea1-4153-b3f4-0c330fb65831",
   "metadata": {
    "tags": []
   },
   "outputs": [],
   "source": [
    "numbers = [1, 2, 3, 4]\n",
    "numbers = [1, 2, 3, 'four', True]"
   ]
  },
  {
   "cell_type": "code",
   "execution_count": 24,
   "id": "ad78c5de-2b33-4cbb-bca3-e6d09afea055",
   "metadata": {
    "tags": []
   },
   "outputs": [
    {
     "data": {
      "text/plain": [
       "1"
      ]
     },
     "execution_count": 24,
     "metadata": {},
     "output_type": "execute_result"
    }
   ],
   "source": [
    "numbers[0]"
   ]
  },
  {
   "cell_type": "code",
   "execution_count": 25,
   "id": "c01e5957-64e9-4e07-8f32-cc7563a702b5",
   "metadata": {
    "tags": []
   },
   "outputs": [
    {
     "data": {
      "text/plain": [
       "True"
      ]
     },
     "execution_count": 25,
     "metadata": {},
     "output_type": "execute_result"
    }
   ],
   "source": [
    "numbers[-1]"
   ]
  },
  {
   "cell_type": "code",
   "execution_count": 29,
   "id": "8d951d45-2f3f-42d9-84d5-d1e754b660c3",
   "metadata": {
    "tags": []
   },
   "outputs": [
    {
     "data": {
      "text/plain": [
       "5"
      ]
     },
     "execution_count": 29,
     "metadata": {},
     "output_type": "execute_result"
    }
   ],
   "source": [
    "len(numbers)"
   ]
  },
  {
   "cell_type": "markdown",
   "id": "81746519-893e-4e16-9cc2-1f2ae87c903a",
   "metadata": {},
   "source": [
    "**Tuples**"
   ]
  },
  {
   "cell_type": "code",
   "execution_count": 26,
   "id": "c73490b9-e785-42db-bac9-af902244ee98",
   "metadata": {
    "tags": []
   },
   "outputs": [],
   "source": [
    "numbers = (1, 2, 3, 4)\n",
    "numbers = (1, 2, 3, 'four', True)"
   ]
  },
  {
   "cell_type": "markdown",
   "id": "658efdbf-789c-4f3c-9a62-4f06f5ce2447",
   "metadata": {
    "tags": []
   },
   "source": [
    "<div class=\"admonition note\" name=\"html-admonition\" style=\"background: #FFEDD1; padding: 10px\">\n",
    "<p class=\"title\"><b>Task</b></p>\n",
    "What is the difference between list and tuples?\n",
    "\n",
    "a_list = [1,2,3,4]  \n",
    "a_tuple = (1,2,3,4)\n",
    "\n",
    "try to change the first element of both to 'one'\n",
    "\n",
    "a_list[0] = 'one'\n",
    "</div>"
   ]
  },
  {
   "cell_type": "markdown",
   "id": "8e98583f-9e1b-470c-8b37-6c8eea648cfc",
   "metadata": {},
   "source": [
    "### Operations\n",
    "\n",
    "#### Arithmetic operations: `+`, `-`, `*`, `/`, `%`, `**`, `//`"
   ]
  },
  {
   "cell_type": "code",
   "execution_count": 31,
   "id": "8b4a5aa7-02c2-4cdd-9401-e79a00340063",
   "metadata": {
    "tags": []
   },
   "outputs": [],
   "source": [
    "a = 2\n",
    "b = 3"
   ]
  },
  {
   "cell_type": "code",
   "execution_count": 32,
   "id": "6affa066-17ec-4da5-b3ac-f29e88a38798",
   "metadata": {
    "tags": []
   },
   "outputs": [
    {
     "data": {
      "text/plain": [
       "(5, -1)"
      ]
     },
     "execution_count": 32,
     "metadata": {},
     "output_type": "execute_result"
    }
   ],
   "source": [
    "a+b, a-b"
   ]
  },
  {
   "cell_type": "code",
   "execution_count": 33,
   "id": "bc1cf889-1de5-418b-bac2-8fdb1d59bc30",
   "metadata": {
    "tags": []
   },
   "outputs": [
    {
     "data": {
      "text/plain": [
       "(6, 8)"
      ]
     },
     "execution_count": 33,
     "metadata": {},
     "output_type": "execute_result"
    }
   ],
   "source": [
    "a*b, a**b"
   ]
  },
  {
   "cell_type": "code",
   "execution_count": 34,
   "id": "f0c017c2-3bc2-452e-aeda-86c48f99aae6",
   "metadata": {
    "tags": []
   },
   "outputs": [
    {
     "data": {
      "text/plain": [
       "(0.6666666666666666, 0)"
      ]
     },
     "execution_count": 34,
     "metadata": {},
     "output_type": "execute_result"
    }
   ],
   "source": [
    "a/b, a//b"
   ]
  },
  {
   "cell_type": "code",
   "execution_count": 35,
   "id": "c6193bd7-80dd-4c95-9326-e4c854e0126f",
   "metadata": {
    "tags": []
   },
   "outputs": [
    {
     "data": {
      "text/plain": [
       "2"
      ]
     },
     "execution_count": 35,
     "metadata": {},
     "output_type": "execute_result"
    }
   ],
   "source": [
    "a%b"
   ]
  },
  {
   "cell_type": "markdown",
   "id": "07c1d28d-ed60-4e67-bea8-2254d54e8b9f",
   "metadata": {},
   "source": [
    "#### Comparison operators - `==`, `!=`, `>`, `<`, `>=`, `<=`"
   ]
  },
  {
   "cell_type": "code",
   "execution_count": 36,
   "id": "a48bc0a5-8842-4408-b585-9410297f186d",
   "metadata": {
    "tags": []
   },
   "outputs": [
    {
     "data": {
      "text/plain": [
       "True"
      ]
     },
     "execution_count": 36,
     "metadata": {},
     "output_type": "execute_result"
    }
   ],
   "source": [
    "a == 2"
   ]
  },
  {
   "cell_type": "markdown",
   "id": "2635f052-a931-440e-89f4-6f128cca3e6d",
   "metadata": {},
   "source": [
    "#### Logical and identity operators - `in`, `not in`, `is`, `is not`, `and`, `or`, `not`"
   ]
  },
  {
   "cell_type": "code",
   "execution_count": 37,
   "id": "e8967a82-1cd0-40c8-8e3c-57ce77c9be4a",
   "metadata": {
    "tags": []
   },
   "outputs": [
    {
     "data": {
      "text/plain": [
       "True"
      ]
     },
     "execution_count": 37,
     "metadata": {},
     "output_type": "execute_result"
    }
   ],
   "source": [
    "a in [1, 2, 3, 4]"
   ]
  },
  {
   "cell_type": "markdown",
   "id": "83006b3a-86e1-4acd-ac5c-6b5547ccdfa3",
   "metadata": {},
   "source": [
    "<div class=\"admonition note\" name=\"html-admonition\" style=\"background: #FFEDD1; padding: 10px\">\n",
    "<p class=\"title\"><b>Task</b></p>\n",
    "What is the difference between between \"==\" and \"is\"?\n",
    "\n",
    "a = 500\n",
    "b = 500\n",
    "\n",
    "check the values of \"a == b\" and \"a is b\"\n",
    "</div>"
   ]
  },
  {
   "cell_type": "markdown",
   "id": "06f8ae2d-c97c-48cd-ab51-498c9a0555f9",
   "metadata": {
    "tags": []
   },
   "source": [
    "#### Dictionaries"
   ]
  },
  {
   "cell_type": "markdown",
   "id": "1d384140-d675-4c8c-bea0-2e99b94ef18d",
   "metadata": {},
   "source": [
    "A dictionary can be used for storing heterogeneous data and has a key and corresponding entry. It can be defined by"
   ]
  },
  {
   "cell_type": "code",
   "execution_count": 38,
   "id": "a6f888e1-e796-464c-8000-59ab54c58bb3",
   "metadata": {
    "tags": []
   },
   "outputs": [],
   "source": [
    "person = {\"name\": \"Maria\", \"age\": 34, \"telephone\": 23458991 }"
   ]
  },
  {
   "cell_type": "code",
   "execution_count": 39,
   "id": "def1062c-daa7-418b-81fe-c3685d320864",
   "metadata": {
    "tags": []
   },
   "outputs": [
    {
     "data": {
      "text/plain": [
       "dict_keys(['name', 'age', 'telephone'])"
      ]
     },
     "execution_count": 39,
     "metadata": {},
     "output_type": "execute_result"
    }
   ],
   "source": [
    "person.keys()"
   ]
  },
  {
   "cell_type": "code",
   "execution_count": 40,
   "id": "9330cf69-552c-4be2-a4c9-874a63e8f9ef",
   "metadata": {
    "tags": []
   },
   "outputs": [
    {
     "data": {
      "text/plain": [
       "dict_items([('name', 'Maria'), ('age', 34), ('telephone', 23458991)])"
      ]
     },
     "execution_count": 40,
     "metadata": {},
     "output_type": "execute_result"
    }
   ],
   "source": [
    "person.items()"
   ]
  },
  {
   "cell_type": "markdown",
   "id": "4c5a5602-8e19-4bc3-a4c1-514b9635c6db",
   "metadata": {},
   "source": [
    "### Control flows"
   ]
  },
  {
   "cell_type": "markdown",
   "id": "5d6267bf-7166-4198-b634-e8d457c60060",
   "metadata": {},
   "source": [
    "**`if`, `else` and `elif`**"
   ]
  },
  {
   "cell_type": "code",
   "execution_count": 42,
   "id": "d04a67ca-9adb-430a-b7ee-ceb12d7284f0",
   "metadata": {
    "tags": []
   },
   "outputs": [
    {
     "name": "stdout",
     "output_type": "stream",
     "text": [
      "high\n"
     ]
    }
   ],
   "source": [
    "x = 3.5\n",
    "if x <= 1.0:\n",
    "    print(\"low\")\n",
    "elif (x > 1.0) and (x < 3.0):\n",
    "    print(\"average\")\n",
    "elif (x >= 3.0):\n",
    "    print(\"high\")\n",
    "else:\n",
    "    print(\"invalid\")"
   ]
  },
  {
   "cell_type": "markdown",
   "id": "4f5de09a-7d4e-4007-9e18-94572b7d25d5",
   "metadata": {},
   "source": [
    "**`for`** loops"
   ]
  },
  {
   "cell_type": "code",
   "execution_count": 43,
   "id": "d0776629-088f-4ee3-9695-1adf648683cf",
   "metadata": {
    "tags": []
   },
   "outputs": [],
   "source": [
    "x = [1,2,3,4,5]"
   ]
  },
  {
   "cell_type": "code",
   "execution_count": 44,
   "id": "799966d7-9faf-4a91-84aa-6bd515993833",
   "metadata": {
    "tags": []
   },
   "outputs": [
    {
     "name": "stdout",
     "output_type": "stream",
     "text": [
      "4\n",
      "7\n",
      "12\n",
      "19\n",
      "28\n"
     ]
    }
   ],
   "source": [
    "for i in x:\n",
    "    y = i**2 + 3\n",
    "    print(y)"
   ]
  },
  {
   "cell_type": "markdown",
   "id": "aa2580de-d1b0-4aee-8df8-a337064d5066",
   "metadata": {},
   "source": [
    "**Controlling loops with `break` and `continue`**"
   ]
  },
  {
   "cell_type": "markdown",
   "id": "7333867a-4659-4101-b62e-017f3539f157",
   "metadata": {},
   "source": [
    "Find first three even numbers up to 10"
   ]
  },
  {
   "cell_type": "code",
   "execution_count": 45,
   "id": "8a49c68d-9ec0-4d6b-ae29-7f67e1b2ef4d",
   "metadata": {
    "tags": []
   },
   "outputs": [],
   "source": [
    "even_numbers = []\n",
    "for n in range(1, 10):\n",
    "    #if its odd\n",
    "    if (n%2) != 0:\n",
    "        continue\n",
    "    even_numbers.append(n)\n",
    "    if len(even_numbers) == 3:\n",
    "        break"
   ]
  },
  {
   "cell_type": "code",
   "execution_count": 46,
   "id": "4e727769-4648-4339-9281-55eb98d91e2f",
   "metadata": {
    "tags": []
   },
   "outputs": [
    {
     "data": {
      "text/plain": [
       "[2, 4, 6]"
      ]
     },
     "execution_count": 46,
     "metadata": {},
     "output_type": "execute_result"
    }
   ],
   "source": [
    "even_numbers"
   ]
  },
  {
   "cell_type": "markdown",
   "id": "00f87e20-6b2d-469f-8aad-124c56a38c6a",
   "metadata": {},
   "source": [
    "<div class=\"admonition note\" name=\"html-admonition\" style=\"background: #FFEDD1; padding: 10px\">\n",
    "<p class=\"title\"><b>Task</b></p>\n",
    "Write a loop which calculates first 6 terms of the Fibonacci sequence\n",
    "\n",
    "term1 = 0  \n",
    "term2 = 1\n",
    "    \n",
    "for x in range..\n",
    "</div>"
   ]
  },
  {
   "cell_type": "markdown",
   "id": "2d412549-5647-4a01-9067-5b6690360762",
   "metadata": {},
   "source": [
    "### Functions"
   ]
  },
  {
   "cell_type": "markdown",
   "id": "82730f6d-808b-4070-9c09-2c2d431b1cb1",
   "metadata": {},
   "source": [
    "Functions are an integral part of any programming language. A function is used to take some values, do a task and return the required information."
   ]
  },
  {
   "cell_type": "code",
   "execution_count": null,
   "id": "2e3c1800-4719-4064-9d2b-c511c71f59f7",
   "metadata": {},
   "outputs": [],
   "source": [
    "def add_numbers(x, y):\n",
    "    \"\"\"\n",
    "    adds two numbers\n",
    "    \"\"\"\n",
    "    s = x+y\n",
    "    return s"
   ]
  },
  {
   "cell_type": "code",
   "execution_count": null,
   "id": "05196791-ea11-4bc4-ab59-e8d164ac7cf2",
   "metadata": {},
   "outputs": [],
   "source": [
    "add_numbers(2, 3)"
   ]
  },
  {
   "cell_type": "markdown",
   "id": "2b604c68-6904-4224-8d55-72fe33716279",
   "metadata": {},
   "source": [
    "The above function uses two values as input, `x` and `y`. They are the **arguments** of the function. It returns a calculated value `s`, which is the **return value**. A function can also not retun any values, or have **keyword arguments**."
   ]
  },
  {
   "cell_type": "code",
   "execution_count": 47,
   "id": "c5abde2f-a52f-432a-a40d-676d79740258",
   "metadata": {
    "tags": []
   },
   "outputs": [],
   "source": [
    "def add_numbers(x, y=3):\n",
    "    \"\"\"\n",
    "    adds two numbers\n",
    "    \"\"\"\n",
    "    s = x+y\n",
    "    return s"
   ]
  },
  {
   "cell_type": "code",
   "execution_count": null,
   "id": "2c3e0ed2-a840-471a-875c-9e14b6b3d5f5",
   "metadata": {},
   "outputs": [],
   "source": [
    "add_numbers(2), add_numbers(2, y=4)"
   ]
  },
  {
   "cell_type": "markdown",
   "id": "ac24f826-008b-4bc3-a2cd-ef605f091186",
   "metadata": {},
   "source": [
    "<div class=\"admonition note\" name=\"html-admonition\" style=\"background: #FFEDD1; padding: 10px\">\n",
    "<p class=\"title\"><b>Task</b></p>\n",
    "Convert the code you wrote for Fibonacci sequence to a function\n",
    "</div>"
   ]
  },
  {
   "cell_type": "markdown",
   "id": "56dd21c9-f5cb-4d6e-8920-41dd06a5e066",
   "metadata": {},
   "source": [
    "### Classes"
   ]
  },
  {
   "cell_type": "markdown",
   "id": "c02d9876-cf6e-43f5-a9e0-898c5063c70c",
   "metadata": {},
   "source": [
    "`Class` defines an object and attaches several and attributes and functions to it. Let us build a very simple example. A circle can be defined by its radius, from which other attributes can be derived such as circumference and area. \n",
    "\n",
    "Before we start, its beneficial to think what attributes a class `Circle` might/should have. You can have class attributes and associated functions. A good example of an attribute for example, is `radius`. An associated function could be `calculate_area`, which would calculate the area of the circle since we know the `radius` already."
   ]
  },
  {
   "cell_type": "code",
   "execution_count": 48,
   "id": "1fdf91e8-3339-40f3-b0d8-a35763c38035",
   "metadata": {
    "tags": []
   },
   "outputs": [],
   "source": [
    "class Circle:\n",
    "    \"\"\"\n",
    "    Circle class to hold properties of a circle\n",
    "    \"\"\"\n",
    "    def __init__(self, radius=None):\n",
    "        \n",
    "        self.radius        = radius\n",
    "        #other variables are set to None\n",
    "        self.area          = None\n",
    "        self.circumference = None\n",
    "    \n",
    "    def get_area(self):\n",
    "        \"\"\"\n",
    "        Calculate area\n",
    "        \"\"\"\n",
    "        self.area = np.pi * self.radius**2\n",
    "\n",
    "    def get_circumference(self):\n",
    "        \"\"\"\n",
    "        Calculate circumference\n",
    "        \"\"\"\n",
    "        self.circumference = 2.0 * np.pi * self.radius"
   ]
  },
  {
   "cell_type": "code",
   "execution_count": 5,
   "id": "520a0cd0-4c5a-4a1e-a03d-2d7a8f6ec8f8",
   "metadata": {},
   "outputs": [],
   "source": [
    "small_circle = Circle(radius=8)"
   ]
  },
  {
   "cell_type": "code",
   "execution_count": 6,
   "id": "13275290-7775-403a-a02c-b83efadebb4f",
   "metadata": {},
   "outputs": [],
   "source": [
    "big_circle = Circle(radius=24)"
   ]
  },
  {
   "cell_type": "markdown",
   "id": "a9906d3a-8228-47c0-8e3f-8f69b78b91d9",
   "metadata": {},
   "source": [
    "Calculate the area and circumference of the Circle"
   ]
  },
  {
   "cell_type": "code",
   "execution_count": 7,
   "id": "ef79d3c0-975e-4ad5-be1c-8a71487fd3ba",
   "metadata": {},
   "outputs": [],
   "source": [
    "small_circle.get_area()\n",
    "small_circle.get_circumference()"
   ]
  },
  {
   "cell_type": "markdown",
   "id": "103b8b05-8ec4-4100-beb8-513a15244fed",
   "metadata": {},
   "source": [
    "You can access the class attributes through its object"
   ]
  },
  {
   "cell_type": "code",
   "execution_count": 8,
   "id": "a9df63ac-316d-4bf9-a41c-44e88f06f53e",
   "metadata": {},
   "outputs": [
    {
     "data": {
      "text/plain": [
       "201.06192982974676"
      ]
     },
     "execution_count": 8,
     "metadata": {},
     "output_type": "execute_result"
    }
   ],
   "source": [
    "small_circle.area"
   ]
  },
  {
   "cell_type": "code",
   "execution_count": 9,
   "id": "2a8a371c-19d6-4962-8a23-961f49be4ac3",
   "metadata": {},
   "outputs": [
    {
     "data": {
      "text/plain": [
       "50.26548245743669"
      ]
     },
     "execution_count": 9,
     "metadata": {},
     "output_type": "execute_result"
    }
   ],
   "source": [
    "small_circle.circumference"
   ]
  },
  {
   "cell_type": "code",
   "execution_count": 10,
   "id": "0bd6217b-7771-4e62-9016-76ad873091c4",
   "metadata": {},
   "outputs": [
    {
     "data": {
      "text/plain": [
       "8"
      ]
     },
     "execution_count": 10,
     "metadata": {},
     "output_type": "execute_result"
    }
   ],
   "source": [
    "small_circle.radius"
   ]
  },
  {
   "cell_type": "markdown",
   "id": "f065f25b-6ad3-47df-87ec-f7c2e0c35695",
   "metadata": {},
   "source": [
    "## Using libraries"
   ]
  },
  {
   "cell_type": "markdown",
   "id": "51dffab7-2071-44ca-9a68-56c63a7bcc1f",
   "metadata": {},
   "source": [
    "The major strength of the python ecosystem are libraries. Python provides a number of libraries which a person can import and use. "
   ]
  },
  {
   "cell_type": "markdown",
   "id": "114a1300-4824-4014-96ce-06e067b9b1ec",
   "metadata": {},
   "source": [
    "### Numpy"
   ]
  },
  {
   "cell_type": "markdown",
   "id": "f2e7ad73-63ec-447f-9915-92f1a45466b1",
   "metadata": {},
   "source": [
    "Numpy offers a lot of useful tools for all aspects of science and statistics"
   ]
  },
  {
   "cell_type": "code",
   "execution_count": 15,
   "id": "d48920a0-4706-429a-a10a-d62c42fc3854",
   "metadata": {
    "collapsed": false,
    "jupyter": {
     "outputs_hidden": false
    }
   },
   "outputs": [],
   "source": [
    "import numpy as np"
   ]
  },
  {
   "cell_type": "markdown",
   "id": "8ca413f4-89e5-43a7-becb-6b36941d8cb0",
   "metadata": {},
   "source": [
    "Numpy arrays are faster and easier to handle - but they should be homogeneous!"
   ]
  },
  {
   "cell_type": "code",
   "execution_count": 16,
   "id": "f21a5e31-1a6e-4061-ac1d-f835091fe46c",
   "metadata": {},
   "outputs": [],
   "source": [
    "A = np.array([1,2,3,4,5,6]) "
   ]
  },
  {
   "cell_type": "markdown",
   "id": "8482fef9-6604-42db-a7c9-dc2fb898b3bc",
   "metadata": {},
   "source": [
    "**Mathematical operations on numpy arrays**\n",
    "\n",
    "Mathematical operations on numpy arrays are different from those on lists. They are vectorized."
   ]
  },
  {
   "cell_type": "code",
   "execution_count": 38,
   "id": "b3790e2e-e9fd-4de2-ac53-cb1a7a638d45",
   "metadata": {},
   "outputs": [
    {
     "data": {
      "text/plain": [
       "array([1., 1., 1.])"
      ]
     },
     "execution_count": 38,
     "metadata": {},
     "output_type": "execute_result"
    }
   ],
   "source": [
    "A = np.ones(3)\n",
    "A"
   ]
  },
  {
   "cell_type": "code",
   "execution_count": 39,
   "id": "0b90d10d-a315-4569-b3b8-f8898776c4cc",
   "metadata": {},
   "outputs": [
    {
     "data": {
      "text/plain": [
       "array([2., 2., 2.])"
      ]
     },
     "execution_count": 39,
     "metadata": {},
     "output_type": "execute_result"
    }
   ],
   "source": [
    "B = A + A\n",
    "B"
   ]
  },
  {
   "cell_type": "markdown",
   "id": "82999b71-b57e-4d21-bfd4-00262c400a98",
   "metadata": {},
   "source": [
    "The individual elements are added. But the lengths of course have to be same"
   ]
  },
  {
   "cell_type": "code",
   "execution_count": 40,
   "id": "b44f6361-c030-4555-b086-bbf87d78ad75",
   "metadata": {},
   "outputs": [
    {
     "data": {
      "text/plain": [
       "array([1.41421356, 1.41421356, 1.41421356])"
      ]
     },
     "execution_count": 40,
     "metadata": {},
     "output_type": "execute_result"
    }
   ],
   "source": [
    "C = np.sqrt(B)\n",
    "C"
   ]
  },
  {
   "cell_type": "code",
   "execution_count": 41,
   "id": "38332d15-914b-4361-ab57-87f0dc9d2cc9",
   "metadata": {},
   "outputs": [
    {
     "data": {
      "text/plain": [
       "array([4., 4., 4.])"
      ]
     },
     "execution_count": 41,
     "metadata": {},
     "output_type": "execute_result"
    }
   ],
   "source": [
    "D = B*B\n",
    "D"
   ]
  },
  {
   "cell_type": "markdown",
   "id": "a2d09893-1bb1-4d12-a7f9-cba5e04074a3",
   "metadata": {},
   "source": [
    "### Pandas"
   ]
  },
  {
   "cell_type": "markdown",
   "id": "546b31ac-497d-4207-888f-f9a6b149df52",
   "metadata": {},
   "source": [
    "Pandas or Python Data Analysis Library is one of the most useful tools for working with tabular data in python. The central aspect in pandas is a DataFrame. A DataFrame is a 2-dimensional data structure that can store data of different types. "
   ]
  },
  {
   "cell_type": "code",
   "execution_count": 49,
   "id": "1ccc8123-68ce-4d3a-811b-b5381b2d36c3",
   "metadata": {
    "tags": []
   },
   "outputs": [],
   "source": [
    "import pandas as pd"
   ]
  },
  {
   "cell_type": "markdown",
   "id": "92f1a82b-51a1-495e-b4f2-6e63769d8295",
   "metadata": {},
   "source": [
    "Use pandas to read a csv file"
   ]
  },
  {
   "cell_type": "code",
   "execution_count": 65,
   "id": "c5d4f21e-534c-46da-98af-065e6c353532",
   "metadata": {
    "tags": []
   },
   "outputs": [],
   "source": [
    "df = pd.read_csv(\"ti_alloy_data.csv\")"
   ]
  },
  {
   "cell_type": "code",
   "execution_count": 64,
   "id": "9d8dc4da-882b-4d0d-b454-1d4dbf218469",
   "metadata": {
    "collapsed": true,
    "jupyter": {
     "outputs_hidden": true
    },
    "tags": []
   },
   "outputs": [
    {
     "data": {
      "text/html": [
       "<div>\n",
       "<style scoped>\n",
       "    .dataframe tbody tr th:only-of-type {\n",
       "        vertical-align: middle;\n",
       "    }\n",
       "\n",
       "    .dataframe tbody tr th {\n",
       "        vertical-align: top;\n",
       "    }\n",
       "\n",
       "    .dataframe thead th {\n",
       "        text-align: right;\n",
       "    }\n",
       "</style>\n",
       "<table border=\"1\" class=\"dataframe\">\n",
       "  <thead>\n",
       "    <tr style=\"text-align: right;\">\n",
       "      <th></th>\n",
       "      <th>Ti</th>\n",
       "      <th>Cu</th>\n",
       "      <th>Publication</th>\n",
       "      <th>YM</th>\n",
       "      <th>Phase</th>\n",
       "    </tr>\n",
       "  </thead>\n",
       "  <tbody>\n",
       "    <tr>\n",
       "      <th>0</th>\n",
       "      <td>100.00</td>\n",
       "      <td>0.00</td>\n",
       "      <td>j.jmbbm.2010.06.007</td>\n",
       "      <td>105</td>\n",
       "      <td>Ti-alpha</td>\n",
       "    </tr>\n",
       "    <tr>\n",
       "      <th>1</th>\n",
       "      <td>96.19</td>\n",
       "      <td>3.81</td>\n",
       "      <td>10.1016/j.matdes.2013.10.050</td>\n",
       "      <td>115</td>\n",
       "      <td>Ti-alpha</td>\n",
       "    </tr>\n",
       "    <tr>\n",
       "      <th>2</th>\n",
       "      <td>94.56</td>\n",
       "      <td>5.44</td>\n",
       "      <td>10.1016/j.matdes.2013.10.050</td>\n",
       "      <td>118</td>\n",
       "      <td>Ti-alpha</td>\n",
       "    </tr>\n",
       "    <tr>\n",
       "      <th>3</th>\n",
       "      <td>88.27</td>\n",
       "      <td>11.73</td>\n",
       "      <td>10.1016/j.matdes.2013.10.050</td>\n",
       "      <td>120</td>\n",
       "      <td>Ti-alpha</td>\n",
       "    </tr>\n",
       "  </tbody>\n",
       "</table>\n",
       "</div>"
      ],
      "text/plain": [
       "       Ti     Cu                    Publication   YM      Phase\n",
       "0  100.00   0.00            j.jmbbm.2010.06.007  105   Ti-alpha\n",
       "1   96.19   3.81   10.1016/j.matdes.2013.10.050  115   Ti-alpha\n",
       "2   94.56   5.44   10.1016/j.matdes.2013.10.050  118   Ti-alpha\n",
       "3   88.27  11.73   10.1016/j.matdes.2013.10.050  120   Ti-alpha"
      ]
     },
     "execution_count": 64,
     "metadata": {},
     "output_type": "execute_result"
    }
   ],
   "source": [
    "df"
   ]
  },
  {
   "cell_type": "markdown",
   "id": "9bfbcfad-73ee-4e3d-8702-7ad60fd455b4",
   "metadata": {},
   "source": [
    "Some useful commands"
   ]
  },
  {
   "cell_type": "code",
   "execution_count": 52,
   "id": "d3df7300-83a2-4555-b16d-e81254979ad7",
   "metadata": {
    "collapsed": true,
    "jupyter": {
     "outputs_hidden": true
    },
    "tags": []
   },
   "outputs": [
    {
     "data": {
      "text/html": [
       "<div>\n",
       "<style scoped>\n",
       "    .dataframe tbody tr th:only-of-type {\n",
       "        vertical-align: middle;\n",
       "    }\n",
       "\n",
       "    .dataframe tbody tr th {\n",
       "        vertical-align: top;\n",
       "    }\n",
       "\n",
       "    .dataframe thead th {\n",
       "        text-align: right;\n",
       "    }\n",
       "</style>\n",
       "<table border=\"1\" class=\"dataframe\">\n",
       "  <thead>\n",
       "    <tr style=\"text-align: right;\">\n",
       "      <th></th>\n",
       "      <th>Unnamed: 0</th>\n",
       "      <th>id</th>\n",
       "      <th>eid</th>\n",
       "      <th>formula</th>\n",
       "      <th>R1</th>\n",
       "      <th>R2</th>\n",
       "      <th>R3</th>\n",
       "      <th>F1</th>\n",
       "      <th>F2</th>\n",
       "      <th>F3</th>\n",
       "      <th>...</th>\n",
       "      <th>HV</th>\n",
       "      <th>HV_err</th>\n",
       "      <th>moe</th>\n",
       "      <th>moe_class</th>\n",
       "      <th>ph1</th>\n",
       "      <th>ph2</th>\n",
       "      <th>ph3</th>\n",
       "      <th>condition</th>\n",
       "      <th>comments</th>\n",
       "      <th>composition</th>\n",
       "    </tr>\n",
       "  </thead>\n",
       "  <tbody>\n",
       "    <tr>\n",
       "      <th>0</th>\n",
       "      <td>0</td>\n",
       "      <td>1</td>\n",
       "      <td>Ti-23Nb-10Zr-2.0Fe</td>\n",
       "      <td>Ti0.7791Fe0.0234Zr0.0617Nb0.1358</td>\n",
       "      <td>1</td>\n",
       "      <td>10.1007/s10853-021-06002-0</td>\n",
       "      <td>salvador2021</td>\n",
       "      <td>1</td>\n",
       "      <td>0</td>\n",
       "      <td>0</td>\n",
       "      <td>...</td>\n",
       "      <td>252.0</td>\n",
       "      <td>8.0</td>\n",
       "      <td>12.88</td>\n",
       "      <td>meta</td>\n",
       "      <td>Ti-beta</td>\n",
       "      <td>NaN</td>\n",
       "      <td>NaN</td>\n",
       "      <td>ST-WQ</td>\n",
       "      <td>Young modulus obtained via tensile tests (Tabl...</td>\n",
       "      <td>Ti0.7791 Fe0.0234 Zr0.0617 Nb0.1358</td>\n",
       "    </tr>\n",
       "    <tr>\n",
       "      <th>1</th>\n",
       "      <td>1</td>\n",
       "      <td>2</td>\n",
       "      <td>Ti-27Nb-10Zr-1.5Fe</td>\n",
       "      <td>Ti0.7575Fe0.0156Zr0.0637Nb0.1632</td>\n",
       "      <td>1</td>\n",
       "      <td>10.1007/s10853-021-06002-0</td>\n",
       "      <td>salvador2021</td>\n",
       "      <td>1</td>\n",
       "      <td>1</td>\n",
       "      <td>0</td>\n",
       "      <td>...</td>\n",
       "      <td>229.0</td>\n",
       "      <td>2.0</td>\n",
       "      <td>11.65</td>\n",
       "      <td>meta</td>\n",
       "      <td>Ti-beta</td>\n",
       "      <td>NaN</td>\n",
       "      <td>NaN</td>\n",
       "      <td>ST-WQ</td>\n",
       "      <td>Young modulus obtained via tensile tests (Tabl...</td>\n",
       "      <td>Ti0.7575 Fe0.0156 Zr0.0637 Nb0.1632</td>\n",
       "    </tr>\n",
       "    <tr>\n",
       "      <th>2</th>\n",
       "      <td>2</td>\n",
       "      <td>3</td>\n",
       "      <td>Ti-31Nb-10Zr-1.0Fe</td>\n",
       "      <td>Ti0.7298Fe0.0138Zr0.0664Nb0.1899</td>\n",
       "      <td>1</td>\n",
       "      <td>10.1007/s10853-021-06002-0</td>\n",
       "      <td>salvador2021</td>\n",
       "      <td>1</td>\n",
       "      <td>0</td>\n",
       "      <td>0</td>\n",
       "      <td>...</td>\n",
       "      <td>218.0</td>\n",
       "      <td>5.0</td>\n",
       "      <td>12.08</td>\n",
       "      <td>meta</td>\n",
       "      <td>Ti-beta</td>\n",
       "      <td>NaN</td>\n",
       "      <td>NaN</td>\n",
       "      <td>ST-WQ</td>\n",
       "      <td>Young modulus obtained via tensile tests (Tabl...</td>\n",
       "      <td>Ti0.7298 Fe0.0138 Zr0.0664 Nb0.1899</td>\n",
       "    </tr>\n",
       "    <tr>\n",
       "      <th>3</th>\n",
       "      <td>3</td>\n",
       "      <td>4</td>\n",
       "      <td>Ti-11Nb-7Zr-3.5Fe</td>\n",
       "      <td>Ti0.8622Fe0.0349Zr0.041Nb0.0618</td>\n",
       "      <td>2</td>\n",
       "      <td>10.1016/j.matdes.2018.10.040</td>\n",
       "      <td>dalbo2018</td>\n",
       "      <td>1</td>\n",
       "      <td>1</td>\n",
       "      <td>0</td>\n",
       "      <td>...</td>\n",
       "      <td>358.0</td>\n",
       "      <td>3.0</td>\n",
       "      <td>13.78</td>\n",
       "      <td>meta</td>\n",
       "      <td>Ti-beta</td>\n",
       "      <td>Ti-omega</td>\n",
       "      <td>NaN</td>\n",
       "      <td>ST-WQ</td>\n",
       "      <td>Young modulus obtained via tensile tests (Tabl...</td>\n",
       "      <td>Ti0.8622 Fe0.0349 Zr0.041 Nb0.0618</td>\n",
       "    </tr>\n",
       "    <tr>\n",
       "      <th>4</th>\n",
       "      <td>4</td>\n",
       "      <td>5</td>\n",
       "      <td>Ti-19Nb-6Sn-2.5Fe</td>\n",
       "      <td>Ti0.8376Fe0.0256Nb0.11Sn0.0268</td>\n",
       "      <td>2</td>\n",
       "      <td>10.1016/j.matdes.2018.10.040</td>\n",
       "      <td>dalbo2018</td>\n",
       "      <td>1</td>\n",
       "      <td>1</td>\n",
       "      <td>0</td>\n",
       "      <td>...</td>\n",
       "      <td>260.0</td>\n",
       "      <td>9.0</td>\n",
       "      <td>12.76</td>\n",
       "      <td>meta</td>\n",
       "      <td>Ti-beta</td>\n",
       "      <td>Ti-omega</td>\n",
       "      <td>NaN</td>\n",
       "      <td>ST-WQ</td>\n",
       "      <td>Young modulus obtained via tensile tests (Tabl...</td>\n",
       "      <td>Ti0.8376 Fe0.0256 Nb0.11 Sn0.0268</td>\n",
       "    </tr>\n",
       "  </tbody>\n",
       "</table>\n",
       "<p>5 rows × 30 columns</p>\n",
       "</div>"
      ],
      "text/plain": [
       "   Unnamed: 0  id                 eid                           formula  R1   \n",
       "0           0   1  Ti-23Nb-10Zr-2.0Fe  Ti0.7791Fe0.0234Zr0.0617Nb0.1358   1  \\\n",
       "1           1   2  Ti-27Nb-10Zr-1.5Fe  Ti0.7575Fe0.0156Zr0.0637Nb0.1632   1   \n",
       "2           2   3  Ti-31Nb-10Zr-1.0Fe  Ti0.7298Fe0.0138Zr0.0664Nb0.1899   1   \n",
       "3           3   4   Ti-11Nb-7Zr-3.5Fe   Ti0.8622Fe0.0349Zr0.041Nb0.0618   2   \n",
       "4           4   5   Ti-19Nb-6Sn-2.5Fe    Ti0.8376Fe0.0256Nb0.11Sn0.0268   2   \n",
       "\n",
       "                             R2            R3  F1  F2  F3  ...     HV  HV_err   \n",
       "0    10.1007/s10853-021-06002-0  salvador2021   1   0   0  ...  252.0     8.0  \\\n",
       "1    10.1007/s10853-021-06002-0  salvador2021   1   1   0  ...  229.0     2.0   \n",
       "2    10.1007/s10853-021-06002-0  salvador2021   1   0   0  ...  218.0     5.0   \n",
       "3  10.1016/j.matdes.2018.10.040     dalbo2018   1   1   0  ...  358.0     3.0   \n",
       "4  10.1016/j.matdes.2018.10.040     dalbo2018   1   1   0  ...  260.0     9.0   \n",
       "\n",
       "     moe  moe_class      ph1       ph2  ph3  condition   \n",
       "0  12.88       meta  Ti-beta       NaN  NaN      ST-WQ  \\\n",
       "1  11.65       meta  Ti-beta       NaN  NaN      ST-WQ   \n",
       "2  12.08       meta  Ti-beta       NaN  NaN      ST-WQ   \n",
       "3  13.78       meta  Ti-beta  Ti-omega  NaN      ST-WQ   \n",
       "4  12.76       meta  Ti-beta  Ti-omega  NaN      ST-WQ   \n",
       "\n",
       "                                            comments   \n",
       "0  Young modulus obtained via tensile tests (Tabl...  \\\n",
       "1  Young modulus obtained via tensile tests (Tabl...   \n",
       "2  Young modulus obtained via tensile tests (Tabl...   \n",
       "3  Young modulus obtained via tensile tests (Tabl...   \n",
       "4  Young modulus obtained via tensile tests (Tabl...   \n",
       "\n",
       "                           composition  \n",
       "0  Ti0.7791 Fe0.0234 Zr0.0617 Nb0.1358  \n",
       "1  Ti0.7575 Fe0.0156 Zr0.0637 Nb0.1632  \n",
       "2  Ti0.7298 Fe0.0138 Zr0.0664 Nb0.1899  \n",
       "3   Ti0.8622 Fe0.0349 Zr0.041 Nb0.0618  \n",
       "4    Ti0.8376 Fe0.0256 Nb0.11 Sn0.0268  \n",
       "\n",
       "[5 rows x 30 columns]"
      ]
     },
     "execution_count": 52,
     "metadata": {},
     "output_type": "execute_result"
    }
   ],
   "source": [
    "df.head(), df.tail(), df.columns, df.shape"
   ]
  },
  {
   "cell_type": "markdown",
   "id": "a33d10d7-3a45-4f26-8d0d-259e58898c92",
   "metadata": {},
   "source": [
    "<div class=\"admonition note\" name=\"html-admonition\" style=\"background: #FFEDD1; padding: 10px\">\n",
    "<p class=\"title\"><b>Task</b></p>\n",
    "Can you guess what is the data in the csv file that you read in?\n",
    "</div>"
   ]
  },
  {
   "cell_type": "code",
   "execution_count": 54,
   "id": "76c615e9-b169-4e7b-9bf8-ffd4b4c40be6",
   "metadata": {
    "tags": []
   },
   "outputs": [
    {
     "data": {
      "text/plain": [
       "157.0"
      ]
     },
     "execution_count": 54,
     "metadata": {},
     "output_type": "execute_result"
    }
   ],
   "source": [
    "df['YM'].max()"
   ]
  },
  {
   "cell_type": "code",
   "execution_count": 55,
   "id": "ba7232f3-d81a-411f-9b01-fae7d69c3fa5",
   "metadata": {
    "tags": []
   },
   "outputs": [
    {
     "data": {
      "text/plain": [
       "45.0"
      ]
     },
     "execution_count": 55,
     "metadata": {},
     "output_type": "execute_result"
    }
   ],
   "source": [
    "df['YM'].min()"
   ]
  },
  {
   "cell_type": "code",
   "execution_count": 57,
   "id": "1ca88972-891e-404b-a8fc-1829c34630b6",
   "metadata": {
    "tags": []
   },
   "outputs": [
    {
     "data": {
      "text/plain": [
       "131"
      ]
     },
     "execution_count": 57,
     "metadata": {},
     "output_type": "execute_result"
    }
   ],
   "source": [
    "df['YM'].idxmax()"
   ]
  },
  {
   "cell_type": "code",
   "execution_count": 60,
   "id": "b3cf3833-a299-44f5-af99-69d7ea1c0b08",
   "metadata": {
    "tags": []
   },
   "outputs": [
    {
     "data": {
      "text/plain": [
       "'Ti0.6975Cr0.0221Fe0.0722Zr0.2082'"
      ]
     },
     "execution_count": 60,
     "metadata": {},
     "output_type": "execute_result"
    }
   ],
   "source": [
    "df.iloc[131]['formula']"
   ]
  },
  {
   "cell_type": "markdown",
   "id": "caee56dc-d59c-4c2e-8f79-3641f4435fc2",
   "metadata": {},
   "source": [
    "**References**\n",
    "\n",
    "- https://hida-datathon.github.io/2023-01-11-helmholtz-online/\n",
    "- https://docs.python-guide.org/"
   ]
  },
  {
   "cell_type": "code",
   "execution_count": null,
   "id": "33d9d4a8-e73d-4199-8924-bc1fa484716a",
   "metadata": {},
   "outputs": [],
   "source": []
  }
 ],
 "metadata": {
  "kernelspec": {
   "display_name": "Python 3 (ipykernel)",
   "language": "python",
   "name": "python3"
  },
  "language_info": {
   "codemirror_mode": {
    "name": "ipython",
    "version": 3
   },
   "file_extension": ".py",
   "mimetype": "text/x-python",
   "name": "python",
   "nbconvert_exporter": "python",
   "pygments_lexer": "ipython3",
   "version": "3.9.16"
  }
 },
 "nbformat": 4,
 "nbformat_minor": 5
}
