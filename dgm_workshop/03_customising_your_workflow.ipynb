{
 "cells": [
  {
   "cell_type": "markdown",
   "id": "18185071-d4ab-4a29-8808-9a4dc3765cb8",
   "metadata": {},
   "source": [
    "# <font style=\"font-family:roboto;color:#455e6c\"> Data analysis and workflows in Materials science </font>  "
   ]
  },
  {
   "cell_type": "markdown",
   "id": "05cbaad4-3eb7-49fb-b16a-a4a57b080900",
   "metadata": {},
   "source": [
    "## <font style=\"font-family:roboto;color:#455e6c\"> Part III: Customising your workflow </font>  "
   ]
  },
  {
   "cell_type": "markdown",
   "id": "e06ee7c5-3db0-49e6-8573-6894ba99589e",
   "metadata": {},
   "source": [
    "So far we have covered python and simulation workflows with LAMMPS. We have seen how pyiron can help your data analysis. Now we will consider a case when you have a workflow which you program in python, and then convert to a pyiron custom Job. Converting it to Job ensures that you can use a number of powerful features that pyiron provides, such as data management, job management and so on.\n",
    "\n",
    "In this example, we start from a datafile in csv format. The file containes data from a tensile test of typical S355 (material number: 1.0577) structural steel (designation of steel according to DIN EN 10025-2:2019). The data were generated in the frame of the digitization project Innovationplatform MaterialDigital (PMD) which, amongst other activities, aims to store data in a semantically and machine understandable way. Therefore, data structuring and data formats are focused in addition to aspects in the field of material science and engineering (MSE). \n",
    "\n",
    "First, we will use python to extract the Youngs modulus from the data. Then we will make a pyiron Job from it. "
   ]
  },
  {
   "cell_type": "markdown",
   "id": "15e3f70c-9271-4a36-ab90-91c94480469a",
   "metadata": {},
   "source": [
    "As usual we start with some libraries"
   ]
  },
  {
   "cell_type": "code",
   "execution_count": 6,
   "id": "9d5d525e-ece7-4b2c-9640-c1a92259d0a8",
   "metadata": {},
   "outputs": [],
   "source": [
    "import pandas as pd\n",
    "import numpy as np\n",
    "import matplotlib.pyplot as plt"
   ]
  },
  {
   "cell_type": "markdown",
   "id": "1b3c70fe-dc85-48c0-9c05-a52f583b661b",
   "metadata": {},
   "source": [
    "We will read in the first csv file using pandas. Note that we use a number of other keyword arguments.  "
   ]
  },
  {
   "cell_type": "code",
   "execution_count": 33,
   "id": "fcedc19f-a0d7-4111-8d1b-9c50ea2b2baf",
   "metadata": {},
   "outputs": [],
   "source": [
    "df = pd.read_csv(\"tensile_test_data_1.csv\", delimiter=\";\", header=[0,1], decimal=',')"
   ]
  },
  {
   "cell_type": "code",
   "execution_count": 34,
   "id": "be07e09d-6b51-4313-adba-3435c2802e05",
   "metadata": {},
   "outputs": [
    {
     "data": {
      "text/html": [
       "<div>\n",
       "<style scoped>\n",
       "    .dataframe tbody tr th:only-of-type {\n",
       "        vertical-align: middle;\n",
       "    }\n",
       "\n",
       "    .dataframe tbody tr th {\n",
       "        vertical-align: top;\n",
       "    }\n",
       "\n",
       "    .dataframe thead tr th {\n",
       "        text-align: left;\n",
       "    }\n",
       "</style>\n",
       "<table border=\"1\" class=\"dataframe\">\n",
       "  <thead>\n",
       "    <tr>\n",
       "      <th></th>\n",
       "      <th>Time</th>\n",
       "      <th>Crosshead separation</th>\n",
       "      <th>Load</th>\n",
       "      <th>Extensometer elongation</th>\n",
       "    </tr>\n",
       "    <tr>\n",
       "      <th></th>\n",
       "      <th>(sec)</th>\n",
       "      <th>(mm)</th>\n",
       "      <th>(kN)</th>\n",
       "      <th>(%)</th>\n",
       "    </tr>\n",
       "  </thead>\n",
       "  <tbody>\n",
       "    <tr>\n",
       "      <th>0</th>\n",
       "      <td>0.00000</td>\n",
       "      <td>0.00000</td>\n",
       "      <td>0.25459</td>\n",
       "      <td>0.05855</td>\n",
       "    </tr>\n",
       "    <tr>\n",
       "      <th>1</th>\n",
       "      <td>0.10000</td>\n",
       "      <td>0.00104</td>\n",
       "      <td>0.25510</td>\n",
       "      <td>0.05854</td>\n",
       "    </tr>\n",
       "    <tr>\n",
       "      <th>2</th>\n",
       "      <td>0.20000</td>\n",
       "      <td>0.00284</td>\n",
       "      <td>0.25807</td>\n",
       "      <td>0.05860</td>\n",
       "    </tr>\n",
       "    <tr>\n",
       "      <th>3</th>\n",
       "      <td>0.30000</td>\n",
       "      <td>0.00544</td>\n",
       "      <td>0.26516</td>\n",
       "      <td>0.05864</td>\n",
       "    </tr>\n",
       "    <tr>\n",
       "      <th>4</th>\n",
       "      <td>0.40000</td>\n",
       "      <td>0.00888</td>\n",
       "      <td>0.28904</td>\n",
       "      <td>0.05871</td>\n",
       "    </tr>\n",
       "    <tr>\n",
       "      <th>...</th>\n",
       "      <td>...</td>\n",
       "      <td>...</td>\n",
       "      <td>...</td>\n",
       "      <td>...</td>\n",
       "    </tr>\n",
       "    <tr>\n",
       "      <th>1483</th>\n",
       "      <td>129.41400</td>\n",
       "      <td>26.54196</td>\n",
       "      <td>36.76555</td>\n",
       "      <td>NaN</td>\n",
       "    </tr>\n",
       "    <tr>\n",
       "      <th>1484</th>\n",
       "      <td>129.41600</td>\n",
       "      <td>26.54304</td>\n",
       "      <td>34.26645</td>\n",
       "      <td>NaN</td>\n",
       "    </tr>\n",
       "    <tr>\n",
       "      <th>1485</th>\n",
       "      <td>129.41800</td>\n",
       "      <td>26.54432</td>\n",
       "      <td>31.69191</td>\n",
       "      <td>NaN</td>\n",
       "    </tr>\n",
       "    <tr>\n",
       "      <th>1486</th>\n",
       "      <td>129.42002</td>\n",
       "      <td>26.54536</td>\n",
       "      <td>29.10061</td>\n",
       "      <td>NaN</td>\n",
       "    </tr>\n",
       "    <tr>\n",
       "      <th>1487</th>\n",
       "      <td>129.42202</td>\n",
       "      <td>26.54668</td>\n",
       "      <td>26.50334</td>\n",
       "      <td>NaN</td>\n",
       "    </tr>\n",
       "  </tbody>\n",
       "</table>\n",
       "<p>1488 rows × 4 columns</p>\n",
       "</div>"
      ],
      "text/plain": [
       "           Time Crosshead separation      Load Extensometer elongation\n",
       "          (sec)                 (mm)      (kN)                     (%)\n",
       "0       0.00000              0.00000   0.25459                 0.05855\n",
       "1       0.10000              0.00104   0.25510                 0.05854\n",
       "2       0.20000              0.00284   0.25807                 0.05860\n",
       "3       0.30000              0.00544   0.26516                 0.05864\n",
       "4       0.40000              0.00888   0.28904                 0.05871\n",
       "...         ...                  ...       ...                     ...\n",
       "1483  129.41400             26.54196  36.76555                     NaN\n",
       "1484  129.41600             26.54304  34.26645                     NaN\n",
       "1485  129.41800             26.54432  31.69191                     NaN\n",
       "1486  129.42002             26.54536  29.10061                     NaN\n",
       "1487  129.42202             26.54668  26.50334                     NaN\n",
       "\n",
       "[1488 rows x 4 columns]"
      ]
     },
     "execution_count": 34,
     "metadata": {},
     "output_type": "execute_result"
    }
   ],
   "source": [
    "df"
   ]
  },
  {
   "cell_type": "markdown",
   "id": "ec9eb624-99d0-4de7-97ef-5dc1b255059c",
   "metadata": {},
   "source": [
    "As expected from a tensile test, the data contains the load and the elongation. First we need to convert the load to stress in MPa. The area in $mm^2$ of the sample is 120.636."
   ]
  },
  {
   "cell_type": "code",
   "execution_count": 35,
   "id": "5f2f5ad0-01bb-4546-bb1a-ff0a109add3b",
   "metadata": {},
   "outputs": [],
   "source": [
    "df['Stress'] = df['Load']*1000/120.636"
   ]
  },
  {
   "cell_type": "markdown",
   "id": "82d9e4af-a7df-4fb9-892a-135bbf21764f",
   "metadata": {},
   "source": [
    "We calculated the stress and added it as a new column. Note that we converted kN to N. Now we can plot this data."
   ]
  },
  {
   "cell_type": "code",
   "execution_count": 36,
   "id": "573bb442-b97a-409b-89a4-4551ced718c8",
   "metadata": {},
   "outputs": [
    {
     "data": {
      "image/png": "[encoded data removed]",
      "text/plain": [
       "<Figure size 640x480 with 1 Axes>"
      ]
     },
     "metadata": {},
     "output_type": "display_data"
    }
   ],
   "source": [
    "plt.plot(df['Extensometer elongation'], df['Stress'])\n",
    "plt.xlabel(\"Strain [%]\");\n",
    "plt.ylabel(\"Stress [MPa]\");"
   ]
  },
  {
   "cell_type": "markdown",
   "id": "db7e1faa-cca2-4f07-b032-7935c51ea366",
   "metadata": {},
   "source": [
    "That looks great, we can find the Youngs modulus from the elastic part. For this we will consider the data upto 0.25% Strain."
   ]
  },
  {
   "cell_type": "code",
   "execution_count": 39,
   "id": "492b5357-56a4-44d8-960e-bb78d593d4e7",
   "metadata": {},
   "outputs": [
    {
     "data": {
      "text/plain": [
       "<matplotlib.lines.Line2D at 0x7fe544d67160>"
      ]
     },
     "execution_count": 39,
     "metadata": {},
     "output_type": "execute_result"
    },
    {
     "data": {
      "image/png": "[encoded data removed]",
      "text/plain": [
       "<Figure size 640x480 with 1 Axes>"
      ]
     },
     "metadata": {},
     "output_type": "display_data"
    }
   ],
   "source": [
    "plt.plot(df['Extensometer elongation'], df['Stress'])\n",
    "plt.xlabel(\"Strain [%]\");\n",
    "plt.ylabel(\"Stress [MPa]\");\n",
    "plt.axvline(0.25, color=\"gray\", ls='dashed')"
   ]
  },
  {
   "cell_type": "markdown",
   "id": "b7588c1c-8b0e-4c80-aae2-09b907deaf0a",
   "metadata": {},
   "source": [
    "Now we need to find the index of the Strain value closest to 0.25. We extract the values and work with numpy arrays"
   ]
  },
  {
   "cell_type": "code",
   "execution_count": 60,
   "id": "4c918f1b-1eb2-4e74-8f77-a0ac386c6a33",
   "metadata": {},
   "outputs": [],
   "source": [
    "strain = df['Extensometer elongation'].values.flatten()\n",
    "stress = df['Stress'].values.flatten()"
   ]
  },
  {
   "cell_type": "code",
   "execution_count": 62,
   "id": "510eae6d-cf86-492d-81a4-e5ad5dafee04",
   "metadata": {},
   "outputs": [
    {
     "data": {
      "text/plain": [
       "370"
      ]
     },
     "execution_count": 62,
     "metadata": {},
     "output_type": "execute_result"
    }
   ],
   "source": [
    "np.argsort(np.abs(np.array(strain)-0.25))[0]"
   ]
  },
  {
   "cell_type": "markdown",
   "id": "eb07a1e8-cd29-4fed-998f-a346bdf9022f",
   "metadata": {},
   "source": [
    "We need to consider stress and strain upto the 370th index. We can plot and confirm this."
   ]
  },
  {
   "cell_type": "code",
   "execution_count": 63,
   "id": "c082aa9e-20f4-4538-98f0-04aa19a5d01f",
   "metadata": {},
   "outputs": [
    {
     "data": {
      "image/png": "[encoded data removed]",
      "text/plain": [
       "<Figure size 640x480 with 1 Axes>"
      ]
     },
     "metadata": {},
     "output_type": "display_data"
    }
   ],
   "source": [
    "plt.plot(strain[:370], stress[:370])\n",
    "plt.xlabel(\"Strain [%]\");\n",
    "plt.ylabel(\"Stress [MPa]\");"
   ]
  },
  {
   "cell_type": "markdown",
   "id": "cd086ab6-917f-4c2d-943f-9d5b30fba0ec",
   "metadata": {},
   "source": [
    "Now all we need to do is to fit this data to a straight line and get the slope"
   ]
  },
  {
   "cell_type": "code",
   "execution_count": 64,
   "id": "45f7735f-747f-4fb0-a738-f042aa620434",
   "metadata": {},
   "outputs": [
    {
     "data": {
      "text/plain": [
       "array([1921.31953891, -110.75971294])"
      ]
     },
     "execution_count": 64,
     "metadata": {},
     "output_type": "execute_result"
    }
   ],
   "source": [
    "fit = np.polyfit(strain[:170], stress[:170], 1)\n",
    "fit"
   ]
  },
  {
   "cell_type": "markdown",
   "id": "9f51a882-ce9f-44e2-8cf8-441d7c417854",
   "metadata": {},
   "source": [
    "We do some unit conversions to change strain to a ratio, and convert to GPa"
   ]
  },
  {
   "cell_type": "code",
   "execution_count": 65,
   "id": "de34c43d-13a3-4320-998b-df6d062d8e97",
   "metadata": {},
   "outputs": [
    {
     "data": {
      "text/plain": [
       "192.13195389079922"
      ]
     },
     "execution_count": 65,
     "metadata": {},
     "output_type": "execute_result"
    }
   ],
   "source": [
    "fit[0]*(1/0.01)/1000"
   ]
  },
  {
   "cell_type": "markdown",
   "id": "42b52bae-6aad-4c59-abfd-c5813115101f",
   "metadata": {},
   "source": [
    "Great we have successfully managed to calculate the Youngs modulus. But if we have to now calculate the results again for a different set of data (repetition of the experiment), we will have to redo the whole code again. Furthermore we would have to take care of naming files and folders in an appropriate manner. We will tackle this problem using pyiron. We will create a Job class, similar to ones we saw before."
   ]
  },
  {
   "cell_type": "markdown",
   "id": "7b60b305-3176-44f7-b29c-5864f6ef2533",
   "metadata": {},
   "source": [
    "Since we use python for our analysis we will use a `PythonTemplateJob` from pyiron. These are easy to use templates for convenience."
   ]
  },
  {
   "cell_type": "code",
   "execution_count": 73,
   "id": "5805a2fc-2d84-4fa6-beaa-9b6f1444acda",
   "metadata": {},
   "outputs": [],
   "source": [
    "from pyiron_base import PythonTemplateJob\n",
    "from pyiron import Project"
   ]
  },
  {
   "cell_type": "markdown",
   "id": "07ad6013-575d-4893-b013-67d70d5cef7c",
   "metadata": {},
   "source": [
    "Note that we also used `pyiron_base` instead of `pyiron`. This module provides the core functionality of pyiron. Now we will make a class."
   ]
  },
  {
   "cell_type": "code",
   "execution_count": 82,
   "id": "139fe2cf-7527-403b-9119-7682a106fcf7",
   "metadata": {},
   "outputs": [],
   "source": [
    "class YoungsModulusJob(PythonTemplateJob):\n",
    "    def __init__(self, project, job_name):\n",
    "        super().__init__(project, job_name)\n",
    "    \n",
    "    def run_static(self):\n",
    "        print(\"run\")\n",
    "    \n",
    "    "
   ]
  },
  {
   "cell_type": "markdown",
   "id": "9d981c13-0442-457d-96de-581132ae4b4d",
   "metadata": {},
   "source": [
    "That is all the code needed to manage a Job. Pyiron provides a lot of different things to manage your work. For example, all pyiron jobs are saved in `hdf5` format on the disk with all input and output parameters. This means that you can always reproduce your calculation without losing information. To facilitate this, pyiron provides `job.input` and `job.output`. Whatever you save in these fields will be automatically stored. We will customise the class above to suit our needs.\n",
    "\n",
    "We will:\n",
    "\n",
    "- Add necessary inputs\n",
    "- Add necessary outputs\n",
    "- Function to process data\n",
    "- Function to calculate Youngs modulus\n",
    "- Function to plot the Stress-strain curve"
   ]
  },
  {
   "cell_type": "code",
   "execution_count": 90,
   "id": "3f57d790-0391-4be6-a70a-48218668cb40",
   "metadata": {},
   "outputs": [],
   "source": [
    "class YoungsModulusJob(PythonTemplateJob):\n",
    "    def __init__(self, project, job_name):\n",
    "        super().__init__(project, job_name)\n",
    "        #now we define our input parameters\n",
    "        #first one, input file\n",
    "        self.input.filename = None\n",
    "        #then the sample area\n",
    "        self.input.area = None\n",
    "        #we should also take a strain cutoff to identify the linear region\n",
    "        self.input.strain_cutoff = 0.25\n",
    "    \n",
    "    def read_input(self):\n",
    "        \"\"\"\n",
    "        My custom function to read an input file and process it\n",
    "        \"\"\"\n",
    "        df = pd.read_csv(self.input.filename, delimiter=\";\", header=[0,1], decimal=',')\n",
    "        df['Stress'] = df['Load']*1000/120.636\n",
    "        self.input.load = df['Load']*1000\n",
    "        self.input.strain = df['Extensometer elongation'].values.flatten()\n",
    "        self.input.stress = df['Stress'].values.flatten()\n",
    "        #note that prefixed some values with self.input, these will be stored\n",
    "    \n",
    "    def calculate_youngs_modulus(self):\n",
    "        \"\"\"\n",
    "        My custom job to calculate Youngs modulus\n",
    "        \"\"\"\n",
    "        arg = np.argsort(np.abs(np.array(self.input.strain)-self.input.strain_cutoff))[0]\n",
    "        fit = np.polyfit(self.input.strain[:arg], self.input.stress[:arg], 1)\n",
    "        self.output.youngs_modulus = fit[0]*(1/0.01)/1000\n",
    "    \n",
    "    def plot(self):\n",
    "        \"\"\"\n",
    "        Function to plot\n",
    "        \"\"\"\n",
    "        plt.plot(self.input.strain, self.input.stress)\n",
    "        plt.xlabel(\"Strain [%]\");\n",
    "        plt.ylabel(\"Stress [MPa]\");\n",
    "    \n",
    "    def run_static(self):\n",
    "        \"\"\"\n",
    "        And the last function, this tells pyiron what to execute\n",
    "        \"\"\"\n",
    "        #first read input\n",
    "        self.read_input()\n",
    "        #then calculate \n",
    "        self.calculate_youngs_modulus()"
   ]
  },
  {
   "cell_type": "markdown",
   "id": "c3182da4-fcf4-43a8-b742-260081539c43",
   "metadata": {},
   "source": [
    "The class is complete now. We can try it out."
   ]
  },
  {
   "cell_type": "code",
   "execution_count": 91,
   "id": "95086a96-117a-4348-a880-0c76154e6b7e",
   "metadata": {},
   "outputs": [],
   "source": [
    "pr = Project(\"custom_project_0\")"
   ]
  },
  {
   "cell_type": "code",
   "execution_count": 95,
   "id": "360caa86-b990-401e-8828-d4a5341accf6",
   "metadata": {},
   "outputs": [],
   "source": [
    "job=pr.create_job(job_type=YoungsModulusJob, job_name='y1', delete_existing_job=True)"
   ]
  },
  {
   "cell_type": "code",
   "execution_count": 96,
   "id": "3fb1c8a8-151b-4200-97d2-82b27c9259cc",
   "metadata": {},
   "outputs": [
    {
     "name": "stdout",
     "output_type": "stream",
     "text": [
      "The job y1 was saved and received the ID: 16\n"
     ]
    }
   ],
   "source": [
    "job.input.filename = \"tensile_test_data_1.csv\"\n",
    "job.run()"
   ]
  },
  {
   "cell_type": "markdown",
   "id": "1d85d48d-8e79-4f5a-925b-ba12353a1342",
   "metadata": {},
   "source": [
    "First we can plot and see the curves"
   ]
  },
  {
   "cell_type": "code",
   "execution_count": 97,
   "id": "54433ea4-4937-4d47-b4aa-1106ab189508",
   "metadata": {},
   "outputs": [
    {
     "data": {
      "image/png": "[encoded data removed]",
      "text/plain": [
       "<Figure size 640x480 with 1 Axes>"
      ]
     },
     "metadata": {},
     "output_type": "display_data"
    }
   ],
   "source": [
    "job.plot()"
   ]
  },
  {
   "cell_type": "markdown",
   "id": "d177b680-7697-4b6d-af63-4f5ce5e93af4",
   "metadata": {},
   "source": [
    "Now we can check the results"
   ]
  },
  {
   "cell_type": "code",
   "execution_count": 98,
   "id": "2d120a7b-f9e6-44b4-9c4c-753bd31599e8",
   "metadata": {},
   "outputs": [
    {
     "data": {
      "application/json": {
       "youngs_modulus": "176.7585378389848"
      },
      "text/html": [
       "<pre>DataContainer({\n",
       "  \"youngs_modulus\": \"176.7585378389848\"\n",
       "})</pre>"
      ],
      "text/plain": [
       "DataContainer({'youngs_modulus': 176.7585378389848})"
      ]
     },
     "execution_count": 98,
     "metadata": {},
     "output_type": "execute_result"
    }
   ],
   "source": [
    "job.output"
   ]
  },
  {
   "cell_type": "markdown",
   "id": "72e5c296-c1fe-481c-ad70-36022bfb6447",
   "metadata": {},
   "source": [
    "## References\n",
    "\n",
    "- [Steel tensile test dataset](https://zenodo.org/record/6778336#.ZEKTVHbP2Uk)"
   ]
  },
  {
   "cell_type": "code",
   "execution_count": null,
   "id": "9fd2e226-fc4d-43fd-8499-2e06d4e38502",
   "metadata": {},
   "outputs": [],
   "source": []
  }
 ],
 "metadata": {
  "kernelspec": {
   "display_name": "Python 3 (ipykernel)",
   "language": "python",
   "name": "python3"
  },
  "language_info": {
   "codemirror_mode": {
    "name": "ipython",
    "version": 3
   },
   "file_extension": ".py",
   "mimetype": "text/x-python",
   "name": "python",
   "nbconvert_exporter": "python",
   "pygments_lexer": "ipython3",
   "version": "3.9.16"
  }
 },
 "nbformat": 4,
 "nbformat_minor": 5
}
