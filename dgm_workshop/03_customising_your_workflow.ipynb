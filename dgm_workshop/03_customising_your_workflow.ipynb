{
 "cells": [
  {
   "cell_type": "markdown",
   "id": "18185071-d4ab-4a29-8808-9a4dc3765cb8",
   "metadata": {},
   "source": [
    "<table border=\"0\">\n",
    "<tr>\n",
    "  <td>\n",
    "    <font style=\"font-family:roboto;color:#455e6c;font-size:30px\"> <b> Data analysis and workflows in Materials science </b> </font> </td>\n",
    "  <td>\n",
    "    <img src=\"logo.png\" width=\"40%\" align=\"right\"></td>\n",
    "</tr>\n",
    "<tr></tr>\n",
    "<tr>\n",
    "  <td> \n",
    "    <font style=\"font-family:roboto;color:#455e6c;font-size:18px\"> Sarath Menon </font> <br> \n",
    "    <font style=\"font-family:roboto;color:#455e6c;font-size:12px\"> Max-Planck-Institut für Eisenforschung GmbH <br></font>\n",
    "    <font style=\"font-family:roboto;color:#455e6c;font-size:12px\"> DGM-Nachwuchsforum | 25.04.2023 </font>\n",
    "  </td>\n",
    "</tr>\n",
    "</table>"
   ]
  },
  {
   "cell_type": "markdown",
   "id": "05cbaad4-3eb7-49fb-b16a-a4a57b080900",
   "metadata": {},
   "source": [
    "## <font style=\"font-family:roboto;color:#455e6c\"> Part III: Customising your workflow </font>  "
   ]
  },
  {
   "cell_type": "markdown",
   "id": "e06ee7c5-3db0-49e6-8573-6894ba99589e",
   "metadata": {},
   "source": [
    "So far we have covered python and simulation workflows with LAMMPS. We have seen how pyiron can help your data analysis. Now we will consider a case when you have a workflow which you program in python, and then convert to a pyiron custom Job. Converting it to Job ensures that you can use a number of powerful features that pyiron provides, such as data management, job management and so on.\n",
    "\n",
    "In this example, we start from a datafile in csv format. The file containes data from a tensile test of typical S355 (material number: 1.0577) structural steel (designation of steel according to DIN EN 10025-2:2019). The data were generated in the frame of the digitization project Innovationplatform MaterialDigital (PMD) which, amongst other activities, aims to store data in a semantically and machine understandable way. Therefore, data structuring and data formats are focused in addition to aspects in the field of material science and engineering (MSE). \n",
    "\n",
    "First, we will use python to extract the Youngs modulus from the data. Then we will make a pyiron Job from it. "
   ]
  },
  {
   "cell_type": "markdown",
   "id": "15e3f70c-9271-4a36-ab90-91c94480469a",
   "metadata": {},
   "source": [
    "As usual we start with some libraries"
   ]
  },
  {
   "cell_type": "code",
   "execution_count": null,
   "id": "9d5d525e-ece7-4b2c-9640-c1a92259d0a8",
   "metadata": {},
   "outputs": [],
   "source": [
    "import pandas as pd\n",
    "import numpy as np\n",
    "import matplotlib.pyplot as plt"
   ]
  },
  {
   "cell_type": "markdown",
   "id": "1b3c70fe-dc85-48c0-9c05-a52f583b661b",
   "metadata": {},
   "source": [
    "We will read in the first csv file using pandas. Note that we use a number of other keyword arguments.  "
   ]
  },
  {
   "cell_type": "code",
   "execution_count": null,
   "id": "fcedc19f-a0d7-4111-8d1b-9c50ea2b2baf",
   "metadata": {},
   "outputs": [],
   "source": [
    "df = pd.read_csv(\"tensile_test/dataset_1.csv\", delimiter=\";\", header=[0,1], decimal=',')"
   ]
  },
  {
   "cell_type": "code",
   "execution_count": null,
   "id": "be07e09d-6b51-4313-adba-3435c2802e05",
   "metadata": {},
   "outputs": [],
   "source": [
    "df"
   ]
  },
  {
   "cell_type": "markdown",
   "id": "ec9eb624-99d0-4de7-97ef-5dc1b255059c",
   "metadata": {},
   "source": [
    "As expected from a tensile test, the data contains the load and the elongation. First we need to convert the load to stress in MPa. The area in $mm^2$ of the sample is 120.636."
   ]
  },
  {
   "cell_type": "code",
   "execution_count": null,
   "id": "5f2f5ad0-01bb-4546-bb1a-ff0a109add3b",
   "metadata": {},
   "outputs": [],
   "source": [
    "df['Stress'] = df['Load']*1000/120.636"
   ]
  },
  {
   "cell_type": "markdown",
   "id": "82d9e4af-a7df-4fb9-892a-135bbf21764f",
   "metadata": {},
   "source": [
    "We calculated the stress and added it as a new column. Note that we converted kN to N. Now we can plot this data."
   ]
  },
  {
   "cell_type": "code",
   "execution_count": null,
   "id": "573bb442-b97a-409b-89a4-4551ced718c8",
   "metadata": {},
   "outputs": [],
   "source": [
    "plt.plot(df['Extensometer elongation'], df['Stress'])\n",
    "plt.xlabel(\"Strain [%]\");\n",
    "plt.ylabel(\"Stress [MPa]\");"
   ]
  },
  {
   "cell_type": "markdown",
   "id": "db7e1faa-cca2-4f07-b032-7935c51ea366",
   "metadata": {},
   "source": [
    "That looks great, we can find the Youngs modulus from the elastic part. For this we will consider the data upto 0.25% Strain."
   ]
  },
  {
   "cell_type": "code",
   "execution_count": null,
   "id": "492b5357-56a4-44d8-960e-bb78d593d4e7",
   "metadata": {},
   "outputs": [],
   "source": [
    "plt.plot(df['Extensometer elongation'], df['Stress'])\n",
    "plt.xlabel(\"Strain [%]\");\n",
    "plt.ylabel(\"Stress [MPa]\");\n",
    "plt.axvline(0.25, color=\"gray\", ls='dashed')"
   ]
  },
  {
   "cell_type": "markdown",
   "id": "b7588c1c-8b0e-4c80-aae2-09b907deaf0a",
   "metadata": {},
   "source": [
    "Now we need to find the index of the Strain value closest to 0.2. We extract the values and work with numpy arrays"
   ]
  },
  {
   "cell_type": "code",
   "execution_count": null,
   "id": "4c918f1b-1eb2-4e74-8f77-a0ac386c6a33",
   "metadata": {},
   "outputs": [],
   "source": [
    "strain = df['Extensometer elongation'].values.flatten()\n",
    "stress = df['Stress'].values.flatten()"
   ]
  },
  {
   "cell_type": "code",
   "execution_count": null,
   "id": "510eae6d-cf86-492d-81a4-e5ad5dafee04",
   "metadata": {},
   "outputs": [],
   "source": [
    "np.argsort(np.abs(np.array(strain)-0.2))[0]"
   ]
  },
  {
   "cell_type": "markdown",
   "id": "eb07a1e8-cd29-4fed-998f-a346bdf9022f",
   "metadata": {},
   "source": [
    "We need to consider stress and strain upto the 370th index. We can plot and confirm this."
   ]
  },
  {
   "cell_type": "code",
   "execution_count": null,
   "id": "c082aa9e-20f4-4538-98f0-04aa19a5d01f",
   "metadata": {},
   "outputs": [],
   "source": [
    "plt.plot(strain[:305], stress[:305])\n",
    "plt.xlabel(\"Strain [%]\");\n",
    "plt.ylabel(\"Stress [MPa]\");"
   ]
  },
  {
   "cell_type": "markdown",
   "id": "cd086ab6-917f-4c2d-943f-9d5b30fba0ec",
   "metadata": {},
   "source": [
    "Now all we need to do is to fit this data to a straight line and get the slope"
   ]
  },
  {
   "cell_type": "code",
   "execution_count": null,
   "id": "45f7735f-747f-4fb0-a738-f042aa620434",
   "metadata": {},
   "outputs": [],
   "source": [
    "fit = np.polyfit(strain[:305], stress[:305], 1)\n",
    "fit"
   ]
  },
  {
   "cell_type": "markdown",
   "id": "9f51a882-ce9f-44e2-8cf8-441d7c417854",
   "metadata": {},
   "source": [
    "We do some unit conversions to change strain to a ratio, and convert to GPa"
   ]
  },
  {
   "cell_type": "code",
   "execution_count": null,
   "id": "de34c43d-13a3-4320-998b-df6d062d8e97",
   "metadata": {},
   "outputs": [],
   "source": [
    "fit[0]*(1/0.01)/1000"
   ]
  },
  {
   "cell_type": "markdown",
   "id": "42b52bae-6aad-4c59-abfd-c5813115101f",
   "metadata": {},
   "source": [
    "Great we have successfully managed to calculate the Youngs modulus. But if we have to now calculate the results again for a different set of data (repetition of the experiment), we will have to redo the whole code again. Furthermore we would have to take care of naming files and folders in an appropriate manner. We will tackle this problem using pyiron. We will create a Job class, similar to ones we saw before."
   ]
  },
  {
   "cell_type": "markdown",
   "id": "7b60b305-3176-44f7-b29c-5864f6ef2533",
   "metadata": {},
   "source": [
    "Since we use python for our analysis we will use a `PythonTemplateJob` from pyiron. These are easy to use templates for convenience."
   ]
  },
  {
   "cell_type": "code",
   "execution_count": null,
   "id": "5805a2fc-2d84-4fa6-beaa-9b6f1444acda",
   "metadata": {},
   "outputs": [],
   "source": [
    "from pyiron_base import PythonTemplateJob\n",
    "from pyiron import Project"
   ]
  },
  {
   "cell_type": "markdown",
   "id": "07ad6013-575d-4893-b013-67d70d5cef7c",
   "metadata": {},
   "source": [
    "Note that we also used `pyiron_base` instead of `pyiron`. This module provides the core functionality of pyiron. Now we will make a class."
   ]
  },
  {
   "cell_type": "code",
   "execution_count": null,
   "id": "139fe2cf-7527-403b-9119-7682a106fcf7",
   "metadata": {},
   "outputs": [],
   "source": [
    "class YoungsModulusJob(PythonTemplateJob):\n",
    "    def __init__(self, project, job_name):\n",
    "        super().__init__(project, job_name)\n",
    "    \n",
    "    def run_static(self):\n",
    "        print(\"run\")\n",
    "    \n",
    "    "
   ]
  },
  {
   "cell_type": "markdown",
   "id": "9d981c13-0442-457d-96de-581132ae4b4d",
   "metadata": {},
   "source": [
    "That is all the code needed to manage a Job. Pyiron provides a lot of different things to manage your work. For example, all pyiron jobs are saved in `hdf5` format on the disk with all input and output parameters. This means that you can always reproduce your calculation without losing information. To facilitate this, pyiron provides `job.input` and `job.output`. Whatever you save in these fields will be automatically stored. We will customise the class above to suit our needs.\n",
    "\n",
    "We will:\n",
    "\n",
    "- Add necessary inputs\n",
    "- Add necessary outputs\n",
    "- Function to process data\n",
    "- Function to calculate Youngs modulus\n",
    "- Function to plot the Stress-strain curve"
   ]
  },
  {
   "cell_type": "code",
   "execution_count": null,
   "id": "3f57d790-0391-4be6-a70a-48218668cb40",
   "metadata": {},
   "outputs": [],
   "source": [
    "class YoungsModulusJob(PythonTemplateJob):\n",
    "    def __init__(self, project, job_name):\n",
    "        super().__init__(project, job_name)\n",
    "        #now we define our input parameters\n",
    "        #first one, input file\n",
    "        self.input.filename = None\n",
    "        #then the sample area\n",
    "        self.input.area = None\n",
    "        #we should also take a strain cutoff to identify the linear region\n",
    "        self.input.strain_cutoff = 0.2 \n",
    "    \n",
    "    def read_input(self):\n",
    "        \"\"\"\n",
    "        My custom function to read an input file and process it\n",
    "        \"\"\"\n",
    "        df = pd.read_csv(self.input.filename, delimiter=\";\", header=[0,1], decimal=',')\n",
    "        df['Stress'] = df['Load']*1000/self.input.area\n",
    "        self.input.load = df['Load']*1000\n",
    "        self.input.strain = df['Extensometer elongation'].values.flatten()\n",
    "        self.input.stress = df['Stress'].values.flatten()\n",
    "        #note that prefixed some values with self.input, these will be stored\n",
    "    \n",
    "    def calculate_youngs_modulus(self):\n",
    "        \"\"\"\n",
    "        My custom job to calculate Youngs modulus\n",
    "        \"\"\"\n",
    "        arg = np.argsort(np.abs(np.array(self.input.strain)-self.input.strain_cutoff))[0]\n",
    "        fit = np.polyfit(self.input.strain[:arg], self.input.stress[:arg], 1)\n",
    "        self.output.youngs_modulus = fit[0]*(1/0.01)/1000\n",
    "        with self.project_hdf5.open(\"output\") as h5out: \n",
    "             h5out[\"youngs_modulus\"] = fit[0]*(1/0.01)/1000\n",
    "    \n",
    "    def plot(self):\n",
    "        \"\"\"\n",
    "        Function to plot\n",
    "        \"\"\"\n",
    "        plt.plot(self.input.strain, self.input.stress)\n",
    "        plt.xlabel(\"Strain [%]\");\n",
    "        plt.ylabel(\"Stress [MPa]\");\n",
    "    \n",
    "    def run_static(self):\n",
    "        \"\"\"\n",
    "        And the last function, this tells pyiron what to execute\n",
    "        \"\"\"\n",
    "        #first read input\n",
    "        self.read_input()\n",
    "        #then calculate \n",
    "        self.calculate_youngs_modulus()\n",
    "        self.status.finished = True"
   ]
  },
  {
   "cell_type": "markdown",
   "id": "c3182da4-fcf4-43a8-b742-260081539c43",
   "metadata": {},
   "source": [
    "The class is complete now. We can try it out."
   ]
  },
  {
   "cell_type": "code",
   "execution_count": null,
   "id": "95086a96-117a-4348-a880-0c76154e6b7e",
   "metadata": {},
   "outputs": [],
   "source": [
    "pr = Project(\"custom_project_4\")"
   ]
  },
  {
   "cell_type": "code",
   "execution_count": null,
   "id": "360caa86-b990-401e-8828-d4a5341accf6",
   "metadata": {},
   "outputs": [],
   "source": [
    "job=pr.create_job(job_type=YoungsModulusJob, job_name='y1', delete_existing_job=True)"
   ]
  },
  {
   "cell_type": "code",
   "execution_count": null,
   "id": "3fb1c8a8-151b-4200-97d2-82b27c9259cc",
   "metadata": {},
   "outputs": [],
   "source": [
    "job.input.filename = \"tensile_test/dataset_1.csv\"\n",
    "job.input.area = 120.636\n",
    "job.run()"
   ]
  },
  {
   "cell_type": "markdown",
   "id": "1d85d48d-8e79-4f5a-925b-ba12353a1342",
   "metadata": {},
   "source": [
    "First we can plot and see the curves"
   ]
  },
  {
   "cell_type": "code",
   "execution_count": null,
   "id": "54433ea4-4937-4d47-b4aa-1106ab189508",
   "metadata": {},
   "outputs": [],
   "source": [
    "job.plot()"
   ]
  },
  {
   "cell_type": "markdown",
   "id": "d177b680-7697-4b6d-af63-4f5ce5e93af4",
   "metadata": {},
   "source": [
    "Now we can check the results"
   ]
  },
  {
   "cell_type": "code",
   "execution_count": null,
   "id": "2d120a7b-f9e6-44b4-9c4c-753bd31599e8",
   "metadata": {},
   "outputs": [],
   "source": [
    "job.output"
   ]
  },
  {
   "cell_type": "markdown",
   "id": "05d1c7fc-3d7c-4f38-bad1-df114387c3a3",
   "metadata": {},
   "source": [
    "<div class=\"admonition note\" name=\"html-admonition\" style=\"background: #FFEDD1; padding: 10px\">\n",
    "<p class=\"title\"><b>Task</b></p>\n",
    "Use this class and calculate Youngs modulus for the other datasets\n",
    "</div>"
   ]
  },
  {
   "cell_type": "markdown",
   "id": "6433f0c3-b7e9-48dc-99bd-4f40eaa5e329",
   "metadata": {},
   "source": [
    "We can do this easily with a loop. Uncomment the below lines to get the solution."
   ]
  },
  {
   "cell_type": "code",
   "execution_count": null,
   "id": "a2071545-deab-4b38-8aa9-ea8e965bc1d1",
   "metadata": {
    "tags": []
   },
   "outputs": [],
   "source": [
    "# %load solution_3.py"
   ]
  },
  {
   "cell_type": "markdown",
   "id": "06f3c944-d360-4f55-b432-0b21ab710341",
   "metadata": {},
   "source": [
    "### The pyiron job table"
   ]
  },
  {
   "cell_type": "markdown",
   "id": "c14efa2b-602b-489b-b0a1-a5024cf4686e",
   "metadata": {},
   "source": [
    "pyiron offers a feature to check your jobs at a glance"
   ]
  },
  {
   "cell_type": "code",
   "execution_count": null,
   "id": "f09411a1-e314-4fee-be96-5c5db83797fd",
   "metadata": {},
   "outputs": [],
   "source": [
    "pr.job_table()"
   ]
  },
  {
   "cell_type": "markdown",
   "id": "885a6f47-5684-4a89-8306-b4e15d7cb239",
   "metadata": {},
   "source": [
    "You can see that all the jobs we ran are indexed there along with the associated metadata. This is a powertool tool with which we can do further analysis. Now we calculated the Youngs modulus for the independent repetitions of the experiment. What if you want to calculate an average value over all the experiments?"
   ]
  },
  {
   "cell_type": "markdown",
   "id": "2cdd6d9b-3105-41e4-81fa-952efb3df927",
   "metadata": {},
   "source": [
    "First we create a pyiron table"
   ]
  },
  {
   "cell_type": "code",
   "execution_count": null,
   "id": "fa1f87fe-05df-478e-98af-988c569033a4",
   "metadata": {},
   "outputs": [],
   "source": [
    "table = pr.create.table(\"table_youngs\", delete_existing_job=True)"
   ]
  },
  {
   "cell_type": "markdown",
   "id": "efc83eec-b7d2-4f72-a4a9-8567ae7fa10f",
   "metadata": {},
   "source": [
    "Now we need to add some conditions to add data to the table. First we will filter jobs for the table. We will only consider jobs that have Hamilton `YoungsModulusJob`."
   ]
  },
  {
   "cell_type": "code",
   "execution_count": null,
   "id": "68e1b083-37ca-45fd-bc6d-dc2c17c25fb0",
   "metadata": {},
   "outputs": [],
   "source": [
    "def get_only_youngs(table):\n",
    "    return (table.hamilton == \"YoungsModulusJob\")"
   ]
  },
  {
   "cell_type": "markdown",
   "id": "d46df63f-8254-4fd8-b4d9-3d6c8a7e7d82",
   "metadata": {},
   "source": [
    "We add this as a filter function"
   ]
  },
  {
   "cell_type": "code",
   "execution_count": null,
   "id": "fd89f42a-7aaf-4ed3-b224-f75875edc6f4",
   "metadata": {},
   "outputs": [],
   "source": [
    "table.db_filter_function = get_only_youngs"
   ]
  },
  {
   "cell_type": "markdown",
   "id": "5cd1ebbe-5053-406a-aeb7-b3ab34c8f921",
   "metadata": {},
   "source": [
    "Now we create a function to extract the Youngs modulus from the output"
   ]
  },
  {
   "cell_type": "code",
   "execution_count": null,
   "id": "28704f49-6805-4003-982c-7f60a8487072",
   "metadata": {},
   "outputs": [],
   "source": [
    "def get_youngs(job_path):\n",
    "    return job_path[\"output/youngs_modulus\"]"
   ]
  },
  {
   "cell_type": "markdown",
   "id": "511822be-3f0d-4635-a0d8-8668e363d716",
   "metadata": {},
   "source": [
    "We add this function to the table"
   ]
  },
  {
   "cell_type": "code",
   "execution_count": null,
   "id": "48651d45-88b4-4d71-8442-2f3756438393",
   "metadata": {},
   "outputs": [],
   "source": [
    "job[\"output\"]"
   ]
  },
  {
   "cell_type": "code",
   "execution_count": null,
   "id": "1fde18ea-d4dc-45fa-9c3b-aad3eb754850",
   "metadata": {},
   "outputs": [],
   "source": [
    "table.add[\"youngs_modulus\"] = get_youngs"
   ]
  },
  {
   "cell_type": "markdown",
   "id": "6f2a68ae-ef9b-40e4-baec-de572dee89fc",
   "metadata": {},
   "source": [
    "Now we can run the table"
   ]
  },
  {
   "cell_type": "code",
   "execution_count": null,
   "id": "ef81cf38-a0e3-4fa2-80c0-d8ce96b7707b",
   "metadata": {},
   "outputs": [],
   "source": [
    "table.run()"
   ]
  },
  {
   "cell_type": "markdown",
   "id": "f202209d-bc7c-4afb-8497-8c437626f8f4",
   "metadata": {},
   "source": [
    "The table has finished execution. Now we can look at the results."
   ]
  },
  {
   "cell_type": "code",
   "execution_count": null,
   "id": "0bc85fe6-8fa3-4da3-afb5-e1095e4c3092",
   "metadata": {},
   "outputs": [],
   "source": [
    "tdf =  table.get_dataframe()\n",
    "tdf"
   ]
  },
  {
   "cell_type": "code",
   "execution_count": null,
   "id": "2d5d3681-03e4-455d-8ead-2065b286108b",
   "metadata": {},
   "outputs": [],
   "source": [
    "tdf['youngs_modulus'].mean()"
   ]
  },
  {
   "cell_type": "markdown",
   "id": "66f7e6c1-fbf9-4551-9cca-616c9b25c495",
   "metadata": {},
   "source": [
    "<div class=\"admonition note\" name=\"html-admonition\" style=\"background: #C9E4DE; padding: 10px\">\n",
    "<p class=\"title\"><b>Further reading..</b></p>\n",
    "<ul>    \n",
    "<li> <a href=\"https://zenodo.org/record/6778336#.ZEKTVHbP2Uk\">Steel tensile test dataset</a> </li>\n",
    "</ul>    \n",
    "</div>"
   ]
  }
 ],
 "metadata": {
  "kernelspec": {
   "display_name": "Python 3 (ipykernel)",
   "language": "python",
   "name": "python3"
  },
  "language_info": {
   "codemirror_mode": {
    "name": "ipython",
    "version": 3
   },
   "file_extension": ".py",
   "mimetype": "text/x-python",
   "name": "python",
   "nbconvert_exporter": "python",
   "pygments_lexer": "ipython3",
   "version": "3.9.16"
  }
 },
 "nbformat": 4,
 "nbformat_minor": 5
}
