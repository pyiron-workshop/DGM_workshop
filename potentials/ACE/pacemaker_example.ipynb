{
 "cells": [
  {
   "cell_type": "markdown",
   "id": "b680880a",
   "metadata": {},
   "source": [
    "# Atomic cluster expansion (ACE)"
   ]
  },
  {
   "cell_type": "markdown",
   "id": "119bff90",
   "metadata": {},
   "source": [
    "Please read sources for more details:\n",
    "\n",
    "* [Documentation](https://pacemaker.readthedocs.io/en/latest/)\n",
    "* [`pacemaker` repository](https://github.com/ICAMS/python-ace)\n",
    "* [Bochkarev, A., Lysogorskiy, Y., Menon, S., Qamar, M., Mrovec, M. and Drautz, R. Efficient parametrization of the atomic cluster expansion. Physical Review Materials 6(1) 013804 (2022)](https://journals.aps.org/prmaterials/abstract/10.1103/PhysRevMaterials.6.013804)\n",
    "* [Lysogorskiy, Y., Oord, C. v. d., Bochkarev, A., Menon, S., Rinaldi, M., Hammerschmidt, T., Mrovec, M., Thompson, A., Csányi, G., Ortner, C. and  Drautz, R. Performant implementation of the atomic cluster expansion (PACE) and application to copper and silicon. npj Computational Materials 7(1), 1-12 (2021)](https://www.nature.com/articles/s41524-021-00559-9)\n",
    "* [Drautz, R. Atomic cluster expansion for accurate and transferable interatomic potentials. Physical Review B, 99(1), 014104 (2019)](https://journals.aps.org/prb/abstract/10.1103/PhysRevB.99.014104)\n",
    "\n"
   ]
  },
  {
   "cell_type": "markdown",
   "id": "1a385f10",
   "metadata": {},
   "source": [
    "## Import and load"
   ]
  },
  {
   "cell_type": "code",
   "execution_count": null,
   "id": "dded85d1",
   "metadata": {},
   "outputs": [],
   "source": [
    "%pylab inline"
   ]
  },
  {
   "cell_type": "code",
   "execution_count": null,
   "id": "d19586ef",
   "metadata": {},
   "outputs": [],
   "source": [
    "from pyiron import Project"
   ]
  },
  {
   "cell_type": "code",
   "execution_count": null,
   "id": "812a96f6",
   "metadata": {},
   "outputs": [],
   "source": [
    "from collections import Counter"
   ]
  },
  {
   "cell_type": "code",
   "execution_count": null,
   "id": "6ea6b07e",
   "metadata": {},
   "outputs": [],
   "source": [
    "import pandas as pd"
   ]
  },
  {
   "cell_type": "code",
   "execution_count": null,
   "id": "af3c8676-249d-4bcc-ad6d-369600d25bb8",
   "metadata": {},
   "outputs": [],
   "source": [
    "pr = Project('.')\n",
    "\n",
    "pr.remove_jobs(silently=True,recursive=True)\n",
    "pr.unpack('training_export')\n",
    "pr = Project('training')"
   ]
  },
  {
   "cell_type": "code",
   "execution_count": null,
   "id": "24d7d005-613f-4671-bd4c-0bd555c028cd",
   "metadata": {},
   "outputs": [],
   "source": [
    "pr"
   ]
  },
  {
   "cell_type": "markdown",
   "id": "38943882",
   "metadata": {},
   "source": [
    "## Loading training containers (select smaller training subset for example)"
   ]
  },
  {
   "cell_type": "code",
   "execution_count": null,
   "id": "0764935b",
   "metadata": {},
   "outputs": [],
   "source": [
    "training_container = pr['full']"
   ]
  },
  {
   "cell_type": "code",
   "execution_count": null,
   "id": "bbe3f49c",
   "metadata": {},
   "outputs": [],
   "source": [
    "df=training_container.to_pandas()"
   ]
  },
  {
   "cell_type": "code",
   "execution_count": null,
   "id": "bff9bff4",
   "metadata": {},
   "outputs": [],
   "source": [
    "df[\"energy_per_atom\"]=df[\"energy\"]/df[\"number_of_atoms\"]\n",
    "df[\"comp_dict\"]=df[\"atoms\"].map(lambda at: Counter(at.get_chemical_symbols()))\n",
    "for el in [\"Al\",\"Li\"]:\n",
    "    df[\"n\"+el]=df[\"comp_dict\"].map(lambda d: d.get(el,0))\n",
    "    df[\"c\"+el]=df[\"n\"+el]/df[\"number_of_atoms\"]"
   ]
  },
  {
   "cell_type": "markdown",
   "id": "3d3af629",
   "metadata": {},
   "source": [
    "Select only Al-fcc"
   ]
  },
  {
   "cell_type": "code",
   "execution_count": null,
   "id": "1ee0b19f",
   "metadata": {},
   "outputs": [],
   "source": [
    "al_fcc_df = df[df[\"name\"].str.contains(\"Al_fcc\")]\n",
    "al_fcc_df.shape"
   ]
  },
  {
   "cell_type": "markdown",
   "id": "28078385",
   "metadata": {},
   "source": [
    "only Li-bcc"
   ]
  },
  {
   "cell_type": "code",
   "execution_count": null,
   "id": "99840b1b",
   "metadata": {},
   "outputs": [],
   "source": [
    "li_bcc_df = df[df[\"name\"].str.contains(\"Li_bcc\")]\n",
    "li_bcc_df.shape"
   ]
  },
  {
   "cell_type": "markdown",
   "id": "251af910",
   "metadata": {},
   "source": [
    "and AlLi structures that are within 0.1 eV/atom above AlLi ground state (min.energy structure)"
   ]
  },
  {
   "cell_type": "code",
   "execution_count": null,
   "id": "7a31322c",
   "metadata": {},
   "outputs": [],
   "source": [
    "alli_df = df[df[\"cAl\"]==0.5]\n",
    "alli_df=alli_df[alli_df[\"energy_per_atom\"]<=alli_df[\"energy_per_atom\"].min()+0.1]\n",
    "alli_df.shape"
   ]
  },
  {
   "cell_type": "code",
   "execution_count": null,
   "id": "ff5343d8",
   "metadata": {},
   "outputs": [],
   "source": [
    "small_training_df = pd.concat([al_fcc_df, li_bcc_df, alli_df])"
   ]
  },
  {
   "cell_type": "code",
   "execution_count": null,
   "id": "15f51641",
   "metadata": {},
   "outputs": [],
   "source": [
    "small_training_df.shape"
   ]
  },
  {
   "cell_type": "code",
   "execution_count": null,
   "id": "18c1aecb",
   "metadata": {},
   "outputs": [],
   "source": [
    "small_training_df[\"number_of_atoms\"].hist(bins=100);"
   ]
  },
  {
   "cell_type": "markdown",
   "id": "cce5126f",
   "metadata": {},
   "source": [
    "Select only sctructures smaller than **40** atoms per structures"
   ]
  },
  {
   "cell_type": "code",
   "execution_count": null,
   "id": "8766e5f8",
   "metadata": {},
   "outputs": [],
   "source": [
    "small_training_df=small_training_df[small_training_df[\"number_of_atoms\"]<=40].sample(n=100, random_state=42)"
   ]
  },
  {
   "cell_type": "code",
   "execution_count": null,
   "id": "8591ec1c",
   "metadata": {},
   "outputs": [],
   "source": [
    "small_training_df.shape"
   ]
  },
  {
   "cell_type": "markdown",
   "id": "33909021",
   "metadata": {},
   "source": [
    "Pack them into training container"
   ]
  },
  {
   "cell_type": "code",
   "execution_count": null,
   "id": "6359f955",
   "metadata": {},
   "outputs": [],
   "source": [
    "small_tc = pr.create.job.TrainingContainer(\"small_AlLi_training_container\", delete_existing_job=True)"
   ]
  },
  {
   "cell_type": "code",
   "execution_count": null,
   "id": "b60dfb18",
   "metadata": {},
   "outputs": [],
   "source": [
    "small_tc.include_dataset(small_training_df)"
   ]
  },
  {
   "cell_type": "code",
   "execution_count": null,
   "id": "5e473ec8",
   "metadata": {},
   "outputs": [],
   "source": [
    "small_tc.save()"
   ]
  },
  {
   "cell_type": "code",
   "execution_count": null,
   "id": "f09ab3cb-5389-49c9-8c65-559ec048acb2",
   "metadata": {},
   "outputs": [],
   "source": [
    "small_tc.plot.energy_volume(crystal_systems=True)"
   ]
  },
  {
   "cell_type": "markdown",
   "id": "71f51a61",
   "metadata": {},
   "source": [
    "### Create PacemakerJob"
   ]
  },
  {
   "cell_type": "code",
   "execution_count": null,
   "id": "932a7b46",
   "metadata": {},
   "outputs": [],
   "source": [
    "# job = pr.create.job.PacemakerJob(\"pacemaker_job\",delete_aborted_job=True, delete_existing_job=True)\n",
    "job = pr.create.job.PacemakerJob(\"pacemaker_job\")"
   ]
  },
  {
   "cell_type": "code",
   "execution_count": null,
   "id": "6bd31372",
   "metadata": {},
   "outputs": [],
   "source": [
    "job.add_training_data(small_tc)"
   ]
  },
  {
   "cell_type": "markdown",
   "id": "92f3518b-526a-4688-ac75-3f8ce0025d90",
   "metadata": {},
   "source": [
    "Set maximum cutoff for the potential"
   ]
  },
  {
   "cell_type": "markdown",
   "id": "1df3e88a-d357-4216-ad5a-f483c45bb55f",
   "metadata": {},
   "source": [
    "### PACE potential fitting setup"
   ]
  },
  {
   "cell_type": "markdown",
   "id": "3ec2c0a4-3395-4be6-ae5a-72d7f9bf4003",
   "metadata": {},
   "source": [
    "#### Overview of settings"
   ]
  },
  {
   "cell_type": "code",
   "execution_count": null,
   "id": "9093e5c9",
   "metadata": {},
   "outputs": [],
   "source": [
    "job.input"
   ]
  },
  {
   "cell_type": "markdown",
   "id": "b36cf9fa-2cd8-4cf7-a51d-a76d3f846e36",
   "metadata": {},
   "source": [
    "#### Potential interatomic distance cutoff"
   ]
  },
  {
   "cell_type": "code",
   "execution_count": null,
   "id": "180d92d9",
   "metadata": {},
   "outputs": [],
   "source": [
    "job.cutoff=7.0"
   ]
  },
  {
   "cell_type": "markdown",
   "id": "28360fdc",
   "metadata": {},
   "source": [
    "### Specification of ACE potential"
   ]
  },
  {
   "cell_type": "markdown",
   "id": "d31d042f-136d-4a43-b203-832b90c6fe7b",
   "metadata": {},
   "source": [
    "PACE potential specification consists of three parts:\n"
   ]
  },
  {
   "cell_type": "markdown",
   "id": "e531217c",
   "metadata": {},
   "source": [
    "#### 1. Embeddings\n",
    " i.e. how atomic energy $E_i$ depends on ACE properties/densities $\\varphi$. Linear expansion $E_i = \\varphi$ is the trivial. Non-linear expansion, i.e. those, containing square root, gives more flexiblity and accuracy of final potential"
   ]
  },
  {
   "cell_type": "markdown",
   "id": "6b226d14",
   "metadata": {},
   "source": [
    "Embeddings for `ALL` species (i.e. Al and Li): \n",
    "- non-linear `FinnisSinclairShiftedScaled`\n",
    "- 2 densities\n",
    "- fs_parameters': [1, 1, 1, 0.5]:\n",
    "$$E_i = 1.0 * \\varphi(1)^1 + 1.0 * \\varphi(2)^{0.5} = \\varphi^{(1)} + \\sqrt{\\varphi^{(2)}} $$"
   ]
  },
  {
   "cell_type": "code",
   "execution_count": null,
   "id": "a219d606",
   "metadata": {},
   "outputs": [],
   "source": [
    "job.input[\"potential\"][\"embeddings\"]"
   ]
  },
  {
   "cell_type": "markdown",
   "id": "f0a96e1e",
   "metadata": {},
   "source": [
    "#### 2. Radial functions"
   ]
  },
  {
   "cell_type": "markdown",
   "id": "c6ef161b",
   "metadata": {},
   "source": [
    "Radial functions are orthogonal polynoms example:\n",
    "* (a) Exponentially-scaled Chebyshev polynomials (λ = 5.25)\n",
    "* (b) Power-law scaled Chebyshev polynomials (λ = 2.0)\n",
    "* (c) Simplified spherical Bessel functions"
   ]
  },
  {
   "cell_type": "markdown",
   "id": "60448ec8-8caa-4162-9eba-7d3897618c52",
   "metadata": {},
   "source": [
    "![ACE radial functions](img/radial-functions-low.png \"ACE radial functions\")"
   ]
  },
  {
   "cell_type": "markdown",
   "id": "1c20667c",
   "metadata": {},
   "source": [
    "Radial functions specification for `ALL` species pairs (i.e. Al-Al, Al-Li, Li-Al, Li-Li):\n",
    "\n",
    "* based on the Simplified Bessel\n",
    "* cutoff $r_c=7.0$"
   ]
  },
  {
   "cell_type": "code",
   "execution_count": null,
   "id": "458c00f7",
   "metadata": {},
   "outputs": [],
   "source": [
    "job.input[\"potential\"][\"bonds\"]"
   ]
  },
  {
   "cell_type": "markdown",
   "id": "b56d046f",
   "metadata": {},
   "source": [
    "#### 3. B-basis functions"
   ]
  },
  {
   "cell_type": "markdown",
   "id": "9ed449b5",
   "metadata": {},
   "source": [
    "B-basis functions  for `ALL` species type interactions, i.e. Al-Al, Al-Li, Li-Al, Li-Li blocks:\n",
    "* maximum order = 4, i.e. body-order 5 (1 central atom + 4 neighbour  densities)\n",
    "* nradmax_by_orders: 15, 3, 2, 1\n",
    "* lmax_by_orders: 0, 3, 2, 1"
   ]
  },
  {
   "cell_type": "code",
   "execution_count": null,
   "id": "d095516c",
   "metadata": {},
   "outputs": [],
   "source": [
    "job.input[\"potential\"][\"functions\"]"
   ]
  },
  {
   "cell_type": "markdown",
   "id": "cf404f4d-7d72-4a20-813b-6f37a7157404",
   "metadata": {},
   "source": [
    "We will reduce the basis size for demonstartion purposes"
   ]
  },
  {
   "cell_type": "code",
   "execution_count": null,
   "id": "4954e72b",
   "metadata": {},
   "outputs": [],
   "source": [
    "job.input[\"potential\"][\"functions\"]={'ALL': {'nradmax_by_orders': [12, 3, 2], 'lmax_by_orders': [0, 2, 1]}}"
   ]
  },
  {
   "cell_type": "markdown",
   "id": "ac2ce634",
   "metadata": {},
   "source": [
    "### Fit/loss specification"
   ]
  },
  {
   "cell_type": "markdown",
   "id": "6a55fdd1",
   "metadata": {},
   "source": [
    "Loss function specification"
   ]
  },
  {
   "cell_type": "markdown",
   "id": "98f1f891",
   "metadata": {},
   "source": [
    "![Loss function](img/loss-func.png \"Loss function\")"
   ]
  },
  {
   "cell_type": "markdown",
   "id": "7de7795a",
   "metadata": {},
   "source": [
    "![Loss regularization](img/loss-reg.png \"Loss regularization\")"
   ]
  },
  {
   "cell_type": "code",
   "execution_count": null,
   "id": "2323c2b6",
   "metadata": {},
   "outputs": [],
   "source": [
    "job.input[\"fit\"]['loss']"
   ]
  },
  {
   "cell_type": "markdown",
   "id": "6a4897ee",
   "metadata": {},
   "source": [
    "#### Weighting"
   ]
  },
  {
   "cell_type": "markdown",
   "id": "10a755f2-e709-4bbc-b466-c86e81744231",
   "metadata": {},
   "source": [
    "Energy-based weighting puts more \"accent\" onto the low energy-lying structures, close to convex hull"
   ]
  },
  {
   "cell_type": "code",
   "execution_count": null,
   "id": "649ba22c",
   "metadata": {},
   "outputs": [],
   "source": [
    "job.input[\"fit\"]['weighting'] =  {\n",
    "        ## weights for the structures energies/forces are associated according to the distance to E_min:\n",
    "        ## convex hull ( energy: convex_hull) or minimal energy per atom (energy: cohesive)\n",
    "        \"type\": \"EnergyBasedWeightingPolicy\",\n",
    "        ## number of structures to randomly select from the initial dataset\n",
    "        \"nfit\": 10000,         \n",
    "        ## only the structures with energy up to E_min + DEup will be selected\n",
    "        \"DEup\": 10.0,  ## eV, upper energy range (E_min + DElow, E_min + DEup)        \n",
    "        ## only the structures with maximal force on atom  up to DFup will be selected\n",
    "        \"DFup\": 50.0, ## eV/A\n",
    "        ## lower energy range (E_min, E_min + DElow)\n",
    "        \"DElow\": 1.0,  ## eV\n",
    "        ## delta_E  shift for weights, see paper\n",
    "        \"DE\": 1.0,\n",
    "        ## delta_F  shift for weights, see paper\n",
    "        \"DF\": 1.0,\n",
    "        ## 0<wlow<1 or None: if provided, the renormalization weights of the structures on lower energy range (see DElow)\n",
    "        \"wlow\": 0.75,        \n",
    "        ##  \"convex_hull\" or \"cohesive\" : method to compute the E_min\n",
    "        \"energy\": \"convex_hull\",        \n",
    "        ## structures types: all (default), bulk or cluster\n",
    "        \"reftype\": \"all\",        \n",
    "        ## random number seed\n",
    "        \"seed\": 42 \n",
    "}"
   ]
  },
  {
   "cell_type": "markdown",
   "id": "a627cf6c",
   "metadata": {},
   "source": [
    "### Minimization and backend specification"
   ]
  },
  {
   "cell_type": "markdown",
   "id": "ba0b62ee-ec86-4859-a9e3-3b22a67aa370",
   "metadata": {},
   "source": [
    "![Loss function](img/tensorpotential.png \"Tensorpotential\")"
   ]
  },
  {
   "cell_type": "markdown",
   "id": "8b433aa3",
   "metadata": {},
   "source": [
    "Type of optimizer: `SciPy.minimize.BFGS`. This optimizer is more efficient that typical optimizers for neural networks (i.e. ADAM, RMSprop, Adagrad, etc.), but it scales quadratically wrt. number of optimizable parameters.\n",
    "However number of trainable parameters for PACE potential is usually up to few thousands, so we gain a lot of accuracy during training with BFGS optimizer."
   ]
  },
  {
   "cell_type": "code",
   "execution_count": null,
   "id": "93d7e132",
   "metadata": {},
   "outputs": [],
   "source": [
    "job.input[\"fit\"][\"optimizer\"]"
   ]
  },
  {
   "cell_type": "markdown",
   "id": "b9106897",
   "metadata": {},
   "source": [
    "Maximum number of iterations by minimizer. Typical values are ~1000-1500, but we chose small value for demonstration purposes only"
   ]
  },
  {
   "cell_type": "code",
   "execution_count": null,
   "id": "2a9c1d45",
   "metadata": {},
   "outputs": [],
   "source": [
    "job.input[\"fit\"][\"maxiter\"]=100"
   ]
  },
  {
   "cell_type": "markdown",
   "id": "eead75da",
   "metadata": {},
   "source": [
    "Batch size (number of simultaneously considered structures). This number should be reduced if there is not enough memory"
   ]
  },
  {
   "cell_type": "code",
   "execution_count": null,
   "id": "e0841a2a",
   "metadata": {},
   "outputs": [],
   "source": [
    "job.input[\"backend\"][\"batch_size\"]"
   ]
  },
  {
   "cell_type": "markdown",
   "id": "8398d24b",
   "metadata": {},
   "source": [
    "For more details about these and other settings please refer to [official documentation](https://pacemaker.readthedocs.io/en/latest/pacemaker/inputfile/)"
   ]
  },
  {
   "cell_type": "markdown",
   "id": "cf3df83d",
   "metadata": {},
   "source": [
    "## Run fit"
   ]
  },
  {
   "cell_type": "code",
   "execution_count": null,
   "id": "9ff612a7-3a03-4028-b7bd-ae8b8596457a",
   "metadata": {},
   "outputs": [],
   "source": [
    "job.executable.version = 'tf'"
   ]
  },
  {
   "cell_type": "code",
   "execution_count": null,
   "id": "4bff02a2",
   "metadata": {},
   "outputs": [],
   "source": [
    "job.run()"
   ]
  },
  {
   "cell_type": "code",
   "execution_count": null,
   "id": "70ff4e16",
   "metadata": {},
   "outputs": [],
   "source": [
    "pr.job_table()"
   ]
  },
  {
   "cell_type": "markdown",
   "id": "d008c0ac",
   "metadata": {},
   "source": [
    "## Analyse fit"
   ]
  },
  {
   "cell_type": "markdown",
   "id": "01bd56f1",
   "metadata": {},
   "source": [
    "plot loss function"
   ]
  },
  {
   "cell_type": "code",
   "execution_count": null,
   "id": "1640ba96",
   "metadata": {},
   "outputs": [],
   "source": [
    "plt.plot(job[\"output/log/loss\"])\n",
    "plt.xlabel(\"# iter\")\n",
    "plt.ylabel(\"Loss\")\n",
    "plt.loglog()"
   ]
  },
  {
   "cell_type": "markdown",
   "id": "b5a2ae0d",
   "metadata": {},
   "source": [
    "plot energy per atom RMSE"
   ]
  },
  {
   "cell_type": "code",
   "execution_count": null,
   "id": "25e2a558",
   "metadata": {},
   "outputs": [],
   "source": [
    "plt.plot(job[\"output/log/rmse_epa\"])\n",
    "plt.xlabel(\"# iter\")\n",
    "plt.ylabel(\"RMSE E, eV/atom\")\n",
    "plt.loglog()"
   ]
  },
  {
   "cell_type": "markdown",
   "id": "9780dee9",
   "metadata": {},
   "source": [
    "plot force component RMSE"
   ]
  },
  {
   "cell_type": "code",
   "execution_count": null,
   "id": "ddf9617c",
   "metadata": {},
   "outputs": [],
   "source": [
    "plt.plot(job[\"output/log/rmse_f_comp\"])\n",
    "plt.xlabel(\"# iter\")\n",
    "plt.ylabel(\"RMSE F_i, eV/A\")\n",
    "plt.loglog()"
   ]
  },
  {
   "cell_type": "code",
   "execution_count": null,
   "id": "f09f50f6",
   "metadata": {},
   "outputs": [],
   "source": []
  },
  {
   "cell_type": "markdown",
   "id": "3c3f336b",
   "metadata": {},
   "source": [
    "load DataFrame with predictions"
   ]
  },
  {
   "cell_type": "code",
   "execution_count": null,
   "id": "52105a3b",
   "metadata": {},
   "outputs": [],
   "source": [
    "ref_df = job.training_data"
   ]
  },
  {
   "cell_type": "code",
   "execution_count": null,
   "id": "0acc3ed8",
   "metadata": {},
   "outputs": [],
   "source": [
    "pred_df = job.predicted_data"
   ]
  },
  {
   "cell_type": "code",
   "execution_count": null,
   "id": "0456dfe6",
   "metadata": {},
   "outputs": [],
   "source": [
    "plt.scatter(pred_df[\"energy_per_atom_true\"],pred_df[\"energy_per_atom\"])\n",
    "plt.xlabel(\"DFT E, eV/atom\")\n",
    "plt.ylabel(\"ACE E, eV/atom\")"
   ]
  },
  {
   "cell_type": "code",
   "execution_count": null,
   "id": "07e559d1",
   "metadata": {},
   "outputs": [],
   "source": [
    "plt.scatter(ref_df[\"forces\"],pred_df[\"forces\"])\n",
    "plt.xlabel(\"DFT F_i, eV/A\")\n",
    "plt.ylabel(\"ACE F_i, eV/A\")"
   ]
  },
  {
   "cell_type": "code",
   "execution_count": null,
   "id": "0b1d6786",
   "metadata": {},
   "outputs": [],
   "source": []
  },
  {
   "cell_type": "markdown",
   "id": "3164cfc1",
   "metadata": {},
   "source": [
    "Check more in `job.working_directory`/report folder"
   ]
  },
  {
   "cell_type": "code",
   "execution_count": null,
   "id": "401df03b",
   "metadata": {},
   "outputs": [],
   "source": [
    "! ls {job.working_directory}/report"
   ]
  },
  {
   "cell_type": "markdown",
   "id": "aa8476e7",
   "metadata": {},
   "source": [
    "## How actual potential file looks like ?"
   ]
  },
  {
   "cell_type": "markdown",
   "id": "cd8f5733",
   "metadata": {},
   "source": [
    "`output_potential.yaml`:\n",
    "\n",
    "```yaml\n",
    "species:\n",
    "    # Pure Al interaction block\n",
    "  - speciesblock: Al\n",
    "    radbase: SBessel\n",
    "    radcoefficients: [[[1.995274603767268, -1.1940566258712266,...]]]\n",
    "  \n",
    "    nbody:\n",
    "      # first order/ two-body functions = pair functions\n",
    "      - {type: Al Al, nr: [1], nl: [0], c: [2.0970219095074687, -3.9539202281610351]}\n",
    "      - {type: Al Al, nr: [2], nl: [0], c: [-1.8968648691718397, -2.3146574133175974]}\n",
    "      - {type: Al Al, nr: [3], nl: [0], c: [1.3504952496800906, 1.5291190439028692]}\n",
    "      - {type: Al Al, nr: [4], nl: [0], c: [0.040517989827027742, 0.11933504671036224]}\n",
    "      ...\n",
    "      # second order/ three-body functions \n",
    "      - {type: Al Al Al, nr: [1, 1], nl: [0, 0], c: [0.57788490809100468, -1.8642896163994958]}\n",
    "      - {type: Al Al Al, nr: [1, 1], nl: [1, 1], c: [-1.0126646532267587, -1.2336078784112348]}\n",
    "      - {type: Al Al Al, nr: [1, 1], nl: [2, 2], c: [-0.19324470046809467, 0.63954472122968498]}\n",
    "      - {type: Al Al Al, nr: [1, 1], nl: [3, 3], c: [-0.22018334529075642, 0.32822679746839439]}\n",
    "      ...\n",
    "      # fifth order/ six-body functions \n",
    "      - {type: Al Al Al Al Al Al, nr: [1, 1, 1, 1, 1], nl: [0, 0, 0, 0, 0], lint: [0, 0, 0], c: [-0.71...]}\n",
    "  \n",
    "  \n",
    "  # binary Al-Li interaction block    \n",
    "  - speciesblock: Al Li      \n",
    "     ...\n",
    "     nbody:\n",
    "      - {type: Al Li, nr: [1], nl: [0], c: [0.91843424537280882, -2.4170371138562308]}\n",
    "      - {type: Al Li, nr: [2], nl: [0], c: [-0.88380210517336399, -0.97055273167339651]}\n",
    "      ...\n",
    "      - {type: Al Al Al Li Li, nr: [1, 1, 1, 1], nl: [1, 1, 0, 0], lint: [0, 0], c: [-0.0050,...]}\n",
    "      ...\n",
    "  # Pure Li interaction block      \n",
    "  - speciesblock: Li\n",
    "      nbody:\n",
    "       ...\n",
    "       - {type: Li Li Li, nr: [4, 4], nl: [3, 3], c: [-0.0059111333449957159, 0.035]}\n",
    "       - {type: Li Li Li Li, nr: [1, 1, 1], nl: [0, 0, 0], lint: [0], c: [0.210,...]}\n",
    "       ...\n",
    "  # binary Al-Li interaction block    \n",
    "  - speciesblock: Li Al\n",
    "      nbody:\n",
    "       ...\n",
    "       - {type: Li Al Al, nr: [4, 4], nl: [3, 3], c: [0.014680736321211739, -0.030618474343919122]}\n",
    "       - {type: Li Al Li, nr: [1, 1], nl: [0, 0], c: [-0.22827705573988896, 0.28367909613209036]}\n",
    "       ...\n",
    "  \n",
    "```"
   ]
  },
  {
   "cell_type": "markdown",
   "id": "13e2ebaf",
   "metadata": {},
   "source": [
    "`output_potential.yaml` is in B-basis form. For efficient LAMMPS implementaion it should be converted to so-called `C-tilde` form.  This is already done by `pyiron`, but it could be also done manually by `pace_yaml2yace` utility. Check [here](https://pacemaker.readthedocs.io/en/latest/pacemaker/quickstart/#lammps) for more details"
   ]
  },
  {
   "cell_type": "markdown",
   "id": "2bdf791a",
   "metadata": {},
   "source": [
    "## Get LAMMPS potential and try some calculations"
   ]
  },
  {
   "cell_type": "code",
   "execution_count": null,
   "id": "c229794b",
   "metadata": {},
   "outputs": [],
   "source": [
    "pace_lammps_potential = job.get_lammps_potential()\n",
    "pace_lammps_potential"
   ]
  },
  {
   "cell_type": "code",
   "execution_count": null,
   "id": "7d6534da",
   "metadata": {},
   "outputs": [],
   "source": [
    "lammps_job = pr.create.job.Lammps(\"pace_lammps\", delete_existing_job=True)"
   ]
  },
  {
   "cell_type": "code",
   "execution_count": null,
   "id": "658e357f-fb4c-4c5b-97d3-05e722393d92",
   "metadata": {},
   "outputs": [],
   "source": [
    "lammps_job.structure=pr.create.structure.bulk(\"Al\", cubic=True)"
   ]
  },
  {
   "cell_type": "code",
   "execution_count": null,
   "id": "d3c13d84-05bd-421c-9f70-55df301c1c7a",
   "metadata": {},
   "outputs": [],
   "source": [
    "lammps_job.structure[0]='Li'"
   ]
  },
  {
   "cell_type": "code",
   "execution_count": null,
   "id": "901e84bb-795b-4c75-b432-4e289b50170f",
   "metadata": {},
   "outputs": [],
   "source": [
    "lammps_job.potential=pace_lammps_potential"
   ]
  },
  {
   "cell_type": "code",
   "execution_count": null,
   "id": "a56cdf1d-fd7d-4fff-9df7-5cac3f3a4dbd",
   "metadata": {},
   "outputs": [],
   "source": []
  },
  {
   "cell_type": "code",
   "execution_count": null,
   "id": "61f77a11-a808-4a3f-835c-0a76dd3100e8",
   "metadata": {},
   "outputs": [],
   "source": [
    "murn=pr.create.job.Murnaghan(\"LiAl_murn\")"
   ]
  },
  {
   "cell_type": "code",
   "execution_count": null,
   "id": "923fbb50-8aaa-4d63-8db7-366a2ce2acbc",
   "metadata": {},
   "outputs": [],
   "source": [
    "murn.ref_job = lammps_job"
   ]
  },
  {
   "cell_type": "code",
   "execution_count": null,
   "id": "c12569c0-661a-41dd-9b38-3fae5240d331",
   "metadata": {
    "tags": []
   },
   "outputs": [],
   "source": [
    "murn.run()"
   ]
  },
  {
   "cell_type": "code",
   "execution_count": null,
   "id": "cfbc8c17-c69b-4eb1-86ef-e855a72ee270",
   "metadata": {},
   "outputs": [],
   "source": [
    "murn.plot()"
   ]
  },
  {
   "cell_type": "code",
   "execution_count": null,
   "id": "5b38ac8a-8a75-465b-b4e7-fbed142e7209",
   "metadata": {},
   "outputs": [],
   "source": []
  },
  {
   "cell_type": "markdown",
   "id": "75cb5206-c497-401c-b2f2-74436e219784",
   "metadata": {},
   "source": [
    "## Further reading"
   ]
  },
  {
   "cell_type": "markdown",
   "id": "b5c498c2-c6fd-4f9b-bd12-0dfd6381c085",
   "metadata": {},
   "source": [
    "Please read sources for more details:\n",
    "* [Documentation](https://pacemaker.readthedocs.io/en/latest/)\n",
    "* [`pacemaker` repository](https://github.com/ICAMS/python-ace)\n",
    "* [Bochkarev, A., Lysogorskiy, Y., Menon, S., Qamar, M., Mrovec, M. and Drautz, R. Efficient parametrization of the atomic cluster expansion. Physical Review Materials 6(1) 013804 (2022)](https://journals.aps.org/prmaterials/abstract/10.1103/PhysRevMaterials.6.013804)\n",
    "* [Lysogorskiy, Y., Oord, C. v. d., Bochkarev, A., Menon, S., Rinaldi, M., Hammerschmidt, T., Mrovec, M., Thompson, A., Csányi, G., Ortner, C. and  Drautz, R. Performant implementation of the atomic cluster expansion (PACE) and application to copper and silicon. npj Computational Materials 7(1), 1-12 (2021)](https://www.nature.com/articles/s41524-021-00559-9)\n",
    "* [Drautz, R. Atomic cluster expansion for accurate and transferable interatomic potentials. Physical Review B, 99(1), 014104 (2019)](https://journals.aps.org/prb/abstract/10.1103/PhysRevB.99.014104)\n",
    "\n"
   ]
  },
  {
   "cell_type": "code",
   "execution_count": null,
   "id": "2bb9e3a3-7807-42f5-a6b4-2ec9b11ff4c0",
   "metadata": {},
   "outputs": [],
   "source": []
  }
 ],
 "metadata": {
  "kernelspec": {
   "display_name": "Python 3 (ipykernel)",
   "language": "python",
   "name": "python3"
  },
  "language_info": {
   "codemirror_mode": {
    "name": "ipython",
    "version": 3
   },
   "file_extension": ".py",
   "mimetype": "text/x-python",
   "name": "python",
   "nbconvert_exporter": "python",
   "pygments_lexer": "ipython3",
   "version": "3.8.8"
  }
 },
 "nbformat": 4,
 "nbformat_minor": 5
}
