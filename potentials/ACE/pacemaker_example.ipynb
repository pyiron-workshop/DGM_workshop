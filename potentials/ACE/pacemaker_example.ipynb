{
 "cells": [
  {
   "cell_type": "markdown",
   "id": "b680880a",
   "metadata": {},
   "source": [
    "# Atomic cluster expansion (ACE)"
   ]
  },
  {
   "cell_type": "markdown",
   "id": "119bff90",
   "metadata": {},
   "source": [
    "Please read sources for more details:\n",
    "\n",
    "* [Documentation](https://pacemaker.readthedocs.io/en/latest/)\n",
    "* [`pacemaker` repository](https://github.com/ICAMS/python-ace)\n",
    "* [Bochkarev, A., Lysogorskiy, Y., Menon, S., Qamar, M., Mrovec, M. and Drautz, R. Efficient parametrization of the atomic cluster expansion. Physical Review Materials 6(1) 013804 (2022)](https://journals.aps.org/prmaterials/abstract/10.1103/PhysRevMaterials.6.013804)\n",
    "* [Lysogorskiy, Y., Oord, C. v. d., Bochkarev, A., Menon, S., Rinaldi, M., Hammerschmidt, T., Mrovec, M., Thompson, A., Csányi, G., Ortner, C. and  Drautz, R. Performant implementation of the atomic cluster expansion (PACE) and application to copper and silicon. npj Computational Materials 7(1), 1-12 (2021)](https://www.nature.com/articles/s41524-021-00559-9)\n",
    "* [Drautz, R. Atomic cluster expansion for accurate and transferable interatomic potentials. Physical Review B, 99(1), 014104 (2019)](https://journals.aps.org/prb/abstract/10.1103/PhysRevB.99.014104)\n",
    "\n"
   ]
  },
  {
   "cell_type": "markdown",
   "id": "1a385f10",
   "metadata": {},
   "source": [
    "## Import and load"
   ]
  },
  {
   "cell_type": "code",
   "execution_count": 1,
   "id": "dded85d1",
   "metadata": {},
   "outputs": [
    {
     "name": "stdout",
     "output_type": "stream",
     "text": [
      "%pylab is deprecated, use %matplotlib inline and import the required libraries.\n",
      "Populating the interactive namespace from numpy and matplotlib\n"
     ]
    }
   ],
   "source": [
    "%pylab inline"
   ]
  },
  {
   "cell_type": "code",
   "execution_count": 2,
   "id": "d19586ef",
   "metadata": {},
   "outputs": [
    {
     "data": {
      "application/vnd.jupyter.widget-view+json": {
       "model_id": "6e6f84f896f54dad9113a6c857df5a80",
       "version_major": 2,
       "version_minor": 0
      },
      "text/plain": []
     },
     "metadata": {},
     "output_type": "display_data"
    }
   ],
   "source": [
    "from pyiron import Project"
   ]
  },
  {
   "cell_type": "code",
   "execution_count": 3,
   "id": "812a96f6",
   "metadata": {},
   "outputs": [],
   "source": [
    "from collections import Counter"
   ]
  },
  {
   "cell_type": "code",
   "execution_count": 4,
   "id": "6ea6b07e",
   "metadata": {},
   "outputs": [],
   "source": [
    "import pandas as pd"
   ]
  },
  {
   "cell_type": "code",
   "execution_count": 5,
   "id": "af3c8676-249d-4bcc-ad6d-369600d25bb8",
   "metadata": {},
   "outputs": [
    {
     "data": {
      "application/vnd.jupyter.widget-view+json": {
       "model_id": "3c015b616e0e48379766cf6a45b8c79e",
       "version_major": 2,
       "version_minor": 0
      },
      "text/plain": [
       "  0%|          | 0/3 [00:00<?, ?it/s]"
      ]
     },
     "metadata": {},
     "output_type": "display_data"
    }
   ],
   "source": [
    "pr = Project('.')\n",
    "\n",
    "pr.remove_jobs(silently=True,recursive=True)\n",
    "pr.unpack('training_export')\n",
    "pr = Project('training')"
   ]
  },
  {
   "cell_type": "code",
   "execution_count": 6,
   "id": "24d7d005-613f-4671-bd4c-0bd555c028cd",
   "metadata": {},
   "outputs": [
    {
     "data": {
      "text/plain": [
       "{'groups': [], 'nodes': ['full', 'basic', 'Al_basic_atomicrex']}"
      ]
     },
     "execution_count": 6,
     "metadata": {},
     "output_type": "execute_result"
    }
   ],
   "source": [
    "pr"
   ]
  },
  {
   "cell_type": "markdown",
   "id": "38943882",
   "metadata": {},
   "source": [
    "## Loading training containers (select smaller training subset for example)"
   ]
  },
  {
   "cell_type": "code",
   "execution_count": 7,
   "id": "0764935b",
   "metadata": {},
   "outputs": [],
   "source": [
    "training_container = pr['full']"
   ]
  },
  {
   "cell_type": "code",
   "execution_count": 8,
   "id": "bbe3f49c",
   "metadata": {},
   "outputs": [],
   "source": [
    "df=training_container.to_pandas()"
   ]
  },
  {
   "cell_type": "code",
   "execution_count": 9,
   "id": "bff9bff4",
   "metadata": {},
   "outputs": [],
   "source": [
    "df[\"energy_per_atom\"]=df[\"energy\"]/df[\"number_of_atoms\"]\n",
    "df[\"comp_dict\"]=df[\"atoms\"].map(lambda at: Counter(at.get_chemical_symbols()))\n",
    "for el in [\"Al\",\"Li\"]:\n",
    "    df[\"n\"+el]=df[\"comp_dict\"].map(lambda d: d.get(el,0))\n",
    "    df[\"c\"+el]=df[\"n\"+el]/df[\"number_of_atoms\"]"
   ]
  },
  {
   "cell_type": "markdown",
   "id": "3d3af629",
   "metadata": {},
   "source": [
    "Select only Al-fcc"
   ]
  },
  {
   "cell_type": "code",
   "execution_count": 10,
   "id": "1ee0b19f",
   "metadata": {},
   "outputs": [
    {
     "data": {
      "text/plain": [
       "(134, 12)"
      ]
     },
     "execution_count": 10,
     "metadata": {},
     "output_type": "execute_result"
    }
   ],
   "source": [
    "al_fcc_df = df[df[\"name\"].str.contains(\"Al_fcc\")]\n",
    "al_fcc_df.shape"
   ]
  },
  {
   "cell_type": "markdown",
   "id": "28078385",
   "metadata": {},
   "source": [
    "only Li-bcc"
   ]
  },
  {
   "cell_type": "code",
   "execution_count": 11,
   "id": "99840b1b",
   "metadata": {},
   "outputs": [
    {
     "data": {
      "text/plain": [
       "(179, 12)"
      ]
     },
     "execution_count": 11,
     "metadata": {},
     "output_type": "execute_result"
    }
   ],
   "source": [
    "li_bcc_df = df[df[\"name\"].str.contains(\"Li_bcc\")]\n",
    "li_bcc_df.shape"
   ]
  },
  {
   "cell_type": "markdown",
   "id": "251af910",
   "metadata": {},
   "source": [
    "and AlLi structures that are within 0.1 eV/atom above AlLi ground state (min.energy structure)"
   ]
  },
  {
   "cell_type": "code",
   "execution_count": 12,
   "id": "7a31322c",
   "metadata": {},
   "outputs": [
    {
     "data": {
      "text/plain": [
       "(178, 12)"
      ]
     },
     "execution_count": 12,
     "metadata": {},
     "output_type": "execute_result"
    }
   ],
   "source": [
    "alli_df = df[df[\"cAl\"]==0.5]\n",
    "alli_df=alli_df[alli_df[\"energy_per_atom\"]<=alli_df[\"energy_per_atom\"].min()+0.1]\n",
    "alli_df.shape"
   ]
  },
  {
   "cell_type": "code",
   "execution_count": 13,
   "id": "ff5343d8",
   "metadata": {},
   "outputs": [],
   "source": [
    "small_training_df = pd.concat([al_fcc_df, li_bcc_df, alli_df])"
   ]
  },
  {
   "cell_type": "code",
   "execution_count": 14,
   "id": "15f51641",
   "metadata": {},
   "outputs": [
    {
     "data": {
      "text/plain": [
       "(491, 12)"
      ]
     },
     "execution_count": 14,
     "metadata": {},
     "output_type": "execute_result"
    }
   ],
   "source": [
    "small_training_df.shape"
   ]
  },
  {
   "cell_type": "code",
   "execution_count": 15,
   "id": "18c1aecb",
   "metadata": {},
   "outputs": [
    {
     "data": {
      "image/png": "[encoded data removed]",
      "text/plain": [
       "<Figure size 640x480 with 1 Axes>"
      ]
     },
     "metadata": {},
     "output_type": "display_data"
    }
   ],
   "source": [
    "small_training_df[\"number_of_atoms\"].hist(bins=100);"
   ]
  },
  {
   "cell_type": "markdown",
   "id": "cce5126f",
   "metadata": {},
   "source": [
    "Select only sctructures smaller than **40** atoms per structures"
   ]
  },
  {
   "cell_type": "code",
   "execution_count": 16,
   "id": "8766e5f8",
   "metadata": {},
   "outputs": [],
   "source": [
    "small_training_df=small_training_df[small_training_df[\"number_of_atoms\"]<=40].sample(n=100, random_state=42)"
   ]
  },
  {
   "cell_type": "code",
   "execution_count": 17,
   "id": "8591ec1c",
   "metadata": {},
   "outputs": [
    {
     "data": {
      "text/plain": [
       "(100, 12)"
      ]
     },
     "execution_count": 17,
     "metadata": {},
     "output_type": "execute_result"
    }
   ],
   "source": [
    "small_training_df.shape"
   ]
  },
  {
   "cell_type": "markdown",
   "id": "33909021",
   "metadata": {},
   "source": [
    "Pack them into training container"
   ]
  },
  {
   "cell_type": "code",
   "execution_count": 18,
   "id": "6359f955",
   "metadata": {},
   "outputs": [],
   "source": [
    "small_tc = pr.create.job.TrainingContainer(\"small_AlLi_training_container\", delete_existing_job=True)"
   ]
  },
  {
   "cell_type": "code",
   "execution_count": 19,
   "id": "b60dfb18",
   "metadata": {},
   "outputs": [],
   "source": [
    "small_tc.include_dataset(small_training_df)"
   ]
  },
  {
   "cell_type": "code",
   "execution_count": 20,
   "id": "5e473ec8",
   "metadata": {},
   "outputs": [
    {
     "name": "stdout",
     "output_type": "stream",
     "text": [
      "The job small_AlLi_training_container was saved and received the ID: 4\n"
     ]
    },
    {
     "data": {
      "text/plain": [
       "4"
      ]
     },
     "execution_count": 20,
     "metadata": {},
     "output_type": "execute_result"
    }
   ],
   "source": [
    "small_tc.save()"
   ]
  },
  {
   "cell_type": "code",
   "execution_count": 21,
   "id": "f09ab3cb-5389-49c9-8c65-559ec048acb2",
   "metadata": {},
   "outputs": [
    {
     "data": {
      "text/html": [
       "<div>\n",
       "<style scoped>\n",
       "    .dataframe tbody tr th:only-of-type {\n",
       "        vertical-align: middle;\n",
       "    }\n",
       "\n",
       "    .dataframe tbody tr th {\n",
       "        vertical-align: top;\n",
       "    }\n",
       "\n",
       "    .dataframe thead th {\n",
       "        text-align: right;\n",
       "    }\n",
       "</style>\n",
       "<table border=\"1\" class=\"dataframe\">\n",
       "  <thead>\n",
       "    <tr style=\"text-align: right;\">\n",
       "      <th></th>\n",
       "      <th>V</th>\n",
       "      <th>E</th>\n",
       "      <th>space_group</th>\n",
       "      <th>crystal_system</th>\n",
       "    </tr>\n",
       "  </thead>\n",
       "  <tbody>\n",
       "    <tr>\n",
       "      <th>0</th>\n",
       "      <td>18.537039</td>\n",
       "      <td>-2.714437</td>\n",
       "      <td>194</td>\n",
       "      <td>hexagonal</td>\n",
       "    </tr>\n",
       "    <tr>\n",
       "      <th>1</th>\n",
       "      <td>17.014115</td>\n",
       "      <td>-3.415845</td>\n",
       "      <td>1</td>\n",
       "      <td>triclinic</td>\n",
       "    </tr>\n",
       "    <tr>\n",
       "      <th>2</th>\n",
       "      <td>18.132856</td>\n",
       "      <td>-3.449419</td>\n",
       "      <td>225</td>\n",
       "      <td>cubic</td>\n",
       "    </tr>\n",
       "    <tr>\n",
       "      <th>3</th>\n",
       "      <td>18.512802</td>\n",
       "      <td>-3.413774</td>\n",
       "      <td>1</td>\n",
       "      <td>triclinic</td>\n",
       "    </tr>\n",
       "    <tr>\n",
       "      <th>4</th>\n",
       "      <td>20.298508</td>\n",
       "      <td>-3.178243</td>\n",
       "      <td>1</td>\n",
       "      <td>triclinic</td>\n",
       "    </tr>\n",
       "    <tr>\n",
       "      <th>...</th>\n",
       "      <td>...</td>\n",
       "      <td>...</td>\n",
       "      <td>...</td>\n",
       "      <td>...</td>\n",
       "    </tr>\n",
       "    <tr>\n",
       "      <th>95</th>\n",
       "      <td>15.707664</td>\n",
       "      <td>-2.800103</td>\n",
       "      <td>227</td>\n",
       "      <td>cubic</td>\n",
       "    </tr>\n",
       "    <tr>\n",
       "      <th>96</th>\n",
       "      <td>18.722061</td>\n",
       "      <td>-3.399934</td>\n",
       "      <td>1</td>\n",
       "      <td>triclinic</td>\n",
       "    </tr>\n",
       "    <tr>\n",
       "      <th>97</th>\n",
       "      <td>16.388387</td>\n",
       "      <td>-2.746841</td>\n",
       "      <td>1</td>\n",
       "      <td>triclinic</td>\n",
       "    </tr>\n",
       "    <tr>\n",
       "      <th>98</th>\n",
       "      <td>16.697821</td>\n",
       "      <td>-3.450689</td>\n",
       "      <td>1</td>\n",
       "      <td>triclinic</td>\n",
       "    </tr>\n",
       "    <tr>\n",
       "      <th>99</th>\n",
       "      <td>16.484904</td>\n",
       "      <td>-3.482749</td>\n",
       "      <td>225</td>\n",
       "      <td>cubic</td>\n",
       "    </tr>\n",
       "  </tbody>\n",
       "</table>\n",
       "<p>100 rows × 4 columns</p>\n",
       "</div>"
      ],
      "text/plain": [
       "            V         E  space_group crystal_system\n",
       "0   18.537039 -2.714437          194      hexagonal\n",
       "1   17.014115 -3.415845            1      triclinic\n",
       "2   18.132856 -3.449419          225          cubic\n",
       "3   18.512802 -3.413774            1      triclinic\n",
       "4   20.298508 -3.178243            1      triclinic\n",
       "..        ...       ...          ...            ...\n",
       "95  15.707664 -2.800103          227          cubic\n",
       "96  18.722061 -3.399934            1      triclinic\n",
       "97  16.388387 -2.746841            1      triclinic\n",
       "98  16.697821 -3.450689            1      triclinic\n",
       "99  16.484904 -3.482749          225          cubic\n",
       "\n",
       "[100 rows x 4 columns]"
      ]
     },
     "execution_count": 21,
     "metadata": {},
     "output_type": "execute_result"
    },
    {
     "data": {
      "image/png": "[encoded data removed]",
      "text/plain": [
       "<Figure size 640x480 with 1 Axes>"
      ]
     },
     "metadata": {},
     "output_type": "display_data"
    }
   ],
   "source": [
    "small_tc.plot.energy_volume(crystal_systems=True)"
   ]
  },
  {
   "cell_type": "markdown",
   "id": "71f51a61",
   "metadata": {},
   "source": [
    "### Create PacemakerJob"
   ]
  },
  {
   "cell_type": "code",
   "execution_count": 23,
   "id": "932a7b46",
   "metadata": {},
   "outputs": [],
   "source": [
    "# job = pr.create.job.PacemakerJob(\"pacemaker_job\",delete_aborted_job=True, delete_existing_job=True)\n",
    "job = pr.create.job.PacemakerJob(\"pacemaker_job\")"
   ]
  },
  {
   "cell_type": "code",
   "execution_count": 24,
   "id": "6bd31372",
   "metadata": {},
   "outputs": [],
   "source": [
    "job.add_training_data(small_tc)"
   ]
  },
  {
   "cell_type": "markdown",
   "id": "92f3518b-526a-4688-ac75-3f8ce0025d90",
   "metadata": {},
   "source": [
    "Set maximum cutoff for the potential"
   ]
  },
  {
   "cell_type": "markdown",
   "id": "1df3e88a-d357-4216-ad5a-f483c45bb55f",
   "metadata": {},
   "source": [
    "### PACE potential fitting setup"
   ]
  },
  {
   "cell_type": "markdown",
   "id": "3ec2c0a4-3395-4be6-ae5a-72d7f9bf4003",
   "metadata": {},
   "source": [
    "#### Overview of settings"
   ]
  },
  {
   "cell_type": "code",
   "execution_count": 25,
   "id": "9093e5c9",
   "metadata": {},
   "outputs": [
    {
     "data": {
      "text/html": [
       "<div>\n",
       "<style scoped>\n",
       "    .dataframe tbody tr th:only-of-type {\n",
       "        vertical-align: middle;\n",
       "    }\n",
       "\n",
       "    .dataframe tbody tr th {\n",
       "        vertical-align: top;\n",
       "    }\n",
       "\n",
       "    .dataframe thead th {\n",
       "        text-align: right;\n",
       "    }\n",
       "</style>\n",
       "<table border=\"1\" class=\"dataframe\">\n",
       "  <thead>\n",
       "    <tr style=\"text-align: right;\">\n",
       "      <th></th>\n",
       "      <th>Parameter</th>\n",
       "      <th>Value</th>\n",
       "      <th>Comment</th>\n",
       "    </tr>\n",
       "  </thead>\n",
       "  <tbody>\n",
       "    <tr>\n",
       "      <th>0</th>\n",
       "      <td>cutoff</td>\n",
       "      <td>7.0</td>\n",
       "      <td></td>\n",
       "    </tr>\n",
       "    <tr>\n",
       "      <th>1</th>\n",
       "      <td>metadata</td>\n",
       "      <td>{'comment': 'pyiron-generated fitting job'}</td>\n",
       "      <td></td>\n",
       "    </tr>\n",
       "    <tr>\n",
       "      <th>2</th>\n",
       "      <td>data</td>\n",
       "      <td>{}</td>\n",
       "      <td></td>\n",
       "    </tr>\n",
       "    <tr>\n",
       "      <th>3</th>\n",
       "      <td>potential</td>\n",
       "      <td>{'elements': [], 'bonds': {'ALL': {'radbase': 'SBessel', 'rcut': 7.0, 'dcut': 0.01, 'radparameters': [5.25]}}, 'embeddings': {'ALL': {'fs_parameters': [1, 1, 1, 0.5], 'ndensity': 2, 'npot': 'Finni...</td>\n",
       "      <td></td>\n",
       "    </tr>\n",
       "    <tr>\n",
       "      <th>4</th>\n",
       "      <td>fit</td>\n",
       "      <td>{'loss': {'L1_coeffs': 1e-08, 'L2_coeffs': 1e-08, 'kappa': 0.3, 'w0_rad': 0, 'w1_rad': 0, 'w2_rad': 0}, 'maxiter': 1000, 'optimizer': 'BFGS', 'fit_cycles': 1}</td>\n",
       "      <td></td>\n",
       "    </tr>\n",
       "    <tr>\n",
       "      <th>5</th>\n",
       "      <td>backend</td>\n",
       "      <td>{'batch_size': 100, 'display_step': 50, 'evaluator': 'tensorpot'}</td>\n",
       "      <td></td>\n",
       "    </tr>\n",
       "  </tbody>\n",
       "</table>\n",
       "</div>"
      ],
      "text/plain": [
       "   Parameter  \\\n",
       "0     cutoff   \n",
       "1   metadata   \n",
       "2       data   \n",
       "3  potential   \n",
       "4        fit   \n",
       "5    backend   \n",
       "\n",
       "                                                                                                                                                                                                     Value  \\\n",
       "0                                                                                                                                                                                                      7.0   \n",
       "1                                                                                                                                                              {'comment': 'pyiron-generated fitting job'}   \n",
       "2                                                                                                                                                                                                       {}   \n",
       "3  {'elements': [], 'bonds': {'ALL': {'radbase': 'SBessel', 'rcut': 7.0, 'dcut': 0.01, 'radparameters': [5.25]}}, 'embeddings': {'ALL': {'fs_parameters': [1, 1, 1, 0.5], 'ndensity': 2, 'npot': 'Finni...   \n",
       "4                                           {'loss': {'L1_coeffs': 1e-08, 'L2_coeffs': 1e-08, 'kappa': 0.3, 'w0_rad': 0, 'w1_rad': 0, 'w2_rad': 0}, 'maxiter': 1000, 'optimizer': 'BFGS', 'fit_cycles': 1}   \n",
       "5                                                                                                                                        {'batch_size': 100, 'display_step': 50, 'evaluator': 'tensorpot'}   \n",
       "\n",
       "  Comment  \n",
       "0          \n",
       "1          \n",
       "2          \n",
       "3          \n",
       "4          \n",
       "5          "
      ]
     },
     "execution_count": 25,
     "metadata": {},
     "output_type": "execute_result"
    }
   ],
   "source": [
    "job.input"
   ]
  },
  {
   "cell_type": "markdown",
   "id": "b36cf9fa-2cd8-4cf7-a51d-a76d3f846e36",
   "metadata": {},
   "source": [
    "#### Potential interatomic distance cutoff"
   ]
  },
  {
   "cell_type": "code",
   "execution_count": 26,
   "id": "180d92d9",
   "metadata": {},
   "outputs": [],
   "source": [
    "job.cutoff=5.0 #7.0"
   ]
  },
  {
   "cell_type": "markdown",
   "id": "28360fdc",
   "metadata": {},
   "source": [
    "### Specification of ACE potential"
   ]
  },
  {
   "cell_type": "markdown",
   "id": "d31d042f-136d-4a43-b203-832b90c6fe7b",
   "metadata": {},
   "source": [
    "PACE potential specification consists of three parts:\n"
   ]
  },
  {
   "cell_type": "markdown",
   "id": "e531217c",
   "metadata": {},
   "source": [
    "#### 1. Embeddings\n",
    " i.e. how atomic energy $E_i$ depends on ACE properties/densities $\\varphi$. Linear expansion $E_i = \\varphi$ is the trivial. Non-linear expansion, i.e. those, containing square root, gives more flexiblity and accuracy of final potential"
   ]
  },
  {
   "cell_type": "markdown",
   "id": "6b226d14",
   "metadata": {},
   "source": [
    "Embeddings for `ALL` species (i.e. Al and Li): \n",
    "- non-linear `FinnisSinclairShiftedScaled`\n",
    "- 2 densities\n",
    "- fs_parameters': [1, 1, 1, 0.5]:\n",
    "$$E_i = 1.0 * \\varphi(1)^1 + 1.0 * \\varphi(2)^{0.5} = \\varphi^{(1)} + \\sqrt{\\varphi^{(2)}} $$"
   ]
  },
  {
   "cell_type": "code",
   "execution_count": 27,
   "id": "a219d606",
   "metadata": {},
   "outputs": [
    {
     "data": {
      "text/plain": [
       "{'ALL': {'fs_parameters': [1, 1, 1, 0.5],\n",
       "  'ndensity': 2,\n",
       "  'npot': 'FinnisSinclairShiftedScaled'}}"
      ]
     },
     "execution_count": 27,
     "metadata": {},
     "output_type": "execute_result"
    }
   ],
   "source": [
    "job.input[\"potential\"][\"embeddings\"]"
   ]
  },
  {
   "cell_type": "markdown",
   "id": "f0a96e1e",
   "metadata": {},
   "source": [
    "#### 2. Radial functions"
   ]
  },
  {
   "cell_type": "markdown",
   "id": "c6ef161b",
   "metadata": {},
   "source": [
    "Radial functions are orthogonal polynoms example:\n",
    "* (a) Exponentially-scaled Chebyshev polynomials (λ = 5.25)\n",
    "* (b) Power-law scaled Chebyshev polynomials (λ = 2.0)\n",
    "* (c) Simplified spherical Bessel functions"
   ]
  },
  {
   "cell_type": "markdown",
   "id": "60448ec8-8caa-4162-9eba-7d3897618c52",
   "metadata": {},
   "source": [
    "![ACE radial functions](img/radial-functions-low.png \"ACE radial functions\")"
   ]
  },
  {
   "cell_type": "markdown",
   "id": "1c20667c",
   "metadata": {},
   "source": [
    "Radial functions specification for `ALL` species pairs (i.e. Al-Al, Al-Li, Li-Al, Li-Li):\n",
    "\n",
    "* based on the Simplified Bessel\n",
    "* cutoff $r_c=7.0$"
   ]
  },
  {
   "cell_type": "code",
   "execution_count": 28,
   "id": "458c00f7",
   "metadata": {},
   "outputs": [
    {
     "data": {
      "text/plain": [
       "{'ALL': {'radbase': 'SBessel',\n",
       "  'rcut': 5.0,\n",
       "  'dcut': 0.01,\n",
       "  'radparameters': [5.25]}}"
      ]
     },
     "execution_count": 28,
     "metadata": {},
     "output_type": "execute_result"
    }
   ],
   "source": [
    "job.input[\"potential\"][\"bonds\"]"
   ]
  },
  {
   "cell_type": "markdown",
   "id": "b56d046f",
   "metadata": {},
   "source": [
    "#### 3. B-basis functions"
   ]
  },
  {
   "cell_type": "markdown",
   "id": "9ed449b5",
   "metadata": {},
   "source": [
    "B-basis functions  for `ALL` species type interactions, i.e. Al-Al, Al-Li, Li-Al, Li-Li blocks:\n",
    "* maximum order = 4, i.e. body-order 5 (1 central atom + 4 neighbour  densities)\n",
    "* nradmax_by_orders: 15, 3, 2, 1\n",
    "* lmax_by_orders: 0, 3, 2, 1"
   ]
  },
  {
   "cell_type": "code",
   "execution_count": 29,
   "id": "d095516c",
   "metadata": {},
   "outputs": [
    {
     "data": {
      "text/plain": [
       "{'ALL': {'nradmax_by_orders': [15, 3, 2, 1], 'lmax_by_orders': [0, 3, 2, 1]}}"
      ]
     },
     "execution_count": 29,
     "metadata": {},
     "output_type": "execute_result"
    }
   ],
   "source": [
    "job.input[\"potential\"][\"functions\"]"
   ]
  },
  {
   "cell_type": "markdown",
   "id": "cf404f4d-7d72-4a20-813b-6f37a7157404",
   "metadata": {},
   "source": [
    "We will reduce the basis size for demonstartion purposes"
   ]
  },
  {
   "cell_type": "code",
   "execution_count": 30,
   "id": "4954e72b",
   "metadata": {},
   "outputs": [],
   "source": [
    "job.input[\"potential\"][\"functions\"]={'ALL': {'nradmax_by_orders': [12, 3, 2], 'lmax_by_orders': [0, 2, 1]}}"
   ]
  },
  {
   "cell_type": "markdown",
   "id": "ac2ce634",
   "metadata": {},
   "source": [
    "### Fit/loss specification"
   ]
  },
  {
   "cell_type": "markdown",
   "id": "6a55fdd1",
   "metadata": {},
   "source": [
    "Loss function specification"
   ]
  },
  {
   "cell_type": "markdown",
   "id": "98f1f891",
   "metadata": {},
   "source": [
    "![Loss function](img/loss-func.png \"Loss function\")"
   ]
  },
  {
   "cell_type": "markdown",
   "id": "7de7795a",
   "metadata": {},
   "source": [
    "![Loss regularization](img/loss-reg.png \"Loss regularization\")"
   ]
  },
  {
   "cell_type": "code",
   "execution_count": 31,
   "id": "2323c2b6",
   "metadata": {},
   "outputs": [
    {
     "data": {
      "text/plain": [
       "{'L1_coeffs': 1e-08,\n",
       " 'L2_coeffs': 1e-08,\n",
       " 'kappa': 0.3,\n",
       " 'w0_rad': 0,\n",
       " 'w1_rad': 0,\n",
       " 'w2_rad': 0}"
      ]
     },
     "execution_count": 31,
     "metadata": {},
     "output_type": "execute_result"
    }
   ],
   "source": [
    "job.input[\"fit\"]['loss']"
   ]
  },
  {
   "cell_type": "markdown",
   "id": "6a4897ee",
   "metadata": {},
   "source": [
    "#### Weighting"
   ]
  },
  {
   "cell_type": "markdown",
   "id": "10a755f2-e709-4bbc-b466-c86e81744231",
   "metadata": {},
   "source": [
    "Energy-based weighting puts more \"accent\" onto the low energy-lying structures, close to convex hull"
   ]
  },
  {
   "cell_type": "code",
   "execution_count": 32,
   "id": "649ba22c",
   "metadata": {},
   "outputs": [],
   "source": [
    "job.input[\"fit\"]['weighting'] =  {\n",
    "        ## weights for the structures energies/forces are associated according to the distance to E_min:\n",
    "        ## convex hull ( energy: convex_hull) or minimal energy per atom (energy: cohesive)\n",
    "        \"type\": \"EnergyBasedWeightingPolicy\",\n",
    "        ## number of structures to randomly select from the initial dataset\n",
    "        \"nfit\": 10000,         \n",
    "        ## only the structures with energy up to E_min + DEup will be selected\n",
    "        \"DEup\": 10.0,  ## eV, upper energy range (E_min + DElow, E_min + DEup)        \n",
    "        ## only the structures with maximal force on atom  up to DFup will be selected\n",
    "        \"DFup\": 50.0, ## eV/A\n",
    "        ## lower energy range (E_min, E_min + DElow)\n",
    "        \"DElow\": 1.0,  ## eV\n",
    "        ## delta_E  shift for weights, see paper\n",
    "        \"DE\": 1.0,\n",
    "        ## delta_F  shift for weights, see paper\n",
    "        \"DF\": 1.0,\n",
    "        ## 0<wlow<1 or None: if provided, the renormalization weights of the structures on lower energy range (see DElow)\n",
    "        \"wlow\": 0.75,        \n",
    "        ##  \"convex_hull\" or \"cohesive\" : method to compute the E_min\n",
    "        \"energy\": \"convex_hull\",        \n",
    "        ## structures types: all (default), bulk or cluster\n",
    "        \"reftype\": \"all\",        \n",
    "        ## random number seed\n",
    "        \"seed\": 42 \n",
    "}"
   ]
  },
  {
   "cell_type": "markdown",
   "id": "a627cf6c",
   "metadata": {},
   "source": [
    "### Minimization and backend specification"
   ]
  },
  {
   "cell_type": "markdown",
   "id": "ba0b62ee-ec86-4859-a9e3-3b22a67aa370",
   "metadata": {},
   "source": [
    "![Loss function](img/tensorpotential.png \"Tensorpotential\")"
   ]
  },
  {
   "cell_type": "markdown",
   "id": "8b433aa3",
   "metadata": {},
   "source": [
    "Type of optimizer: `SciPy.minimize.BFGS`. This optimizer is more efficient that typical optimizers for neural networks (i.e. ADAM, RMSprop, Adagrad, etc.), but it scales quadratically wrt. number of optimizable parameters.\n",
    "However number of trainable parameters for PACE potential is usually up to few thousands, so we gain a lot of accuracy during training with BFGS optimizer."
   ]
  },
  {
   "cell_type": "code",
   "execution_count": 33,
   "id": "93d7e132",
   "metadata": {},
   "outputs": [
    {
     "data": {
      "text/plain": [
       "'BFGS'"
      ]
     },
     "execution_count": 33,
     "metadata": {},
     "output_type": "execute_result"
    }
   ],
   "source": [
    "job.input[\"fit\"][\"optimizer\"]"
   ]
  },
  {
   "cell_type": "markdown",
   "id": "b9106897",
   "metadata": {},
   "source": [
    "Maximum number of iterations by minimizer. Typical values are ~1000-1500, but we chose small value for demonstration purposes only"
   ]
  },
  {
   "cell_type": "code",
   "execution_count": 34,
   "id": "2a9c1d45",
   "metadata": {},
   "outputs": [],
   "source": [
    "job.input[\"fit\"][\"maxiter\"]=100"
   ]
  },
  {
   "cell_type": "markdown",
   "id": "eead75da",
   "metadata": {},
   "source": [
    "Batch size (number of simultaneously considered structures). This number should be reduced if there is not enough memory"
   ]
  },
  {
   "cell_type": "code",
   "execution_count": 35,
   "id": "e0841a2a",
   "metadata": {},
   "outputs": [
    {
     "data": {
      "text/plain": [
       "100"
      ]
     },
     "execution_count": 35,
     "metadata": {},
     "output_type": "execute_result"
    }
   ],
   "source": [
    "job.input[\"backend\"][\"batch_size\"]"
   ]
  },
  {
   "cell_type": "markdown",
   "id": "8398d24b",
   "metadata": {},
   "source": [
    "For more details about these and other settings please refer to [official documentation](https://pacemaker.readthedocs.io/en/latest/pacemaker/inputfile/)"
   ]
  },
  {
   "cell_type": "markdown",
   "id": "cf3df83d",
   "metadata": {},
   "source": [
    "## Run fit"
   ]
  },
  {
   "cell_type": "code",
   "execution_count": 36,
   "id": "9ff612a7-3a03-4028-b7bd-ae8b8596457a",
   "metadata": {},
   "outputs": [],
   "source": [
    "job.executable.version = 'tf'"
   ]
  },
  {
   "cell_type": "code",
   "execution_count": null,
   "id": "4bff02a2",
   "metadata": {},
   "outputs": [
    {
     "name": "stderr",
     "output_type": "stream",
     "text": [
      "INFO:pyiron_log:run job: pacemaker_job id: 5, status: created\n",
      "INFO:pyiron_log:job: pacemaker_job id: 5, status: submitted, run job (modal)\n"
     ]
    },
    {
     "name": "stdout",
     "output_type": "stream",
     "text": [
      "Set automatically determined list of elements: ['Al', 'Li']\n",
      "The job pacemaker_job was saved and received the ID: 5\n"
     ]
    }
   ],
   "source": [
    "job.run()"
   ]
  },
  {
   "cell_type": "code",
   "execution_count": 37,
   "id": "70ff4e16",
   "metadata": {},
   "outputs": [
    {
     "name": "stderr",
     "output_type": "stream",
     "text": [
      "DEBUG:pyiron_log:sql_query: {'project': '/home/joyvan/tutorial/potentials/ACE/training/%'}\n"
     ]
    },
    {
     "data": {
      "text/html": [
       "<div>\n",
       "<style scoped>\n",
       "    .dataframe tbody tr th:only-of-type {\n",
       "        vertical-align: middle;\n",
       "    }\n",
       "\n",
       "    .dataframe tbody tr th {\n",
       "        vertical-align: top;\n",
       "    }\n",
       "\n",
       "    .dataframe thead th {\n",
       "        text-align: right;\n",
       "    }\n",
       "</style>\n",
       "<table border=\"1\" class=\"dataframe\">\n",
       "  <thead>\n",
       "    <tr style=\"text-align: right;\">\n",
       "      <th></th>\n",
       "      <th>id</th>\n",
       "      <th>status</th>\n",
       "      <th>chemicalformula</th>\n",
       "      <th>job</th>\n",
       "      <th>subjob</th>\n",
       "      <th>projectpath</th>\n",
       "      <th>project</th>\n",
       "      <th>timestart</th>\n",
       "      <th>timestop</th>\n",
       "      <th>totalcputime</th>\n",
       "      <th>computer</th>\n",
       "      <th>hamilton</th>\n",
       "      <th>hamversion</th>\n",
       "      <th>parentid</th>\n",
       "      <th>masterid</th>\n",
       "    </tr>\n",
       "  </thead>\n",
       "  <tbody>\n",
       "    <tr>\n",
       "      <th>0</th>\n",
       "      <td>1</td>\n",
       "      <td>finished</td>\n",
       "      <td>None</td>\n",
       "      <td>full</td>\n",
       "      <td>/full</td>\n",
       "      <td>None</td>\n",
       "      <td>/home/joyvan/tutorial/potentials/ACE/training/</td>\n",
       "      <td>2022-06-03 00:02:34.816533</td>\n",
       "      <td>NaT</td>\n",
       "      <td>NaN</td>\n",
       "      <td>zora@cmti001#1</td>\n",
       "      <td>TrainingContainer</td>\n",
       "      <td>0.4</td>\n",
       "      <td>None</td>\n",
       "      <td>None</td>\n",
       "    </tr>\n",
       "    <tr>\n",
       "      <th>1</th>\n",
       "      <td>2</td>\n",
       "      <td>finished</td>\n",
       "      <td>None</td>\n",
       "      <td>basic</td>\n",
       "      <td>/basic</td>\n",
       "      <td>None</td>\n",
       "      <td>/home/joyvan/tutorial/potentials/ACE/training/</td>\n",
       "      <td>2022-06-03 00:02:47.281055</td>\n",
       "      <td>NaT</td>\n",
       "      <td>NaN</td>\n",
       "      <td>zora@cmti001#1</td>\n",
       "      <td>TrainingContainer</td>\n",
       "      <td>0.4</td>\n",
       "      <td>None</td>\n",
       "      <td>None</td>\n",
       "    </tr>\n",
       "    <tr>\n",
       "      <th>2</th>\n",
       "      <td>3</td>\n",
       "      <td>finished</td>\n",
       "      <td>None</td>\n",
       "      <td>Al_basic_atomicrex</td>\n",
       "      <td>/Al_basic_atomicrex</td>\n",
       "      <td>None</td>\n",
       "      <td>/home/joyvan/tutorial/potentials/ACE/training/</td>\n",
       "      <td>2022-06-03 02:00:15.887059</td>\n",
       "      <td>NaT</td>\n",
       "      <td>NaN</td>\n",
       "      <td>zora@cmti001#1</td>\n",
       "      <td>TrainingContainer</td>\n",
       "      <td>0.4</td>\n",
       "      <td>None</td>\n",
       "      <td>None</td>\n",
       "    </tr>\n",
       "    <tr>\n",
       "      <th>3</th>\n",
       "      <td>4</td>\n",
       "      <td>created</td>\n",
       "      <td>None</td>\n",
       "      <td>small_AlLi_training_container</td>\n",
       "      <td>/small_AlLi_training_container</td>\n",
       "      <td>None</td>\n",
       "      <td>/home/joyvan/tutorial/potentials/ACE/training/</td>\n",
       "      <td>2023-03-22 12:06:01.427865</td>\n",
       "      <td>NaT</td>\n",
       "      <td>NaN</td>\n",
       "      <td>pyiron@jupyter-matteor#1</td>\n",
       "      <td>TrainingContainer</td>\n",
       "      <td>0.4</td>\n",
       "      <td>None</td>\n",
       "      <td>None</td>\n",
       "    </tr>\n",
       "    <tr>\n",
       "      <th>4</th>\n",
       "      <td>5</td>\n",
       "      <td>finished</td>\n",
       "      <td>None</td>\n",
       "      <td>pacemaker_job</td>\n",
       "      <td>/pacemaker_job</td>\n",
       "      <td>None</td>\n",
       "      <td>/home/joyvan/tutorial/potentials/ACE/training/</td>\n",
       "      <td>2023-03-22 12:06:36.880929</td>\n",
       "      <td>2023-03-22 12:10:24.817743</td>\n",
       "      <td>227.0</td>\n",
       "      <td>pyiron@jupyter-matteor#1</td>\n",
       "      <td>Pacemaker2022</td>\n",
       "      <td>0.2</td>\n",
       "      <td>None</td>\n",
       "      <td>None</td>\n",
       "    </tr>\n",
       "  </tbody>\n",
       "</table>\n",
       "</div>"
      ],
      "text/plain": [
       "   id    status chemicalformula                            job  \\\n",
       "0   1  finished            None                           full   \n",
       "1   2  finished            None                          basic   \n",
       "2   3  finished            None             Al_basic_atomicrex   \n",
       "3   4   created            None  small_AlLi_training_container   \n",
       "4   5  finished            None                  pacemaker_job   \n",
       "\n",
       "                           subjob projectpath  \\\n",
       "0                           /full        None   \n",
       "1                          /basic        None   \n",
       "2             /Al_basic_atomicrex        None   \n",
       "3  /small_AlLi_training_container        None   \n",
       "4                  /pacemaker_job        None   \n",
       "\n",
       "                                          project                  timestart  \\\n",
       "0  /home/joyvan/tutorial/potentials/ACE/training/ 2022-06-03 00:02:34.816533   \n",
       "1  /home/joyvan/tutorial/potentials/ACE/training/ 2022-06-03 00:02:47.281055   \n",
       "2  /home/joyvan/tutorial/potentials/ACE/training/ 2022-06-03 02:00:15.887059   \n",
       "3  /home/joyvan/tutorial/potentials/ACE/training/ 2023-03-22 12:06:01.427865   \n",
       "4  /home/joyvan/tutorial/potentials/ACE/training/ 2023-03-22 12:06:36.880929   \n",
       "\n",
       "                    timestop  totalcputime                  computer  \\\n",
       "0                        NaT           NaN            zora@cmti001#1   \n",
       "1                        NaT           NaN            zora@cmti001#1   \n",
       "2                        NaT           NaN            zora@cmti001#1   \n",
       "3                        NaT           NaN  pyiron@jupyter-matteor#1   \n",
       "4 2023-03-22 12:10:24.817743         227.0  pyiron@jupyter-matteor#1   \n",
       "\n",
       "            hamilton hamversion parentid masterid  \n",
       "0  TrainingContainer        0.4     None     None  \n",
       "1  TrainingContainer        0.4     None     None  \n",
       "2  TrainingContainer        0.4     None     None  \n",
       "3  TrainingContainer        0.4     None     None  \n",
       "4      Pacemaker2022        0.2     None     None  "
      ]
     },
     "execution_count": 37,
     "metadata": {},
     "output_type": "execute_result"
    }
   ],
   "source": [
    "pr.job_table()"
   ]
  },
  {
   "cell_type": "markdown",
   "id": "d008c0ac",
   "metadata": {},
   "source": [
    "## Analyse fit"
   ]
  },
  {
   "cell_type": "markdown",
   "id": "01bd56f1",
   "metadata": {},
   "source": [
    "plot loss function"
   ]
  },
  {
   "cell_type": "code",
   "execution_count": 38,
   "id": "1640ba96",
   "metadata": {},
   "outputs": [
    {
     "data": {
      "text/plain": [
       "[]"
      ]
     },
     "execution_count": 38,
     "metadata": {},
     "output_type": "execute_result"
    },
    {
     "data": {
      "image/png": "[encoded data removed]",
      "text/plain": [
       "<Figure size 640x480 with 1 Axes>"
      ]
     },
     "metadata": {},
     "output_type": "display_data"
    }
   ],
   "source": [
    "plt.plot(job[\"output/log/loss\"])\n",
    "plt.xlabel(\"# iter\")\n",
    "plt.ylabel(\"Loss\")\n",
    "plt.loglog()"
   ]
  },
  {
   "cell_type": "markdown",
   "id": "b5a2ae0d",
   "metadata": {},
   "source": [
    "plot energy per atom RMSE"
   ]
  },
  {
   "cell_type": "code",
   "execution_count": 39,
   "id": "25e2a558",
   "metadata": {},
   "outputs": [
    {
     "data": {
      "text/plain": [
       "[]"
      ]
     },
     "execution_count": 39,
     "metadata": {},
     "output_type": "execute_result"
    },
    {
     "data": {
      "image/png": "[encoded data removed]",
      "text/plain": [
       "<Figure size 640x480 with 1 Axes>"
      ]
     },
     "metadata": {},
     "output_type": "display_data"
    }
   ],
   "source": [
    "plt.plot(job[\"output/log/rmse_epa\"])\n",
    "plt.xlabel(\"# iter\")\n",
    "plt.ylabel(\"RMSE E, eV/atom\")\n",
    "plt.loglog()"
   ]
  },
  {
   "cell_type": "markdown",
   "id": "9780dee9",
   "metadata": {},
   "source": [
    "plot force component RMSE"
   ]
  },
  {
   "cell_type": "code",
   "execution_count": 40,
   "id": "ddf9617c",
   "metadata": {},
   "outputs": [
    {
     "data": {
      "text/plain": [
       "[]"
      ]
     },
     "execution_count": 40,
     "metadata": {},
     "output_type": "execute_result"
    },
    {
     "data": {
      "image/png": "[encoded data removed]",
      "text/plain": [
       "<Figure size 640x480 with 1 Axes>"
      ]
     },
     "metadata": {},
     "output_type": "display_data"
    }
   ],
   "source": [
    "plt.plot(job[\"output/log/rmse_f_comp\"])\n",
    "plt.xlabel(\"# iter\")\n",
    "plt.ylabel(\"RMSE F_i, eV/A\")\n",
    "plt.loglog()"
   ]
  },
  {
   "cell_type": "code",
   "execution_count": null,
   "id": "f09f50f6",
   "metadata": {},
   "outputs": [],
   "source": []
  },
  {
   "cell_type": "markdown",
   "id": "3c3f336b",
   "metadata": {},
   "source": [
    "load DataFrame with predictions"
   ]
  },
  {
   "cell_type": "code",
   "execution_count": 41,
   "id": "52105a3b",
   "metadata": {},
   "outputs": [],
   "source": [
    "ref_df = job.training_data"
   ]
  },
  {
   "cell_type": "code",
   "execution_count": 42,
   "id": "0acc3ed8",
   "metadata": {},
   "outputs": [],
   "source": [
    "pred_df = job.predicted_data"
   ]
  },
  {
   "cell_type": "code",
   "execution_count": 43,
   "id": "0456dfe6",
   "metadata": {},
   "outputs": [
    {
     "data": {
      "text/plain": [
       "Text(0, 0.5, 'ACE E, eV/atom')"
      ]
     },
     "execution_count": 43,
     "metadata": {},
     "output_type": "execute_result"
    },
    {
     "data": {
      "image/png": "[encoded data removed]",
      "text/plain": [
       "<Figure size 640x480 with 1 Axes>"
      ]
     },
     "metadata": {},
     "output_type": "display_data"
    }
   ],
   "source": [
    "plt.scatter(pred_df[\"energy_per_atom_true\"],pred_df[\"energy_per_atom\"])\n",
    "plt.xlabel(\"DFT E, eV/atom\")\n",
    "plt.ylabel(\"ACE E, eV/atom\")"
   ]
  },
  {
   "cell_type": "code",
   "execution_count": 44,
   "id": "07e559d1",
   "metadata": {},
   "outputs": [
    {
     "data": {
      "text/plain": [
       "Text(0, 0.5, 'ACE F_i, eV/A')"
      ]
     },
     "execution_count": 44,
     "metadata": {},
     "output_type": "execute_result"
    },
    {
     "data": {
      "image/png": "[encoded data removed]",
      "text/plain": [
       "<Figure size 640x480 with 1 Axes>"
      ]
     },
     "metadata": {},
     "output_type": "display_data"
    }
   ],
   "source": [
    "plt.scatter(ref_df[\"forces\"],pred_df[\"forces\"])\n",
    "plt.xlabel(\"DFT F_i, eV/A\")\n",
    "plt.ylabel(\"ACE F_i, eV/A\")"
   ]
  },
  {
   "cell_type": "code",
   "execution_count": null,
   "id": "0b1d6786",
   "metadata": {},
   "outputs": [],
   "source": []
  },
  {
   "cell_type": "markdown",
   "id": "3164cfc1",
   "metadata": {},
   "source": [
    "Check more in `job.working_directory`/report folder"
   ]
  },
  {
   "cell_type": "code",
   "execution_count": 45,
   "id": "401df03b",
   "metadata": {},
   "outputs": [
    {
     "name": "stdout",
     "output_type": "stream",
     "text": [
      "train_E-dE-dist.png  train_EF-pairplots.png  train_Fi-dFi-dist.png\n",
      "train_E-dE-nn.png    train_F-dF-dist.png\n"
     ]
    }
   ],
   "source": [
    "! ls {job.working_directory}/report"
   ]
  },
  {
   "cell_type": "markdown",
   "id": "aa8476e7",
   "metadata": {},
   "source": [
    "## How actual potential file looks like ?"
   ]
  },
  {
   "cell_type": "markdown",
   "id": "cd8f5733",
   "metadata": {},
   "source": [
    "`output_potential.yaml`:\n",
    "\n",
    "```yaml\n",
    "species:\n",
    "    # Pure Al interaction block\n",
    "  - speciesblock: Al\n",
    "    radbase: SBessel\n",
    "    radcoefficients: [[[1.995274603767268, -1.1940566258712266,...]]]\n",
    "  \n",
    "    nbody:\n",
    "      # first order/ two-body functions = pair functions\n",
    "      - {type: Al Al, nr: [1], nl: [0], c: [2.0970219095074687, -3.9539202281610351]}\n",
    "      - {type: Al Al, nr: [2], nl: [0], c: [-1.8968648691718397, -2.3146574133175974]}\n",
    "      - {type: Al Al, nr: [3], nl: [0], c: [1.3504952496800906, 1.5291190439028692]}\n",
    "      - {type: Al Al, nr: [4], nl: [0], c: [0.040517989827027742, 0.11933504671036224]}\n",
    "      ...\n",
    "      # second order/ three-body functions \n",
    "      - {type: Al Al Al, nr: [1, 1], nl: [0, 0], c: [0.57788490809100468, -1.8642896163994958]}\n",
    "      - {type: Al Al Al, nr: [1, 1], nl: [1, 1], c: [-1.0126646532267587, -1.2336078784112348]}\n",
    "      - {type: Al Al Al, nr: [1, 1], nl: [2, 2], c: [-0.19324470046809467, 0.63954472122968498]}\n",
    "      - {type: Al Al Al, nr: [1, 1], nl: [3, 3], c: [-0.22018334529075642, 0.32822679746839439]}\n",
    "      ...\n",
    "      # fifth order/ six-body functions \n",
    "      - {type: Al Al Al Al Al Al, nr: [1, 1, 1, 1, 1], nl: [0, 0, 0, 0, 0], lint: [0, 0, 0], c: [-0.71...]}\n",
    "  \n",
    "  \n",
    "  # binary Al-Li interaction block    \n",
    "  - speciesblock: Al Li      \n",
    "     ...\n",
    "     nbody:\n",
    "      - {type: Al Li, nr: [1], nl: [0], c: [0.91843424537280882, -2.4170371138562308]}\n",
    "      - {type: Al Li, nr: [2], nl: [0], c: [-0.88380210517336399, -0.97055273167339651]}\n",
    "      ...\n",
    "      - {type: Al Al Al Li Li, nr: [1, 1, 1, 1], nl: [1, 1, 0, 0], lint: [0, 0], c: [-0.0050,...]}\n",
    "      ...\n",
    "  # Pure Li interaction block      \n",
    "  - speciesblock: Li\n",
    "      nbody:\n",
    "       ...\n",
    "       - {type: Li Li Li, nr: [4, 4], nl: [3, 3], c: [-0.0059111333449957159, 0.035]}\n",
    "       - {type: Li Li Li Li, nr: [1, 1, 1], nl: [0, 0, 0], lint: [0], c: [0.210,...]}\n",
    "       ...\n",
    "  # binary Al-Li interaction block    \n",
    "  - speciesblock: Li Al\n",
    "      nbody:\n",
    "       ...\n",
    "       - {type: Li Al Al, nr: [4, 4], nl: [3, 3], c: [0.014680736321211739, -0.030618474343919122]}\n",
    "       - {type: Li Al Li, nr: [1, 1], nl: [0, 0], c: [-0.22827705573988896, 0.28367909613209036]}\n",
    "       ...\n",
    "  \n",
    "```"
   ]
  },
  {
   "cell_type": "markdown",
   "id": "13e2ebaf",
   "metadata": {},
   "source": [
    "`output_potential.yaml` is in B-basis form. For efficient LAMMPS implementaion it should be converted to so-called `C-tilde` form.  This is already done by `pyiron`, but it could be also done manually by `pace_yaml2yace` utility. Check [here](https://pacemaker.readthedocs.io/en/latest/pacemaker/quickstart/#lammps) for more details"
   ]
  },
  {
   "cell_type": "markdown",
   "id": "2bdf791a",
   "metadata": {},
   "source": [
    "## Get LAMMPS potential and try some calculations"
   ]
  },
  {
   "cell_type": "code",
   "execution_count": 37,
   "id": "c229794b",
   "metadata": {},
   "outputs": [
    {
     "data": {
      "text/html": [
       "<div>\n",
       "<style scoped>\n",
       "    .dataframe tbody tr th:only-of-type {\n",
       "        vertical-align: middle;\n",
       "    }\n",
       "\n",
       "    .dataframe tbody tr th {\n",
       "        vertical-align: top;\n",
       "    }\n",
       "\n",
       "    .dataframe thead th {\n",
       "        text-align: right;\n",
       "    }\n",
       "</style>\n",
       "<table border=\"1\" class=\"dataframe\">\n",
       "  <thead>\n",
       "    <tr style=\"text-align: right;\">\n",
       "      <th></th>\n",
       "      <th>Config</th>\n",
       "      <th>Filename</th>\n",
       "      <th>Model</th>\n",
       "      <th>Name</th>\n",
       "      <th>Species</th>\n",
       "    </tr>\n",
       "  </thead>\n",
       "  <tbody>\n",
       "    <tr>\n",
       "      <th>0</th>\n",
       "      <td>[pair_style pace\\n, pair_coeff  * * /home/joyvan/tutorial/potentials/ACE/training/pacemaker_job_hdf5/pacemaker_job/output_potential.yace Al Li\\n]</td>\n",
       "      <td></td>\n",
       "      <td>ACE</td>\n",
       "      <td>pacemaker_job</td>\n",
       "      <td>[Al, Li]</td>\n",
       "    </tr>\n",
       "  </tbody>\n",
       "</table>\n",
       "</div>"
      ],
      "text/plain": [
       "                                                                                                                                              Config  \\\n",
       "0  [pair_style pace\\n, pair_coeff  * * /home/joyvan/tutorial/potentials/ACE/training/pacemaker_job_hdf5/pacemaker_job/output_potential.yace Al Li\\n]   \n",
       "\n",
       "  Filename Model           Name   Species  \n",
       "0            ACE  pacemaker_job  [Al, Li]  "
      ]
     },
     "execution_count": 37,
     "metadata": {},
     "output_type": "execute_result"
    }
   ],
   "source": [
    "pace_lammps_potential = job.get_lammps_potential()\n",
    "pace_lammps_potential"
   ]
  },
  {
   "cell_type": "code",
   "execution_count": 38,
   "id": "7d6534da",
   "metadata": {},
   "outputs": [
    {
     "name": "stderr",
     "output_type": "stream",
     "text": [
      "DEBUG:pyiron_log:sql_query: {'job': 'pace_lammps', 'project': '/home/joyvan/tutorial/potentials/ACE/training/'}\n",
      "DEBUG:pyiron_log:sql_query: {'job': 'pace_lammps', 'project': '/home/joyvan/tutorial/potentials/ACE/training/%'}\n"
     ]
    }
   ],
   "source": [
    "lammps_job = pr.create.job.Lammps(\"pace_lammps\", delete_existing_job=True)"
   ]
  },
  {
   "cell_type": "code",
   "execution_count": 39,
   "id": "658e357f-fb4c-4c5b-97d3-05e722393d92",
   "metadata": {},
   "outputs": [],
   "source": [
    "lammps_job.structure=pr.create.structure.bulk(\"Al\", cubic=True)"
   ]
  },
  {
   "cell_type": "code",
   "execution_count": 40,
   "id": "d3c13d84-05bd-421c-9f70-55df301c1c7a",
   "metadata": {},
   "outputs": [],
   "source": [
    "lammps_job.structure[0]='Li'"
   ]
  },
  {
   "cell_type": "code",
   "execution_count": 41,
   "id": "901e84bb-795b-4c75-b432-4e289b50170f",
   "metadata": {},
   "outputs": [],
   "source": [
    "lammps_job.potential=pace_lammps_potential"
   ]
  },
  {
   "cell_type": "code",
   "execution_count": 57,
   "id": "a56cdf1d-fd7d-4fff-9df7-5cac3f3a4dbd",
   "metadata": {},
   "outputs": [
    {
     "name": "stderr",
     "output_type": "stream",
     "text": [
      "INFO:pyiron_log:run job: pace_lammps id: None, status: initialized\n",
      "DEBUG:pyiron_log:Not supported parameter used!\n",
      "DEBUG:pyiron_log:Not supported parameter used!\n",
      "INFO:pyiron_log:run job: pace_lammps id: 6, status: created\n",
      "INFO:pyiron_log:job: pace_lammps id: 6, status: submitted, run job (modal)\n"
     ]
    },
    {
     "name": "stdout",
     "output_type": "stream",
     "text": [
      "The job pace_lammps was saved and received the ID: 6\n"
     ]
    },
    {
     "name": "stderr",
     "output_type": "stream",
     "text": [
      "INFO:pyiron_log:job: pace_lammps id: 6, status: running, output: LAMMPS (23 Jun 2022 - Update 1)\n",
      "Reading data file ...\n",
      "  orthogonal box = (0 0 0) to (4.05 4.05 4.05)\n",
      "  1 by 1 by 1 MPI processor grid\n",
      "  reading atoms ...\n",
      "  4 atoms\n",
      "  read_data CPU = 0.000 seconds\n",
      "ACE version: 2021.10.25\n",
      "Recursive evaluator is used\n",
      "Loading /home/joyvan/tutorial/potentials/ACE/training/pacemaker_job_hdf5/pacemaker_job/output_potential.yace\n",
      "Total number of basis functions\n",
      "\tAl: 24 (r=1) 123 (r>1)\n",
      "\tLi: 24 (r=1) 123 (r>1)\n",
      "Mapping LAMMPS atom type #1(Al) -> ACE species type #0\n",
      "Mapping LAMMPS atom type #2(Li) -> ACE species type #1\n",
      "Neighbor list info ...\n",
      "  update every 1 steps, delay 10 steps, check yes\n",
      "  max neighbors/atom: 2000, page size: 100000\n",
      "  master list distance cutoff = 7\n",
      "  ghost atom cutoff = 7\n",
      "  binsize = 3.5, bins = 2 2 2\n",
      "  1 neighbor lists, perpetual/occasional/extra = 1 0 0\n",
      "  (1) pair pace, perpetual\n",
      "      attributes: full, newton on\n",
      "      pair build: full/bin/atomonly\n",
      "      stencil: full/bin/3d\n",
      "      bin: standard\n",
      "Setting up Verlet run ...\n",
      "  Unit style    : metal\n",
      "  Current step  : 0\n",
      "  Time step     : 0.001\n",
      "Per MPI rank memory allocation (min/avg/max) = 4.209 | 4.209 | 4.209 Mbytes\n",
      "   Step          Temp          PotEng         TotEng          Pxx            Pxy            Pxz            Pyy            Pyz            Pzz           Volume    \n",
      "         0                     0    -13.1729815780286    -13.1729815780286    -19352.1681968491 -2.89992727754733e-12 -1.4381965758801e-12    -19352.1681968492 -2.20697801825965e-12    -19352.1681968492            66.430125\n",
      "Loop time of 7.51e-07 on 1 procs for 0 steps with 4 atoms\n",
      "\n",
      "133.2% CPU use with 1 MPI tasks x no OpenMP threads\n",
      "\n",
      "MPI task timing breakdown:\n",
      "Section |  min time  |  avg time  |  max time  |%varavg| %total\n",
      "---------------------------------------------------------------\n",
      "Pair    | 0          | 0          | 0          |   0.0 |  0.00\n",
      "Neigh   | 0          | 0          | 0          |   0.0 |  0.00\n",
      "Comm    | 0          | 0          | 0          |   0.0 |  0.00\n",
      "Output  | 0          | 0          | 0          |   0.0 |  0.00\n",
      "Modify  | 0          | 0          | 0          |   0.0 |  0.00\n",
      "Other   |            | 7.51e-07   |            |       |100.00\n",
      "\n",
      "Nlocal:              4 ave           4 max           4 min\n",
      "Histogram: 1 0 0 0 0 0 0 0 0 0\n",
      "Nghost:            360 ave         360 max         360 min\n",
      "Histogram: 1 0 0 0 0 0 0 0 0 0\n",
      "Neighs:              0 ave           0 max           0 min\n",
      "Histogram: 1 0 0 0 0 0 0 0 0 0\n",
      "FullNghs:          312 ave         312 max         312 min\n",
      "Histogram: 1 0 0 0 0 0 0 0 0 0\n",
      "\n",
      "Total # of neighbors = 312\n",
      "Ave neighs/atom = 78\n",
      "Neighbor list builds = 0\n",
      "Dangerous builds = 0\n",
      "Total wall time: 0:00:00\n",
      "\n",
      "INFO:pyiron_log:run job: pace_lammps id: 6, status: collect\n",
      "DEBUG:pyiron_log:sql_query: {'job': 'pace_lammps', 'project': '/home/joyvan/tutorial/potentials/ACE/training/'}\n",
      "DEBUG:pyiron_log:sql_query: {'job': 'pace_lammps', 'project': '/home/joyvan/tutorial/potentials/ACE/training/'}\n",
      "DEBUG:pyiron_log:sql_query: {'job': 'pace_lammps', 'project': '/home/joyvan/tutorial/potentials/ACE/training/'}\n",
      "DEBUG:pyiron_log:sql_query: {'job': 'pace_lammps', 'project': '/home/joyvan/tutorial/potentials/ACE/training/'}\n",
      "DEBUG:pyiron_log:sql_query: {'job': 'pace_lammps', 'project': '/home/joyvan/tutorial/potentials/ACE/training/'}\n",
      "DEBUG:pyiron_log:sql_query: {'job': 'pace_lammps', 'project': '/home/joyvan/tutorial/potentials/ACE/training/'}\n",
      "DEBUG:pyiron_log:Not supported parameter used!\n",
      "DEBUG:pyiron_log:sql_query: {'job': 'pace_lammps', 'project': '/home/joyvan/tutorial/potentials/ACE/training/'}\n",
      "DEBUG:pyiron_log:sql_query: {'job': 'pace_lammps', 'project': '/home/joyvan/tutorial/potentials/ACE/training/'}\n",
      "INFO:pyiron_log:update master: None 6 modal\n"
     ]
    }
   ],
   "source": [
    "lammps_job.run()"
   ]
  },
  {
   "cell_type": "code",
   "execution_count": 59,
   "id": "4a0e2669-5e60-4ed3-b46d-52d4cf5d16a9",
   "metadata": {},
   "outputs": [
    {
     "name": "stderr",
     "output_type": "stream",
     "text": [
      "DEBUG:pyiron_log:sql_query: {'job': 'pace_lammps', 'project': '/home/joyvan/tutorial/potentials/ACE/training/'}\n"
     ]
    },
    {
     "data": {
      "text/plain": [
       "array([-13.17298158])"
      ]
     },
     "execution_count": 59,
     "metadata": {},
     "output_type": "execute_result"
    }
   ],
   "source": [
    "lammps_job.output.energy_pot"
   ]
  },
  {
   "cell_type": "code",
   "execution_count": null,
   "id": "5b38ac8a-8a75-465b-b4e7-fbed142e7209",
   "metadata": {},
   "outputs": [],
   "source": []
  },
  {
   "cell_type": "markdown",
   "id": "75cb5206-c497-401c-b2f2-74436e219784",
   "metadata": {},
   "source": [
    "## Further reading"
   ]
  },
  {
   "cell_type": "markdown",
   "id": "b5c498c2-c6fd-4f9b-bd12-0dfd6381c085",
   "metadata": {},
   "source": [
    "Please read sources for more details:\n",
    "* [Documentation](https://pacemaker.readthedocs.io/en/latest/)\n",
    "* [`pacemaker` repository](https://github.com/ICAMS/python-ace)\n",
    "* [Bochkarev, A., Lysogorskiy, Y., Menon, S., Qamar, M., Mrovec, M. and Drautz, R. Efficient parametrization of the atomic cluster expansion. Physical Review Materials 6(1) 013804 (2022)](https://journals.aps.org/prmaterials/abstract/10.1103/PhysRevMaterials.6.013804)\n",
    "* [Lysogorskiy, Y., Oord, C. v. d., Bochkarev, A., Menon, S., Rinaldi, M., Hammerschmidt, T., Mrovec, M., Thompson, A., Csányi, G., Ortner, C. and  Drautz, R. Performant implementation of the atomic cluster expansion (PACE) and application to copper and silicon. npj Computational Materials 7(1), 1-12 (2021)](https://www.nature.com/articles/s41524-021-00559-9)\n",
    "* [Drautz, R. Atomic cluster expansion for accurate and transferable interatomic potentials. Physical Review B, 99(1), 014104 (2019)](https://journals.aps.org/prb/abstract/10.1103/PhysRevB.99.014104)\n",
    "\n"
   ]
  },
  {
   "cell_type": "code",
   "execution_count": null,
   "id": "2bb9e3a3-7807-42f5-a6b4-2ec9b11ff4c0",
   "metadata": {},
   "outputs": [],
   "source": []
  }
 ],
 "metadata": {
  "kernelspec": {
   "display_name": "Python 3 (ipykernel)",
   "language": "python",
   "name": "python3"
  },
  "language_info": {
   "codemirror_mode": {
    "name": "ipython",
    "version": 3
   },
   "file_extension": ".py",
   "mimetype": "text/x-python",
   "name": "python",
   "nbconvert_exporter": "python",
   "pygments_lexer": "ipython3",
   "version": "3.8.8"
  }
 },
 "nbformat": 4,
 "nbformat_minor": 5
}
