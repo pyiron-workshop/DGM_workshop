{
 "cells": [
  {
   "cell_type": "markdown",
   "id": "b680880a",
   "metadata": {},
   "source": [
    "# Atomic cluster expansion (ACE)"
   ]
  },
  {
   "cell_type": "markdown",
   "id": "119bff90",
   "metadata": {},
   "source": [
    "Please read sources for more details:\n",
    "\n",
    "* [Documentation](https://pacemaker.readthedocs.io/en/latest/)\n",
    "* [`pacemaker` repository](https://github.com/ICAMS/python-ace)\n",
    "* [Bochkarev, A., Lysogorskiy, Y., Menon, S., Qamar, M., Mrovec, M. and Drautz, R. Efficient parametrization of the atomic cluster expansion. Physical Review Materials 6(1) 013804 (2022)](https://journals.aps.org/prmaterials/abstract/10.1103/PhysRevMaterials.6.013804)\n",
    "* [Lysogorskiy, Y., Oord, C. v. d., Bochkarev, A., Menon, S., Rinaldi, M., Hammerschmidt, T., Mrovec, M., Thompson, A., Csányi, G., Ortner, C. and  Drautz, R. Performant implementation of the atomic cluster expansion (PACE) and application to copper and silicon. npj Computational Materials 7(1), 1-12 (2021)](https://www.nature.com/articles/s41524-021-00559-9)\n",
    "* [Drautz, R. Atomic cluster expansion for accurate and transferable interatomic potentials. Physical Review B, 99(1), 014104 (2019)](https://journals.aps.org/prb/abstract/10.1103/PhysRevB.99.014104)\n",
    "\n"
   ]
  },
  {
   "cell_type": "markdown",
   "id": "1a385f10",
   "metadata": {},
   "source": [
    "## Import and load"
   ]
  },
  {
   "cell_type": "code",
   "execution_count": 1,
   "id": "dded85d1",
   "metadata": {},
   "outputs": [
    {
     "name": "stdout",
     "output_type": "stream",
     "text": [
      "%pylab is deprecated, use %matplotlib inline and import the required libraries.\n",
      "Populating the interactive namespace from numpy and matplotlib\n"
     ]
    }
   ],
   "source": [
    "%pylab inline"
   ]
  },
  {
   "cell_type": "code",
   "execution_count": 2,
   "id": "d19586ef",
   "metadata": {},
   "outputs": [
    {
     "data": {
      "application/vnd.jupyter.widget-view+json": {
       "model_id": "6e6f84f896f54dad9113a6c857df5a80",
       "version_major": 2,
       "version_minor": 0
      },
      "text/plain": []
     },
     "metadata": {},
     "output_type": "display_data"
    }
   ],
   "source": [
    "from pyiron import Project"
   ]
  },
  {
   "cell_type": "code",
   "execution_count": 3,
   "id": "812a96f6",
   "metadata": {},
   "outputs": [],
   "source": [
    "from collections import Counter"
   ]
  },
  {
   "cell_type": "code",
   "execution_count": 4,
   "id": "6ea6b07e",
   "metadata": {},
   "outputs": [],
   "source": [
    "import pandas as pd"
   ]
  },
  {
   "cell_type": "code",
   "execution_count": 5,
   "id": "af3c8676-249d-4bcc-ad6d-369600d25bb8",
   "metadata": {},
   "outputs": [
    {
     "data": {
      "application/vnd.jupyter.widget-view+json": {
       "model_id": "3c015b616e0e48379766cf6a45b8c79e",
       "version_major": 2,
       "version_minor": 0
      },
      "text/plain": [
       "  0%|          | 0/3 [00:00<?, ?it/s]"
      ]
     },
     "metadata": {},
     "output_type": "display_data"
    }
   ],
   "source": [
    "pr = Project('.')\n",
    "\n",
    "pr.remove_jobs(silently=True,recursive=True)\n",
    "pr.unpack('training_export')\n",
    "pr = Project('training')"
   ]
  },
  {
   "cell_type": "code",
   "execution_count": 6,
   "id": "24d7d005-613f-4671-bd4c-0bd555c028cd",
   "metadata": {},
   "outputs": [
    {
     "data": {
      "text/plain": [
       "{'groups': [], 'nodes': ['full', 'basic', 'Al_basic_atomicrex']}"
      ]
     },
     "execution_count": 6,
     "metadata": {},
     "output_type": "execute_result"
    }
   ],
   "source": [
    "pr"
   ]
  },
  {
   "cell_type": "markdown",
   "id": "38943882",
   "metadata": {},
   "source": [
    "## Loading training containers (select smaller training subset for example)"
   ]
  },
  {
   "cell_type": "code",
   "execution_count": 7,
   "id": "0764935b",
   "metadata": {},
   "outputs": [],
   "source": [
    "training_container = pr['full']"
   ]
  },
  {
   "cell_type": "code",
   "execution_count": 8,
   "id": "bbe3f49c",
   "metadata": {},
   "outputs": [],
   "source": [
    "df=training_container.to_pandas()"
   ]
  },
  {
   "cell_type": "code",
   "execution_count": 9,
   "id": "bff9bff4",
   "metadata": {},
   "outputs": [],
   "source": [
    "df[\"energy_per_atom\"]=df[\"energy\"]/df[\"number_of_atoms\"]\n",
    "df[\"comp_dict\"]=df[\"atoms\"].map(lambda at: Counter(at.get_chemical_symbols()))\n",
    "for el in [\"Al\",\"Li\"]:\n",
    "    df[\"n\"+el]=df[\"comp_dict\"].map(lambda d: d.get(el,0))\n",
    "    df[\"c\"+el]=df[\"n\"+el]/df[\"number_of_atoms\"]"
   ]
  },
  {
   "cell_type": "markdown",
   "id": "3d3af629",
   "metadata": {},
   "source": [
    "Select only Al-fcc"
   ]
  },
  {
   "cell_type": "code",
   "execution_count": 10,
   "id": "1ee0b19f",
   "metadata": {},
   "outputs": [
    {
     "data": {
      "text/plain": [
       "(134, 12)"
      ]
     },
     "execution_count": 10,
     "metadata": {},
     "output_type": "execute_result"
    }
   ],
   "source": [
    "al_fcc_df = df[df[\"name\"].str.contains(\"Al_fcc\")]\n",
    "al_fcc_df.shape"
   ]
  },
  {
   "cell_type": "markdown",
   "id": "28078385",
   "metadata": {},
   "source": [
    "only Li-bcc"
   ]
  },
  {
   "cell_type": "code",
   "execution_count": 11,
   "id": "99840b1b",
   "metadata": {},
   "outputs": [
    {
     "data": {
      "text/plain": [
       "(179, 12)"
      ]
     },
     "execution_count": 11,
     "metadata": {},
     "output_type": "execute_result"
    }
   ],
   "source": [
    "li_bcc_df = df[df[\"name\"].str.contains(\"Li_bcc\")]\n",
    "li_bcc_df.shape"
   ]
  },
  {
   "cell_type": "markdown",
   "id": "251af910",
   "metadata": {},
   "source": [
    "and AlLi structures that are within 0.1 eV/atom above AlLi ground state (min.energy structure)"
   ]
  },
  {
   "cell_type": "code",
   "execution_count": 12,
   "id": "7a31322c",
   "metadata": {},
   "outputs": [
    {
     "data": {
      "text/plain": [
       "(178, 12)"
      ]
     },
     "execution_count": 12,
     "metadata": {},
     "output_type": "execute_result"
    }
   ],
   "source": [
    "alli_df = df[df[\"cAl\"]==0.5]\n",
    "alli_df=alli_df[alli_df[\"energy_per_atom\"]<=alli_df[\"energy_per_atom\"].min()+0.1]\n",
    "alli_df.shape"
   ]
  },
  {
   "cell_type": "code",
   "execution_count": 13,
   "id": "ff5343d8",
   "metadata": {},
   "outputs": [],
   "source": [
    "small_training_df = pd.concat([al_fcc_df, li_bcc_df, alli_df])"
   ]
  },
  {
   "cell_type": "code",
   "execution_count": 14,
   "id": "15f51641",
   "metadata": {},
   "outputs": [
    {
     "data": {
      "text/plain": [
       "(491, 12)"
      ]
     },
     "execution_count": 14,
     "metadata": {},
     "output_type": "execute_result"
    }
   ],
   "source": [
    "small_training_df.shape"
   ]
  },
  {
   "cell_type": "code",
   "execution_count": 15,
   "id": "18c1aecb",
   "metadata": {},
   "outputs": [
    {
     "data": {
      "image/png": "[encoded data removed]",
      "text/plain": [
       "<Figure size 640x480 with 1 Axes>"
      ]
     },
     "metadata": {},
     "output_type": "display_data"
    }
   ],
   "source": [
    "small_training_df[\"number_of_atoms\"].hist(bins=100);"
   ]
  },
  {
   "cell_type": "markdown",
   "id": "cce5126f",
   "metadata": {},
   "source": [
    "Select only sctructures smaller than **40** atoms per structures"
   ]
  },
  {
   "cell_type": "code",
   "execution_count": 16,
   "id": "8766e5f8",
   "metadata": {},
   "outputs": [],
   "source": [
    "small_training_df=small_training_df[small_training_df[\"number_of_atoms\"]<=40].sample(n=100, random_state=42)"
   ]
  },
  {
   "cell_type": "code",
   "execution_count": 17,
   "id": "8591ec1c",
   "metadata": {},
   "outputs": [
    {
     "data": {
      "text/plain": [
       "(100, 12)"
      ]
     },
     "execution_count": 17,
     "metadata": {},
     "output_type": "execute_result"
    }
   ],
   "source": [
    "small_training_df.shape"
   ]
  },
  {
   "cell_type": "markdown",
   "id": "33909021",
   "metadata": {},
   "source": [
    "Pack them into training container"
   ]
  },
  {
   "cell_type": "code",
   "execution_count": 18,
   "id": "6359f955",
   "metadata": {},
   "outputs": [],
   "source": [
    "small_tc = pr.create.job.TrainingContainer(\"small_AlLi_training_container\", delete_existing_job=True)"
   ]
  },
  {
   "cell_type": "code",
   "execution_count": 19,
   "id": "b60dfb18",
   "metadata": {},
   "outputs": [],
   "source": [
    "small_tc.include_dataset(small_training_df)"
   ]
  },
  {
   "cell_type": "code",
   "execution_count": 20,
   "id": "5e473ec8",
   "metadata": {},
   "outputs": [
    {
     "name": "stdout",
     "output_type": "stream",
     "text": [
      "The job small_AlLi_training_container was saved and received the ID: 4\n"
     ]
    },
    {
     "data": {
      "text/plain": [
       "4"
      ]
     },
     "execution_count": 20,
     "metadata": {},
     "output_type": "execute_result"
    }
   ],
   "source": [
    "small_tc.save()"
   ]
  },
  {
   "cell_type": "code",
   "execution_count": 21,
   "id": "f09ab3cb-5389-49c9-8c65-559ec048acb2",
   "metadata": {},
   "outputs": [
    {
     "data": {
      "text/html": [
       "<div>\n",
       "<style scoped>\n",
       "    .dataframe tbody tr th:only-of-type {\n",
       "        vertical-align: middle;\n",
       "    }\n",
       "\n",
       "    .dataframe tbody tr th {\n",
       "        vertical-align: top;\n",
       "    }\n",
       "\n",
       "    .dataframe thead th {\n",
       "        text-align: right;\n",
       "    }\n",
       "</style>\n",
       "<table border=\"1\" class=\"dataframe\">\n",
       "  <thead>\n",
       "    <tr style=\"text-align: right;\">\n",
       "      <th></th>\n",
       "      <th>V</th>\n",
       "      <th>E</th>\n",
       "      <th>space_group</th>\n",
       "      <th>crystal_system</th>\n",
       "    </tr>\n",
       "  </thead>\n",
       "  <tbody>\n",
       "    <tr>\n",
       "      <th>0</th>\n",
       "      <td>18.537039</td>\n",
       "      <td>-2.714437</td>\n",
       "      <td>194</td>\n",
       "      <td>hexagonal</td>\n",
       "    </tr>\n",
       "    <tr>\n",
       "      <th>1</th>\n",
       "      <td>17.014115</td>\n",
       "      <td>-3.415845</td>\n",
       "      <td>1</td>\n",
       "      <td>triclinic</td>\n",
       "    </tr>\n",
       "    <tr>\n",
       "      <th>2</th>\n",
       "      <td>18.132856</td>\n",
       "      <td>-3.449419</td>\n",
       "      <td>225</td>\n",
       "      <td>cubic</td>\n",
       "    </tr>\n",
       "    <tr>\n",
       "      <th>3</th>\n",
       "      <td>18.512802</td>\n",
       "      <td>-3.413774</td>\n",
       "      <td>1</td>\n",
       "      <td>triclinic</td>\n",
       "    </tr>\n",
       "    <tr>\n",
       "      <th>4</th>\n",
       "      <td>20.298508</td>\n",
       "      <td>-3.178243</td>\n",
       "      <td>1</td>\n",
       "      <td>triclinic</td>\n",
       "    </tr>\n",
       "    <tr>\n",
       "      <th>...</th>\n",
       "      <td>...</td>\n",
       "      <td>...</td>\n",
       "      <td>...</td>\n",
       "      <td>...</td>\n",
       "    </tr>\n",
       "    <tr>\n",
       "      <th>95</th>\n",
       "      <td>15.707664</td>\n",
       "      <td>-2.800103</td>\n",
       "      <td>227</td>\n",
       "      <td>cubic</td>\n",
       "    </tr>\n",
       "    <tr>\n",
       "      <th>96</th>\n",
       "      <td>18.722061</td>\n",
       "      <td>-3.399934</td>\n",
       "      <td>1</td>\n",
       "      <td>triclinic</td>\n",
       "    </tr>\n",
       "    <tr>\n",
       "      <th>97</th>\n",
       "      <td>16.388387</td>\n",
       "      <td>-2.746841</td>\n",
       "      <td>1</td>\n",
       "      <td>triclinic</td>\n",
       "    </tr>\n",
       "    <tr>\n",
       "      <th>98</th>\n",
       "      <td>16.697821</td>\n",
       "      <td>-3.450689</td>\n",
       "      <td>1</td>\n",
       "      <td>triclinic</td>\n",
       "    </tr>\n",
       "    <tr>\n",
       "      <th>99</th>\n",
       "      <td>16.484904</td>\n",
       "      <td>-3.482749</td>\n",
       "      <td>225</td>\n",
       "      <td>cubic</td>\n",
       "    </tr>\n",
       "  </tbody>\n",
       "</table>\n",
       "<p>100 rows × 4 columns</p>\n",
       "</div>"
      ],
      "text/plain": [
       "            V         E  space_group crystal_system\n",
       "0   18.537039 -2.714437          194      hexagonal\n",
       "1   17.014115 -3.415845            1      triclinic\n",
       "2   18.132856 -3.449419          225          cubic\n",
       "3   18.512802 -3.413774            1      triclinic\n",
       "4   20.298508 -3.178243            1      triclinic\n",
       "..        ...       ...          ...            ...\n",
       "95  15.707664 -2.800103          227          cubic\n",
       "96  18.722061 -3.399934            1      triclinic\n",
       "97  16.388387 -2.746841            1      triclinic\n",
       "98  16.697821 -3.450689            1      triclinic\n",
       "99  16.484904 -3.482749          225          cubic\n",
       "\n",
       "[100 rows x 4 columns]"
      ]
     },
     "execution_count": 21,
     "metadata": {},
     "output_type": "execute_result"
    },
    {
     "data": {
      "image/png": "[encoded data removed]",
      "text/plain": [
       "<Figure size 640x480 with 1 Axes>"
      ]
     },
     "metadata": {},
     "output_type": "display_data"
    }
   ],
   "source": [
    "small_tc.plot.energy_volume(crystal_systems=True)"
   ]
  },
  {
   "cell_type": "markdown",
   "id": "71f51a61",
   "metadata": {},
   "source": [
    "### Create PacemakerJob"
   ]
  },
  {
   "cell_type": "code",
   "execution_count": 23,
   "id": "932a7b46",
   "metadata": {},
   "outputs": [],
   "source": [
    "# job = pr.create.job.PacemakerJob(\"pacemaker_job\",delete_aborted_job=True, delete_existing_job=True)\n",
    "job = pr.create.job.PacemakerJob(\"pacemaker_job\")"
   ]
  },
  {
   "cell_type": "code",
   "execution_count": 24,
   "id": "6bd31372",
   "metadata": {},
   "outputs": [],
   "source": [
    "job.add_training_data(small_tc)"
   ]
  },
  {
   "cell_type": "markdown",
   "id": "92f3518b-526a-4688-ac75-3f8ce0025d90",
   "metadata": {},
   "source": [
    "Set maximum cutoff for the potential"
   ]
  },
  {
   "cell_type": "markdown",
   "id": "1df3e88a-d357-4216-ad5a-f483c45bb55f",
   "metadata": {},
   "source": [
    "### PACE potential fitting setup"
   ]
  },
  {
   "cell_type": "markdown",
   "id": "3ec2c0a4-3395-4be6-ae5a-72d7f9bf4003",
   "metadata": {},
   "source": [
    "#### Overview of settings"
   ]
  },
  {
   "cell_type": "code",
   "execution_count": 25,
   "id": "9093e5c9",
   "metadata": {},
   "outputs": [
    {
     "data": {
      "text/html": [
       "<div>\n",
       "<style scoped>\n",
       "    .dataframe tbody tr th:only-of-type {\n",
       "        vertical-align: middle;\n",
       "    }\n",
       "\n",
       "    .dataframe tbody tr th {\n",
       "        vertical-align: top;\n",
       "    }\n",
       "\n",
       "    .dataframe thead th {\n",
       "        text-align: right;\n",
       "    }\n",
       "</style>\n",
       "<table border=\"1\" class=\"dataframe\">\n",
       "  <thead>\n",
       "    <tr style=\"text-align: right;\">\n",
       "      <th></th>\n",
       "      <th>Parameter</th>\n",
       "      <th>Value</th>\n",
       "      <th>Comment</th>\n",
       "    </tr>\n",
       "  </thead>\n",
       "  <tbody>\n",
       "    <tr>\n",
       "      <th>0</th>\n",
       "      <td>cutoff</td>\n",
       "      <td>7.0</td>\n",
       "      <td></td>\n",
       "    </tr>\n",
       "    <tr>\n",
       "      <th>1</th>\n",
       "      <td>metadata</td>\n",
       "      <td>{'comment': 'pyiron-generated fitting job'}</td>\n",
       "      <td></td>\n",
       "    </tr>\n",
       "    <tr>\n",
       "      <th>2</th>\n",
       "      <td>data</td>\n",
       "      <td>{}</td>\n",
       "      <td></td>\n",
       "    </tr>\n",
       "    <tr>\n",
       "      <th>3</th>\n",
       "      <td>potential</td>\n",
       "      <td>{'elements': [], 'bonds': {'ALL': {'radbase': 'SBessel', 'rcut': 7.0, 'dcut': 0.01, 'radparameters': [5.25]}}, 'embeddings': {'ALL': {'fs_parameters': [1, 1, 1, 0.5], 'ndensity': 2, 'npot': 'Finni...</td>\n",
       "      <td></td>\n",
       "    </tr>\n",
       "    <tr>\n",
       "      <th>4</th>\n",
       "      <td>fit</td>\n",
       "      <td>{'loss': {'L1_coeffs': 1e-08, 'L2_coeffs': 1e-08, 'kappa': 0.3, 'w0_rad': 0, 'w1_rad': 0, 'w2_rad': 0}, 'maxiter': 1000, 'optimizer': 'BFGS', 'fit_cycles': 1}</td>\n",
       "      <td></td>\n",
       "    </tr>\n",
       "    <tr>\n",
       "      <th>5</th>\n",
       "      <td>backend</td>\n",
       "      <td>{'batch_size': 100, 'display_step': 50, 'evaluator': 'tensorpot'}</td>\n",
       "      <td></td>\n",
       "    </tr>\n",
       "  </tbody>\n",
       "</table>\n",
       "</div>"
      ],
      "text/plain": [
       "   Parameter  \\\n",
       "0     cutoff   \n",
       "1   metadata   \n",
       "2       data   \n",
       "3  potential   \n",
       "4        fit   \n",
       "5    backend   \n",
       "\n",
       "                                                                                                                                                                                                     Value  \\\n",
       "0                                                                                                                                                                                                      7.0   \n",
       "1                                                                                                                                                              {'comment': 'pyiron-generated fitting job'}   \n",
       "2                                                                                                                                                                                                       {}   \n",
       "3  {'elements': [], 'bonds': {'ALL': {'radbase': 'SBessel', 'rcut': 7.0, 'dcut': 0.01, 'radparameters': [5.25]}}, 'embeddings': {'ALL': {'fs_parameters': [1, 1, 1, 0.5], 'ndensity': 2, 'npot': 'Finni...   \n",
       "4                                           {'loss': {'L1_coeffs': 1e-08, 'L2_coeffs': 1e-08, 'kappa': 0.3, 'w0_rad': 0, 'w1_rad': 0, 'w2_rad': 0}, 'maxiter': 1000, 'optimizer': 'BFGS', 'fit_cycles': 1}   \n",
       "5                                                                                                                                        {'batch_size': 100, 'display_step': 50, 'evaluator': 'tensorpot'}   \n",
       "\n",
       "  Comment  \n",
       "0          \n",
       "1          \n",
       "2          \n",
       "3          \n",
       "4          \n",
       "5          "
      ]
     },
     "execution_count": 25,
     "metadata": {},
     "output_type": "execute_result"
    }
   ],
   "source": [
    "job.input"
   ]
  },
  {
   "cell_type": "markdown",
   "id": "b36cf9fa-2cd8-4cf7-a51d-a76d3f846e36",
   "metadata": {},
   "source": [
    "#### Potential interatomic distance cutoff"
   ]
  },
  {
   "cell_type": "code",
   "execution_count": 26,
   "id": "180d92d9",
   "metadata": {},
   "outputs": [],
   "source": [
    "job.cutoff=5.0 #7.0"
   ]
  },
  {
   "cell_type": "markdown",
   "id": "28360fdc",
   "metadata": {},
   "source": [
    "### Specification of ACE potential"
   ]
  },
  {
   "cell_type": "markdown",
   "id": "d31d042f-136d-4a43-b203-832b90c6fe7b",
   "metadata": {},
   "source": [
    "PACE potential specification consists of three parts:\n"
   ]
  },
  {
   "cell_type": "markdown",
   "id": "e531217c",
   "metadata": {},
   "source": [
    "#### 1. Embeddings\n",
    " i.e. how atomic energy $E_i$ depends on ACE properties/densities $\\varphi$. Linear expansion $E_i = \\varphi$ is the trivial. Non-linear expansion, i.e. those, containing square root, gives more flexiblity and accuracy of final potential"
   ]
  },
  {
   "cell_type": "markdown",
   "id": "6b226d14",
   "metadata": {},
   "source": [
    "Embeddings for `ALL` species (i.e. Al and Li): \n",
    "- non-linear `FinnisSinclairShiftedScaled`\n",
    "- 2 densities\n",
    "- fs_parameters': [1, 1, 1, 0.5]:\n",
    "$$E_i = 1.0 * \\varphi(1)^1 + 1.0 * \\varphi(2)^{0.5} = \\varphi^{(1)} + \\sqrt{\\varphi^{(2)}} $$"
   ]
  },
  {
   "cell_type": "code",
   "execution_count": 27,
   "id": "a219d606",
   "metadata": {},
   "outputs": [
    {
     "data": {
      "text/plain": [
       "{'ALL': {'fs_parameters': [1, 1, 1, 0.5],\n",
       "  'ndensity': 2,\n",
       "  'npot': 'FinnisSinclairShiftedScaled'}}"
      ]
     },
     "execution_count": 27,
     "metadata": {},
     "output_type": "execute_result"
    }
   ],
   "source": [
    "job.input[\"potential\"][\"embeddings\"]"
   ]
  },
  {
   "cell_type": "markdown",
   "id": "f0a96e1e",
   "metadata": {},
   "source": [
    "#### 2. Radial functions"
   ]
  },
  {
   "cell_type": "markdown",
   "id": "c6ef161b",
   "metadata": {},
   "source": [
    "Radial functions are orthogonal polynoms example:\n",
    "* (a) Exponentially-scaled Chebyshev polynomials (λ = 5.25)\n",
    "* (b) Power-law scaled Chebyshev polynomials (λ = 2.0)\n",
    "* (c) Simplified spherical Bessel functions"
   ]
  },
  {
   "cell_type": "markdown",
   "id": "60448ec8-8caa-4162-9eba-7d3897618c52",
   "metadata": {},
   "source": [
    "![ACE radial functions](img/radial-functions-low.png \"ACE radial functions\")"
   ]
  },
  {
   "cell_type": "markdown",
   "id": "1c20667c",
   "metadata": {},
   "source": [
    "Radial functions specification for `ALL` species pairs (i.e. Al-Al, Al-Li, Li-Al, Li-Li):\n",
    "\n",
    "* based on the Simplified Bessel\n",
    "* cutoff $r_c=7.0$"
   ]
  },
  {
   "cell_type": "code",
   "execution_count": 28,
   "id": "458c00f7",
   "metadata": {},
   "outputs": [
    {
     "data": {
      "text/plain": [
       "{'ALL': {'radbase': 'SBessel',\n",
       "  'rcut': 5.0,\n",
       "  'dcut': 0.01,\n",
       "  'radparameters': [5.25]}}"
      ]
     },
     "execution_count": 28,
     "metadata": {},
     "output_type": "execute_result"
    }
   ],
   "source": [
    "job.input[\"potential\"][\"bonds\"]"
   ]
  },
  {
   "cell_type": "markdown",
   "id": "b56d046f",
   "metadata": {},
   "source": [
    "#### 3. B-basis functions"
   ]
  },
  {
   "cell_type": "markdown",
   "id": "9ed449b5",
   "metadata": {},
   "source": [
    "B-basis functions  for `ALL` species type interactions, i.e. Al-Al, Al-Li, Li-Al, Li-Li blocks:\n",
    "* maximum order = 4, i.e. body-order 5 (1 central atom + 4 neighbour  densities)\n",
    "* nradmax_by_orders: 15, 3, 2, 1\n",
    "* lmax_by_orders: 0, 3, 2, 1"
   ]
  },
  {
   "cell_type": "code",
   "execution_count": 29,
   "id": "d095516c",
   "metadata": {},
   "outputs": [
    {
     "data": {
      "text/plain": [
       "{'ALL': {'nradmax_by_orders': [15, 3, 2, 1], 'lmax_by_orders': [0, 3, 2, 1]}}"
      ]
     },
     "execution_count": 29,
     "metadata": {},
     "output_type": "execute_result"
    }
   ],
   "source": [
    "job.input[\"potential\"][\"functions\"]"
   ]
  },
  {
   "cell_type": "markdown",
   "id": "cf404f4d-7d72-4a20-813b-6f37a7157404",
   "metadata": {},
   "source": [
    "We will reduce the basis size for demonstartion purposes"
   ]
  },
  {
   "cell_type": "code",
   "execution_count": 30,
   "id": "4954e72b",
   "metadata": {},
   "outputs": [],
   "source": [
    "job.input[\"potential\"][\"functions\"]={'ALL': {'nradmax_by_orders': [12, 3, 2], 'lmax_by_orders': [0, 2, 1]}}"
   ]
  },
  {
   "cell_type": "markdown",
   "id": "ac2ce634",
   "metadata": {},
   "source": [
    "### Fit/loss specification"
   ]
  },
  {
   "cell_type": "markdown",
   "id": "6a55fdd1",
   "metadata": {},
   "source": [
    "Loss function specification"
   ]
  },
  {
   "cell_type": "markdown",
   "id": "98f1f891",
   "metadata": {},
   "source": [
    "![Loss function](img/loss-func.png \"Loss function\")"
   ]
  },
  {
   "cell_type": "markdown",
   "id": "7de7795a",
   "metadata": {},
   "source": [
    "![Loss regularization](img/loss-reg.png \"Loss regularization\")"
   ]
  },
  {
   "cell_type": "code",
   "execution_count": 31,
   "id": "2323c2b6",
   "metadata": {},
   "outputs": [
    {
     "data": {
      "text/plain": [
       "{'L1_coeffs': 1e-08,\n",
       " 'L2_coeffs': 1e-08,\n",
       " 'kappa': 0.3,\n",
       " 'w0_rad': 0,\n",
       " 'w1_rad': 0,\n",
       " 'w2_rad': 0}"
      ]
     },
     "execution_count": 31,
     "metadata": {},
     "output_type": "execute_result"
    }
   ],
   "source": [
    "job.input[\"fit\"]['loss']"
   ]
  },
  {
   "cell_type": "markdown",
   "id": "6a4897ee",
   "metadata": {},
   "source": [
    "#### Weighting"
   ]
  },
  {
   "cell_type": "markdown",
   "id": "10a755f2-e709-4bbc-b466-c86e81744231",
   "metadata": {},
   "source": [
    "Energy-based weighting puts more \"accent\" onto the low energy-lying structures, close to convex hull"
   ]
  },
  {
   "cell_type": "code",
   "execution_count": 32,
   "id": "649ba22c",
   "metadata": {},
   "outputs": [],
   "source": [
    "job.input[\"fit\"]['weighting'] =  {\n",
    "        ## weights for the structures energies/forces are associated according to the distance to E_min:\n",
    "        ## convex hull ( energy: convex_hull) or minimal energy per atom (energy: cohesive)\n",
    "        \"type\": \"EnergyBasedWeightingPolicy\",\n",
    "        ## number of structures to randomly select from the initial dataset\n",
    "        \"nfit\": 10000,         \n",
    "        ## only the structures with energy up to E_min + DEup will be selected\n",
    "        \"DEup\": 10.0,  ## eV, upper energy range (E_min + DElow, E_min + DEup)        \n",
    "        ## only the structures with maximal force on atom  up to DFup will be selected\n",
    "        \"DFup\": 50.0, ## eV/A\n",
    "        ## lower energy range (E_min, E_min + DElow)\n",
    "        \"DElow\": 1.0,  ## eV\n",
    "        ## delta_E  shift for weights, see paper\n",
    "        \"DE\": 1.0,\n",
    "        ## delta_F  shift for weights, see paper\n",
    "        \"DF\": 1.0,\n",
    "        ## 0<wlow<1 or None: if provided, the renormalization weights of the structures on lower energy range (see DElow)\n",
    "        \"wlow\": 0.75,        \n",
    "        ##  \"convex_hull\" or \"cohesive\" : method to compute the E_min\n",
    "        \"energy\": \"convex_hull\",        \n",
    "        ## structures types: all (default), bulk or cluster\n",
    "        \"reftype\": \"all\",        \n",
    "        ## random number seed\n",
    "        \"seed\": 42 \n",
    "}"
   ]
  },
  {
   "cell_type": "markdown",
   "id": "a627cf6c",
   "metadata": {},
   "source": [
    "### Minimization and backend specification"
   ]
  },
  {
   "cell_type": "markdown",
   "id": "ba0b62ee-ec86-4859-a9e3-3b22a67aa370",
   "metadata": {},
   "source": [
    "![Loss function](img/tensorpotential.png \"Tensorpotential\")"
   ]
  },
  {
   "cell_type": "markdown",
   "id": "8b433aa3",
   "metadata": {},
   "source": [
    "Type of optimizer: `SciPy.minimize.BFGS`. This optimizer is more efficient that typical optimizers for neural networks (i.e. ADAM, RMSprop, Adagrad, etc.), but it scales quadratically wrt. number of optimizable parameters.\n",
    "However number of trainable parameters for PACE potential is usually up to few thousands, so we gain a lot of accuracy during training with BFGS optimizer."
   ]
  },
  {
   "cell_type": "code",
   "execution_count": 33,
   "id": "93d7e132",
   "metadata": {},
   "outputs": [
    {
     "data": {
      "text/plain": [
       "'BFGS'"
      ]
     },
     "execution_count": 33,
     "metadata": {},
     "output_type": "execute_result"
    }
   ],
   "source": [
    "job.input[\"fit\"][\"optimizer\"]"
   ]
  },
  {
   "cell_type": "markdown",
   "id": "b9106897",
   "metadata": {},
   "source": [
    "Maximum number of iterations by minimizer. Typical values are ~1000-1500, but we chose small value for demonstration purposes only"
   ]
  },
  {
   "cell_type": "code",
   "execution_count": 34,
   "id": "2a9c1d45",
   "metadata": {},
   "outputs": [],
   "source": [
    "job.input[\"fit\"][\"maxiter\"]=100"
   ]
  },
  {
   "cell_type": "markdown",
   "id": "eead75da",
   "metadata": {},
   "source": [
    "Batch size (number of simultaneously considered structures). This number should be reduced if there is not enough memory"
   ]
  },
  {
   "cell_type": "code",
   "execution_count": 35,
   "id": "e0841a2a",
   "metadata": {},
   "outputs": [
    {
     "data": {
      "text/plain": [
       "100"
      ]
     },
     "execution_count": 35,
     "metadata": {},
     "output_type": "execute_result"
    }
   ],
   "source": [
    "job.input[\"backend\"][\"batch_size\"]"
   ]
  },
  {
   "cell_type": "markdown",
   "id": "8398d24b",
   "metadata": {},
   "source": [
    "For more details about these and other settings please refer to [official documentation](https://pacemaker.readthedocs.io/en/latest/pacemaker/inputfile/)"
   ]
  },
  {
   "cell_type": "markdown",
   "id": "cf3df83d",
   "metadata": {},
   "source": [
    "## Run fit"
   ]
  },
  {
   "cell_type": "code",
   "execution_count": 36,
   "id": "9ff612a7-3a03-4028-b7bd-ae8b8596457a",
   "metadata": {},
   "outputs": [],
   "source": [
    "job.executable.version = 'tf'"
   ]
  },
  {
   "cell_type": "code",
   "execution_count": 37,
   "id": "4bff02a2",
   "metadata": {},
   "outputs": [
    {
     "name": "stderr",
     "output_type": "stream",
     "text": [
      "INFO:pyiron_log:run job: pacemaker_job id: 5, status: created\n",
      "INFO:pyiron_log:job: pacemaker_job id: 5, status: submitted, run job (modal)\n"
     ]
    },
    {
     "name": "stdout",
     "output_type": "stream",
     "text": [
      "Set automatically determined list of elements: ['Al', 'Li']\n",
      "The job pacemaker_job was saved and received the ID: 5\n"
     ]
    },
    {
     "name": "stderr",
     "output_type": "stream",
     "text": [
      "INFO:pyiron_log:job: pacemaker_job id: 5, status: running, output: 2023/03/22 12:59:52 I - Redirecting log into file log.txt\n",
      "2023/03/22 12:59:52 I - Start pacemaker\n",
      "2023/03/22 12:59:52 I - Hostname: jupyter-matteor\n",
      "2023/03/22 12:59:52 I - Username: joyvan\n",
      "2023/03/22 12:59:52 I - pacemaker/pyace version: 0.2.7+76.g8b3c6cf\n",
      "2023/03/22 12:59:52 I - ace_evaluator   version: 2022.6.27\n",
      "2023/03/22 12:59:52 I - Loading input.yaml... \n",
      "2023/03/22 12:59:52 W - No 'seed' provided in YAML file, default value seed = 42 will be used.\n",
      "2023/03/22 12:59:52 I - Set numpy random seed to 42\n",
      "2023/03/22 12:59:52 I - Target potential shape constructed from dictionary, it contains 294 functions\n",
      "2023/03/22 12:59:53 I - tensorpot_version: 0+untagged.10.gd3e46ba\n",
      "2023/03/22 12:59:53 I - User name automatically identified: joyvan\n",
      "2023/03/22 12:59:53 I - Search for cache ref-file: /home/joyvan/tutorial/potentials/ACE/training/pacemaker_job_hdf5/pacemaker_job/df_fit.pckl.gzip\n",
      "2023/03/22 12:59:53 I - /home/joyvan/tutorial/potentials/ACE/training/pacemaker_job_hdf5/pacemaker_job/df_fit.pckl.gzip found, try to load\n",
      "2023/03/22 12:59:53 I - Loading dataframe from pickle file /home/joyvan/tutorial/potentials/ACE/training/pacemaker_job_hdf5/pacemaker_job/df_fit.pckl.gzip (101.5KiB)\n",
      "2023/03/22 12:59:53 I - Transforming to DataFrameWithMetadata\n",
      "2023/03/22 12:59:53 I - Setting up structures dataframe - please be patient...\n",
      "2023/03/22 12:59:53 I - Processing structures dataframe. Shape: (100, 6)\n",
      "2023/03/22 12:59:53 I - Total number of atoms: 2240\n",
      "2023/03/22 12:59:53 I - Mean number of atoms per structure: 22.4\n",
      "2023/03/22 12:59:53 I - 'energy' columns found\n",
      "2023/03/22 12:59:53 I - 'forces' columns found\n",
      "2023/03/22 12:59:53 I - 'pbc' columns found\n",
      "2023/03/22 12:59:53 I - 'cell' column found\n",
      "2023/03/22 12:59:53 I - 'energy_corrected' column found\n",
      "2023/03/22 12:59:53 I - 'energy_corrected_per_atom' column extraction\n",
      "2023/03/22 12:59:53 I - Min energy per atom: -3.483 eV/atom\n",
      "2023/03/22 12:59:53 I - Max energy per atom: 7.379 eV/atom\n",
      "2023/03/22 12:59:53 I - Min abs energy per atom: 0.444 eV/atom\n",
      "2023/03/22 12:59:53 I - Max abs energy per atom: 7.379 eV/atom\n",
      "2023/03/22 12:59:53 I - ASE atoms ('ase_atoms' column) are already in dataframe\n",
      "2023/03/22 12:59:53 I - Attaching SinglePointCalculator to ASE atoms...\n",
      "2023/03/22 12:59:53 I - Attaching SinglePointCalcualtor to ASE atoms...done within 0.0063386 sec (0.00282973 ms/at)\n",
      "2023/03/22 12:59:53 I - Atomic environment representation construction...\n",
      "2023/03/22 12:59:53 I - Building 'tp_atoms' (dataset size 100, cutoff=5.0A)...\n",
      "2023/03/22 12:59:53 I - Dataframe size after transform: 99\n",
      "2023/03/22 12:59:53 I - Atomic environment representation construction...done within 0.056531 sec (0.0252 ms/atom)\n",
      "2023/03/22 12:59:53 I - Apply weights policy: EnergyBasedWeightingPolicy(nfit=10000, n_lower=None, n_upper=None, energy=convex_hull, DElow=1.0, DEup=10.0, DFup=50.0, DE=1.0, DF=1.0, wlow=0.75, reftype=all,seed=42)\n",
      "2023/03/22 12:59:53 I - Keeping bulk and cluster data\n",
      "2023/03/22 12:59:53 I - No cutoff for EnergyBasedWeightingPolicy is provided, no structures outside cutoff that will now be removed\n",
      "2023/03/22 12:59:53 I - EnergyBasedWeightingPolicy: energy reference frame - convex hull distance (if possible)\n",
      "2023/03/22 12:59:53 I - Pure element lowest energy for Al = -3.482749 eV/atom\n",
      "2023/03/22 12:59:53 I - Pure element lowest energy for Li = -1.756339 eV/atom\n",
      "2023/03/22 12:59:53 I - Structure dataset: multiple unique compositions found, trying to construct convex hull\n",
      "2023/03/22 12:59:53 I - Maximal allowed on-atom force vector length is DFup = 50.000\n",
      "2023/03/22 12:59:53 I - 0 structures with higher than dFup forces are removed. Current size: 99 structures\n",
      "2023/03/22 12:59:53 I - 97 structures below DElow=1.0 eV/atom\n",
      "2023/03/22 12:59:53 I - 2 structures between DElow=1.0 eV/atom and DEup=10.0 eV/atom\n",
      "2023/03/22 12:59:53 I - all other structures were removed\n",
      "2023/03/22 12:59:53 I - 99 structures were selected\n",
      "2023/03/22 12:59:53 I - Setting up energy weights\n",
      "2023/03/22 12:59:53 I - Current relative energy weights: 0.998/0.002\n",
      "2023/03/22 12:59:53 I - Will be adjusted to            : 0.750/0.250\n",
      "2023/03/22 12:59:53 I - After adjustment: relative energy weights: 0.750/0.250\n",
      "2023/03/22 12:59:53 I - Setting up force weights\n",
      "2023/03/22 12:59:53 I - Fitting dataset info saved into fitting_data_info.pckl.gzip\n",
      "2023/03/22 12:59:53 I - Plotting train energy-forces distribution\n",
      "2023/03/22 12:59:54 I - Fitting dataset size: 99 structures / 2238 atoms\n",
      "2023/03/22 12:59:54 I - 'Single-shot' fitting\n",
      "2023/03/22 12:59:54 I - Cycle fitting loop\n",
      "2023/03/22 12:59:54 I - Number of fit attempts: 0/1\n",
      "2023/03/22 12:59:54 I - Total number of functions: 294 / number of parameters: 1020\n",
      "2023/03/22 12:59:54 I - Running fit backend\n",
      "2023/03/22 12:59:54 I - Trainable parameters: {('Al',): ['func', 'radial'], ('Li',): ['func', 'radial'], ('Al', 'Li'): ['func', 'radial'], ('Li', 'Al'): ['func', 'radial']}\n",
      "2023/03/22 12:59:54 I - Loss function specification: LossFunctionSpecification(kappa=0.3, L1=1e-08, L2=1e-08, DeltaRad=(0, 0, 0), w_orth=0)\n",
      "2023/03/22 12:59:54 I - Batch size: 100\n",
      "2023/03/22 12:59:54 I - Minimizer options: {'gtol': 1e-08, 'disp': True, 'maxiter': 100}\n",
      "2023/03/22 12:59:58 W - Calling GradientTape.gradient on a persistent tape inside its context is significantly less efficient than calling it outside the context (it causes the gradient ops to be recorded on the tape, leading to increased CPU and memory usage). Only call GradientTape.gradient inside the context if you actually want to trace the gradient in order to compute higher order derivatives.\n",
      "/srv/conda/envs/notebook/lib/python3.9/site-packages/tensorflow/python/framework/indexed_slices.py:444: UserWarning: Converting sparse IndexedSlices(IndexedSlices(indices=Tensor(\"concat_55:0\", shape=(None,), dtype=int32), values=Tensor(\"concat_54:0\", shape=(None, 3), dtype=float64), dense_shape=Tensor(\"gradient_tape/Cast_30:0\", shape=(2,), dtype=int32))) to a dense Tensor of unknown shape. This may consume a large amount of memory.\n",
      "  warnings.warn(\n",
      "/srv/conda/envs/notebook/lib/python3.9/site-packages/tensorflow/python/framework/indexed_slices.py:444: UserWarning: Converting sparse IndexedSlices(IndexedSlices(indices=Tensor(\"gradient_tape/gradient_tape/Reshape_421:0\", shape=(None,), dtype=int32), values=Tensor(\"gradient_tape/gradient_tape/Reshape_420:0\", shape=(None, 12), dtype=float64), dense_shape=Tensor(\"gradient_tape/gradient_tape/Cast_4:0\", shape=(2,), dtype=int32))) to a dense Tensor of unknown shape. This may consume a large amount of memory.\n",
      "  warnings.warn(\n",
      "/srv/conda/envs/notebook/lib/python3.9/site-packages/tensorflow/python/framework/indexed_slices.py:444: UserWarning: Converting sparse IndexedSlices(IndexedSlices(indices=Tensor(\"gradient_tape/gradient_tape/Reshape_423:0\", shape=(None,), dtype=int32), values=Tensor(\"gradient_tape/gradient_tape/Reshape_422:0\", shape=(None, 12), dtype=float64), dense_shape=Tensor(\"gradient_tape/gradient_tape/Cast_5:0\", shape=(2,), dtype=int32))) to a dense Tensor of unknown shape. This may consume a large amount of memory.\n",
      "  warnings.warn(\n",
      "/srv/conda/envs/notebook/lib/python3.9/site-packages/tensorflow/python/framework/indexed_slices.py:444: UserWarning: Converting sparse IndexedSlices(IndexedSlices(indices=Tensor(\"gradient_tape/gradient_tape/Reshape_425:0\", shape=(None,), dtype=int32), values=Tensor(\"gradient_tape/gradient_tape/Reshape_424:0\", shape=(None, 12), dtype=float64), dense_shape=Tensor(\"gradient_tape/gradient_tape/Cast_6:0\", shape=(2,), dtype=int32))) to a dense Tensor of unknown shape. This may consume a large amount of memory.\n",
      "  warnings.warn(\n",
      "/srv/conda/envs/notebook/lib/python3.9/site-packages/tensorflow/python/framework/indexed_slices.py:444: UserWarning: Converting sparse IndexedSlices(IndexedSlices(indices=Tensor(\"gradient_tape/gradient_tape/Reshape_427:0\", shape=(None,), dtype=int32), values=Tensor(\"gradient_tape/gradient_tape/Reshape_426:0\", shape=(None, 12), dtype=float64), dense_shape=Tensor(\"gradient_tape/gradient_tape/Cast_7:0\", shape=(2,), dtype=int32))) to a dense Tensor of unknown shape. This may consume a large amount of memory.\n",
      "  warnings.warn(\n",
      "/srv/conda/envs/notebook/lib/python3.9/site-packages/tensorflow/python/framework/indexed_slices.py:444: UserWarning: Converting sparse IndexedSlices(IndexedSlices(indices=Tensor(\"gradient_tape/gradient_tape/Reshape_466:0\", shape=(None,), dtype=int32), values=Tensor(\"gradient_tape/gradient_tape/Reshape_465:0\", shape=(None, 3, 9), dtype=float64), dense_shape=Tensor(\"gradient_tape/gradient_tape/Cast_9:0\", shape=(3,), dtype=int32))) to a dense Tensor of unknown shape. This may consume a large amount of memory.\n",
      "  warnings.warn(\n",
      "/srv/conda/envs/notebook/lib/python3.9/site-packages/tensorflow/python/framework/indexed_slices.py:444: UserWarning: Converting sparse IndexedSlices(IndexedSlices(indices=Tensor(\"gradient_tape/gradient_tape/Reshape_468:0\", shape=(None,), dtype=int32), values=Tensor(\"gradient_tape/gradient_tape/Reshape_467:0\", shape=(None, 3, 9), dtype=float64), dense_shape=Tensor(\"gradient_tape/gradient_tape/Cast_10:0\", shape=(3,), dtype=int32))) to a dense Tensor of unknown shape. This may consume a large amount of memory.\n",
      "  warnings.warn(\n",
      "/srv/conda/envs/notebook/lib/python3.9/site-packages/tensorflow/python/framework/indexed_slices.py:444: UserWarning: Converting sparse IndexedSlices(IndexedSlices(indices=Tensor(\"gradient_tape/gradient_tape/Reshape_470:0\", shape=(None,), dtype=int32), values=Tensor(\"gradient_tape/gradient_tape/Reshape_469:0\", shape=(None, 3, 9), dtype=float64), dense_shape=Tensor(\"gradient_tape/gradient_tape/Cast_11:0\", shape=(3,), dtype=int32))) to a dense Tensor of unknown shape. This may consume a large amount of memory.\n",
      "  warnings.warn(\n",
      "/srv/conda/envs/notebook/lib/python3.9/site-packages/tensorflow/python/framework/indexed_slices.py:444: UserWarning: Converting sparse IndexedSlices(IndexedSlices(indices=Tensor(\"gradient_tape/gradient_tape/Reshape_472:0\", shape=(None,), dtype=int32), values=Tensor(\"gradient_tape/gradient_tape/Reshape_471:0\", shape=(None, 3, 9), dtype=float64), dense_shape=Tensor(\"gradient_tape/gradient_tape/Cast_12:0\", shape=(3,), dtype=int32))) to a dense Tensor of unknown shape. This may consume a large amount of memory.\n",
      "  warnings.warn(\n",
      "/srv/conda/envs/notebook/lib/python3.9/site-packages/tensorflow/python/framework/indexed_slices.py:444: UserWarning: Converting sparse IndexedSlices(IndexedSlices(indices=Tensor(\"gradient_tape/gradient_tape/Reshape_474:0\", shape=(None,), dtype=int32), values=Tensor(\"gradient_tape/gradient_tape/Reshape_473:0\", shape=(None, 3, 9), dtype=float64), dense_shape=Tensor(\"gradient_tape/gradient_tape/Cast_13:0\", shape=(3,), dtype=int32))) to a dense Tensor of unknown shape. This may consume a large amount of memory.\n",
      "  warnings.warn(\n",
      "/srv/conda/envs/notebook/lib/python3.9/site-packages/tensorflow/python/framework/indexed_slices.py:444: UserWarning: Converting sparse IndexedSlices(IndexedSlices(indices=Tensor(\"gradient_tape/gradient_tape/Reshape_476:0\", shape=(None,), dtype=int32), values=Tensor(\"gradient_tape/gradient_tape/Reshape_475:0\", shape=(None, 3, 9), dtype=float64), dense_shape=Tensor(\"gradient_tape/gradient_tape/Cast_14:0\", shape=(3,), dtype=int32))) to a dense Tensor of unknown shape. This may consume a large amount of memory.\n",
      "  warnings.warn(\n",
      "/srv/conda/envs/notebook/lib/python3.9/site-packages/tensorflow/python/framework/indexed_slices.py:444: UserWarning: Converting sparse IndexedSlices(IndexedSlices(indices=Tensor(\"gradient_tape/gradient_tape/Reshape_478:0\", shape=(None,), dtype=int32), values=Tensor(\"gradient_tape/gradient_tape/Reshape_477:0\", shape=(None, 3, 9), dtype=float64), dense_shape=Tensor(\"gradient_tape/gradient_tape/Cast_15:0\", shape=(3,), dtype=int32))) to a dense Tensor of unknown shape. This may consume a large amount of memory.\n",
      "  warnings.warn(\n",
      "/srv/conda/envs/notebook/lib/python3.9/site-packages/tensorflow/python/framework/indexed_slices.py:444: UserWarning: Converting sparse IndexedSlices(IndexedSlices(indices=Tensor(\"gradient_tape/gradient_tape/Reshape_480:0\", shape=(None,), dtype=int32), values=Tensor(\"gradient_tape/gradient_tape/Reshape_479:0\", shape=(None, 3, 9), dtype=float64), dense_shape=Tensor(\"gradient_tape/gradient_tape/Cast_16:0\", shape=(3,), dtype=int32))) to a dense Tensor of unknown shape. This may consume a large amount of memory.\n",
      "  warnings.warn(\n",
      "/srv/conda/envs/notebook/lib/python3.9/site-packages/tensorflow/python/framework/indexed_slices.py:444: UserWarning: Converting sparse IndexedSlices(IndexedSlices(indices=Tensor(\"gradient_tape/gradient_tape/Reshape_564:0\", shape=(126,), dtype=int32), values=Tensor(\"gradient_tape/gradient_tape/Reshape_563:0\", shape=(126, None), dtype=float64), dense_shape=Tensor(\"gradient_tape/gradient_tape/Cast_17:0\", shape=(2,), dtype=int32))) to a dense Tensor of unknown shape. This may consume a large amount of memory.\n",
      "  warnings.warn(\n",
      "/srv/conda/envs/notebook/lib/python3.9/site-packages/tensorflow/python/framework/indexed_slices.py:444: UserWarning: Converting sparse IndexedSlices(IndexedSlices(indices=Tensor(\"gradient_tape/gradient_tape/Reshape_566:0\", shape=(126,), dtype=int32), values=Tensor(\"gradient_tape/gradient_tape/Reshape_565:0\", shape=(126, None), dtype=float64), dense_shape=Tensor(\"gradient_tape/gradient_tape/Cast_18:0\", shape=(2,), dtype=int32))) to a dense Tensor of unknown shape. This may consume a large amount of memory.\n",
      "  warnings.warn(\n",
      "/srv/conda/envs/notebook/lib/python3.9/site-packages/tensorflow/python/framework/indexed_slices.py:444: UserWarning: Converting sparse IndexedSlices(IndexedSlices(indices=Tensor(\"gradient_tape/gradient_tape/Reshape_572:0\", shape=(100,), dtype=int32), values=Tensor(\"gradient_tape/gradient_tape/Reshape_571:0\", shape=(100, None), dtype=float64), dense_shape=Tensor(\"gradient_tape/gradient_tape/Cast_19:0\", shape=(2,), dtype=int32))) to a dense Tensor of unknown shape. This may consume a large amount of memory.\n",
      "  warnings.warn(\n",
      "/srv/conda/envs/notebook/lib/python3.9/site-packages/tensorflow/python/framework/indexed_slices.py:444: UserWarning: Converting sparse IndexedSlices(IndexedSlices(indices=Tensor(\"gradient_tape/gradient_tape/Reshape_574:0\", shape=(100,), dtype=int32), values=Tensor(\"gradient_tape/gradient_tape/Reshape_573:0\", shape=(100, None), dtype=float64), dense_shape=Tensor(\"gradient_tape/gradient_tape/Cast_20:0\", shape=(2,), dtype=int32))) to a dense Tensor of unknown shape. This may consume a large amount of memory.\n",
      "  warnings.warn(\n",
      "2023/03/22 13:00:38 I - Initial state:#0    (1 evals):        Loss: 5.889086 | RMSE Energy(low): 3052.75 (2985.74) meV/at | Forces(low): 377.06 (377.56) meV/A | Time/eval: 19570.23 mcs/at\n",
      "2023/03/22 13:00:38 I - \n",
      "--------------------------------------------INIT STATS--------------------------------------------\n",
      "Iteration:  #0   Loss:    Total:  5.8891e+00 (100%) \n",
      "                         Energy:  5.8220e+00 ( 99%) \n",
      "                          Force:  6.7085e-02 (  1%) \n",
      "                             L1:  0.0000e+00 (  0%) \n",
      "                             L2:  0.0000e+00 (  0%) \n",
      "Number of params./funcs:    912/294                                  Avg. time:   19570.23 mcs/at\n",
      "-------------------------------------------------------------------------------------------------\n",
      "           Energy/at, meV/at   Energy_low/at, meV/at      Force, meV/A        Force_low, meV/A   \n",
      "   RMSE:         3052.75              2985.74               377.06                  377.56\n",
      "    MAE:         2980.36              2946.61               248.28                  248.95\n",
      " MAX_AE:         7378.77              3482.75              2865.76                 2865.76\n",
      "-------------------------------------------------------------------------------------------------\n",
      "2023/03/22 13:00:39 I - Iteration   #1    (4 evals):        Loss: 5.297533 | RMSE Energy(low): 2962.34 (2985.40) meV/at | Forces(low): 376.45 (376.95) meV/A | Time/eval: 219.17 mcs/at\n",
      "2023/03/22 13:00:40 I - Iteration   #2    (6 evals):        Loss: 5.230423 | RMSE Energy(low): 2939.88 (2960.75) meV/at | Forces(low): 371.54 (372.04) meV/A | Time/eval: 180.90 mcs/at\n",
      "2023/03/22 13:00:41 I - Iteration   #3    (8 evals):        Loss: 4.619814 | RMSE Energy(low): 2746.32 (2766.24) meV/at | Forces(low): 336.11 (336.56) meV/A | Time/eval: 180.45 mcs/at\n",
      "2023/03/22 13:00:42 I - Iteration   #4    (9 evals):        Loss: 3.521848 | RMSE Energy(low): 2362.45 (2377.02) meV/at | Forces(low): 272.75 (273.12) meV/A | Time/eval: 160.13 mcs/at\n",
      "2023/03/22 13:00:43 I - Iteration   #5    (11 evals):       Loss: 2.555112 | RMSE Energy(low): 1962.75 (1969.34) meV/at | Forces(low): 259.12 (259.47) meV/A | Time/eval: 217.82 mcs/at\n",
      "2023/03/22 13:00:43 I - Iteration   #6    (12 evals):       Loss: 1.830913 | RMSE Energy(low): 1263.55 (1227.08) meV/at | Forces(low): 881.51 (882.70) meV/A | Time/eval: 156.73 mcs/at\n",
      "2023/03/22 13:00:44 I - Iteration   #7    (13 evals):       Loss: 1.114765 | RMSE Energy(low): 734.42 (682.46) meV/at | Forces(low): 833.82 (834.94) meV/A | Time/eval: 170.32 mcs/at\n",
      "2023/03/22 13:00:45 I - Iteration   #8    (15 evals):       Loss: 0.760668 | RMSE Energy(low): 666.36 (650.47) meV/at | Forces(low): 594.20 (595.00) meV/A | Time/eval: 181.59 mcs/at\n",
      "2023/03/22 13:00:45 I - Iteration   #9    (16 evals):       Loss: 0.391026 | RMSE Energy(low): 578.05 (564.62) meV/at | Forces(low): 394.47 (395.00) meV/A | Time/eval: 185.50 mcs/at\n",
      "2023/03/22 13:00:46 I - Iteration   #10   (18 evals):       Loss: 0.300293 | RMSE Energy(low): 471.13 (469.30) meV/at | Forces(low): 410.46 (411.01) meV/A | Time/eval: 217.62 mcs/at\n",
      "2023/03/22 13:00:47 I - Iteration   #11   (19 evals):       Loss: 0.186163 | RMSE Energy(low): 414.06 (409.04) meV/at | Forces(low): 336.14 (336.59) meV/A | Time/eval: 159.32 mcs/at\n",
      "2023/03/22 13:00:48 I - Iteration   #12   (21 evals):       Loss: 0.150631 | RMSE Energy(low): 386.61 (378.90) meV/at | Forces(low): 310.88 (311.30) meV/A | Time/eval: 180.06 mcs/at\n",
      "2023/03/22 13:00:49 I - Iteration   #13   (23 evals):       Loss: 0.135944 | RMSE Energy(low): 381.07 (381.93) meV/at | Forces(low): 299.97 (300.37) meV/A | Time/eval: 217.99 mcs/at\n",
      "2023/03/22 13:00:49 I - Iteration   #14   (24 evals):       Loss: 0.118266 | RMSE Energy(low): 342.82 (344.36) meV/at | Forces(low): 311.43 (311.85) meV/A | Time/eval: 161.29 mcs/at\n",
      "2023/03/22 13:00:50 I - Iteration   #15   (25 evals):       Loss: 0.100795 | RMSE Energy(low): 299.68 (301.40) meV/at | Forces(low): 312.73 (313.15) meV/A | Time/eval: 172.41 mcs/at\n",
      "2023/03/22 13:00:51 I - Iteration   #16   (26 evals):       Loss: 0.081376 | RMSE Energy(low): 261.84 (262.81) meV/at | Forces(low): 308.54 (308.96) meV/A | Time/eval: 180.78 mcs/at\n",
      "2023/03/22 13:00:52 I - Iteration   #17   (28 evals):       Loss: 0.070839 | RMSE Energy(low): 233.99 (235.63) meV/at | Forces(low): 301.78 (302.18) meV/A | Time/eval: 180.22 mcs/at\n",
      "2023/03/22 13:00:52 I - Iteration   #18   (29 evals):       Loss: 0.061025 | RMSE Energy(low): 212.47 (210.09) meV/at | Forces(low): 273.69 (274.06) meV/A | Time/eval: 161.59 mcs/at\n",
      "2023/03/22 13:00:53 I - Iteration   #19   (30 evals):       Loss: 0.055095 | RMSE Energy(low): 189.58 (190.68) meV/at | Forces(low): 259.60 (259.95) meV/A | Time/eval: 174.83 mcs/at\n",
      "2023/03/22 13:00:53 I - Iteration   #20   (31 evals):       Loss: 0.046391 | RMSE Energy(low): 173.18 (174.85) meV/at | Forces(low): 243.20 (243.52) meV/A | Time/eval: 152.95 mcs/at\n",
      "2023/03/22 13:00:54 I - Iteration   #21   (33 evals):       Loss: 0.041632 | RMSE Energy(low): 163.58 (165.03) meV/at | Forces(low): 232.63 (232.94) meV/A | Time/eval: 180.12 mcs/at\n",
      "2023/03/22 13:00:55 I - Iteration   #22   (34 evals):       Loss: 0.034364 | RMSE Energy(low): 153.87 (155.10) meV/at | Forces(low): 212.57 (212.85) meV/A | Time/eval: 175.10 mcs/at\n",
      "2023/03/22 13:00:56 I - Iteration   #23   (36 evals):       Loss: 0.030976 | RMSE Energy(low): 156.66 (158.06) meV/at | Forces(low): 199.94 (200.21) meV/A | Time/eval: 216.06 mcs/at\n",
      "2023/03/22 13:00:56 I - Iteration   #24   (37 evals):       Loss: 0.027433 | RMSE Energy(low): 152.39 (153.95) meV/at | Forces(low): 187.97 (188.22) meV/A | Time/eval: 156.46 mcs/at\n",
      "2023/03/22 13:00:57 I - Iteration   #25   (38 evals):       Loss: 0.024004 | RMSE Energy(low): 149.34 (150.58) meV/at | Forces(low): 177.63 (177.87) meV/A | Time/eval: 171.56 mcs/at\n",
      "2023/03/22 13:00:58 I - Iteration   #26   (39 evals):       Loss: 0.023136 | RMSE Energy(low): 149.97 (151.29) meV/at | Forces(low): 171.73 (171.96) meV/A | Time/eval: 181.94 mcs/at\n",
      "2023/03/22 13:00:58 I - Iteration   #27   (40 evals):       Loss: 0.021668 | RMSE Energy(low): 146.23 (147.31) meV/at | Forces(low): 166.95 (167.18) meV/A | Time/eval: 159.36 mcs/at\n",
      "2023/03/22 13:00:59 I - Iteration   #28   (41 evals):       Loss: 0.019492 | RMSE Energy(low): 140.79 (142.03) meV/at | Forces(low): 158.72 (158.93) meV/A | Time/eval: 166.82 mcs/at\n",
      "2023/03/22 13:00:59 I - Iteration   #29   (42 evals):       Loss: 0.017120 | RMSE Energy(low): 141.21 (142.64) meV/at | Forces(low): 146.21 (146.41) meV/A | Time/eval: 181.66 mcs/at\n",
      "2023/03/22 13:01:00 I - Iteration   #30   (43 evals):       Loss: 0.014251 | RMSE Energy(low): 131.50 (132.81) meV/at | Forces(low): 131.62 (131.79) meV/A | Time/eval: 160.35 mcs/at\n",
      "2023/03/22 13:01:01 I - Iteration   #31   (45 evals):       Loss: 0.013075 | RMSE Energy(low): 128.55 (129.67) meV/at | Forces(low): 124.71 (124.87) meV/A | Time/eval: 219.14 mcs/at\n",
      "2023/03/22 13:01:01 I - Iteration   #32   (46 evals):       Loss: 0.012236 | RMSE Energy(low): 123.02 (123.96) meV/at | Forces(low): 120.42 (120.58) meV/A | Time/eval: 158.23 mcs/at\n",
      "2023/03/22 13:01:02 I - Iteration   #33   (47 evals):       Loss: 0.011265 | RMSE Energy(low): 118.64 (119.82) meV/at | Forces(low): 115.71 (115.86) meV/A | Time/eval: 143.69 mcs/at\n",
      "2023/03/22 13:01:03 I - Iteration   #34   (48 evals):       Loss: 0.010204 | RMSE Energy(low): 114.34 (115.50) meV/at | Forces(low): 108.04 (108.19) meV/A | Time/eval: 172.66 mcs/at\n",
      "2023/03/22 13:01:03 I - Iteration   #35   (49 evals):       Loss: 0.009721 | RMSE Energy(low): 109.05 (110.14) meV/at | Forces(low): 103.89 (104.02) meV/A | Time/eval: 148.20 mcs/at\n",
      "2023/03/22 13:01:04 I - Iteration   #36   (50 evals):       Loss: 0.009302 | RMSE Energy(low): 106.12 (107.13) meV/at | Forces(low): 102.15 (102.29) meV/A | Time/eval: 162.24 mcs/at\n",
      "2023/03/22 13:01:04 I - Iteration   #37   (51 evals):       Loss: 0.008730 | RMSE Energy(low): 103.79 (104.83) meV/at | Forces(low): 99.57 (99.71) meV/A | Time/eval: 175.50 mcs/at\n",
      "2023/03/22 13:01:05 I - Iteration   #38   (52 evals):       Loss: 0.008173 | RMSE Energy(low): 101.57 (102.43) meV/at | Forces(low): 96.93 (97.07) meV/A | Time/eval: 152.52 mcs/at\n",
      "2023/03/22 13:01:05 I - Iteration   #39   (53 evals):       Loss: 0.007728 | RMSE Energy(low): 99.72 (100.66) meV/at | Forces(low): 95.06 (95.18) meV/A | Time/eval: 170.00 mcs/at\n",
      "2023/03/22 13:01:06 I - Iteration   #40   (54 evals):       Loss: 0.007282 | RMSE Energy(low): 98.25 (99.11) meV/at | Forces(low): 93.57 (93.69) meV/A | Time/eval: 154.62 mcs/at\n",
      "2023/03/22 13:01:06 I - Iteration   #41   (55 evals):       Loss: 0.006683 | RMSE Energy(low): 96.10 (97.06) meV/at | Forces(low): 89.19 (89.31) meV/A | Time/eval: 173.10 mcs/at\n",
      "2023/03/22 13:01:07 I - Iteration   #42   (57 evals):       Loss: 0.006386 | RMSE Energy(low): 94.13 (94.96) meV/at | Forces(low): 87.18 (87.30) meV/A | Time/eval: 179.58 mcs/at\n",
      "2023/03/22 13:01:08 I - Iteration   #43   (58 evals):       Loss: 0.005998 | RMSE Energy(low): 89.70 (90.59) meV/at | Forces(low): 85.66 (85.77) meV/A | Time/eval: 163.82 mcs/at\n",
      "2023/03/22 13:01:09 I - Iteration   #44   (60 evals):       Loss: 0.005770 | RMSE Energy(low): 87.28 (88.17) meV/at | Forces(low): 84.30 (84.42) meV/A | Time/eval: 181.52 mcs/at\n",
      "2023/03/22 13:01:09 I - Iteration   #45   (61 evals):       Loss: 0.005472 | RMSE Energy(low): 84.73 (85.58) meV/at | Forces(low): 82.61 (82.72) meV/A | Time/eval: 158.20 mcs/at\n",
      "2023/03/22 13:01:10 I - Iteration   #46   (62 evals):       Loss: 0.005199 | RMSE Energy(low): 79.80 (80.59) meV/at | Forces(low): 83.00 (83.11) meV/A | Time/eval: 170.79 mcs/at\n",
      "2023/03/22 13:01:11 I - Iteration   #47   (63 evals):       Loss: 0.004943 | RMSE Energy(low): 77.03 (77.65) meV/at | Forces(low): 81.86 (81.97) meV/A | Time/eval: 161.79 mcs/at\n",
      "2023/03/22 13:01:11 I - Iteration   #48   (64 evals):       Loss: 0.004806 | RMSE Energy(low): 75.43 (75.79) meV/at | Forces(low): 80.93 (81.04) meV/A | Time/eval: 170.08 mcs/at\n",
      "2023/03/22 13:01:12 I - Iteration   #49   (65 evals):       Loss: 0.004599 | RMSE Energy(low): 75.00 (75.64) meV/at | Forces(low): 79.78 (79.89) meV/A | Time/eval: 157.86 mcs/at\n",
      "2023/03/22 13:01:12 I - \n",
      "--------------------------------------------FIT STATS--------------------------------------------\n",
      "Iteration:  #50  Loss:    Total:  4.3366e-03 (100%) \n",
      "                         Energy:  1.4048e-03 ( 32%) \n",
      "                          Force:  2.9317e-03 ( 68%) \n",
      "                             L1:  1.3214e-07 (  0%) \n",
      "                             L2:  7.9092e-09 (  0%) \n",
      "Number of params./funcs:    912/294                                  Avg. time:     173.20 mcs/at\n",
      "-------------------------------------------------------------------------------------------------\n",
      "           Energy/at, meV/at   Energy_low/at, meV/at      Force, meV/A        Force_low, meV/A   \n",
      "   RMSE:           74.88                75.63                78.21                   78.31\n",
      "    MAE:           27.22                27.62                46.62                   46.75\n",
      " MAX_AE:          664.75               664.75               998.30                  998.30\n",
      "-------------------------------------------------------------------------------------------------\n",
      "2023/03/22 13:01:13 I - Iteration   #51   (67 evals):       Loss: 0.004233 | RMSE Energy(low): 73.83 (74.11) meV/at | Forces(low): 77.07 (77.17) meV/A | Time/eval: 150.34 mcs/at\n",
      "2023/03/22 13:01:14 I - Iteration   #52   (68 evals):       Loss: 0.004078 | RMSE Energy(low): 72.78 (73.43) meV/at | Forces(low): 76.50 (76.60) meV/A | Time/eval: 165.94 mcs/at\n",
      "2023/03/22 13:01:14 I - Iteration   #53   (69 evals):       Loss: 0.003899 | RMSE Energy(low): 70.42 (70.97) meV/at | Forces(low): 75.55 (75.66) meV/A | Time/eval: 167.40 mcs/at\n",
      "2023/03/22 13:01:15 I - Iteration   #54   (70 evals):       Loss: 0.003741 | RMSE Energy(low): 69.21 (69.69) meV/at | Forces(low): 73.93 (74.03) meV/A | Time/eval: 174.72 mcs/at\n",
      "2023/03/22 13:01:15 I - Iteration   #55   (71 evals):       Loss: 0.003548 | RMSE Energy(low): 67.24 (67.91) meV/at | Forces(low): 72.20 (72.30) meV/A | Time/eval: 186.82 mcs/at\n",
      "2023/03/22 13:01:16 I - Iteration   #56   (72 evals):       Loss: 0.003404 | RMSE Energy(low): 63.69 (64.34) meV/at | Forces(low): 71.23 (71.32) meV/A | Time/eval: 157.25 mcs/at\n",
      "2023/03/22 13:01:17 I - Iteration   #57   (74 evals):       Loss: 0.003327 | RMSE Energy(low): 62.35 (62.95) meV/at | Forces(low): 71.16 (71.26) meV/A | Time/eval: 181.14 mcs/at\n",
      "2023/03/22 13:01:17 I - Iteration   #58   (75 evals):       Loss: 0.003218 | RMSE Energy(low): 62.02 (62.64) meV/at | Forces(low): 70.15 (70.24) meV/A | Time/eval: 180.63 mcs/at\n",
      "2023/03/22 13:01:18 I - Iteration   #59   (76 evals):       Loss: 0.003105 | RMSE Energy(low): 60.67 (61.29) meV/at | Forces(low): 69.61 (69.70) meV/A | Time/eval: 157.92 mcs/at\n",
      "2023/03/22 13:01:19 I - Iteration   #60   (77 evals):       Loss: 0.002981 | RMSE Energy(low): 59.54 (60.12) meV/at | Forces(low): 68.50 (68.60) meV/A | Time/eval: 166.76 mcs/at\n",
      "2023/03/22 13:01:19 I - Iteration   #61   (78 evals):       Loss: 0.002922 | RMSE Energy(low): 57.41 (58.00) meV/at | Forces(low): 69.00 (69.09) meV/A | Time/eval: 169.45 mcs/at\n",
      "2023/03/22 13:01:20 I - Iteration   #62   (79 evals):       Loss: 0.002826 | RMSE Energy(low): 57.22 (57.81) meV/at | Forces(low): 67.81 (67.90) meV/A | Time/eval: 179.31 mcs/at\n",
      "2023/03/22 13:01:20 I - Iteration   #63   (80 evals):       Loss: 0.002706 | RMSE Energy(low): 56.33 (56.89) meV/at | Forces(low): 65.92 (66.01) meV/A | Time/eval: 193.84 mcs/at\n",
      "2023/03/22 13:01:21 I - Iteration   #64   (81 evals):       Loss: 0.002678 | RMSE Energy(low): 57.65 (58.19) meV/at | Forces(low): 63.83 (63.92) meV/A | Time/eval: 161.00 mcs/at\n",
      "2023/03/22 13:01:21 I - Iteration   #65   (82 evals):       Loss: 0.002627 | RMSE Energy(low): 57.35 (57.91) meV/at | Forces(low): 63.25 (63.33) meV/A | Time/eval: 162.94 mcs/at\n",
      "2023/03/22 13:01:22 I - Iteration   #66   (83 evals):       Loss: 0.002542 | RMSE Energy(low): 56.27 (56.83) meV/at | Forces(low): 62.58 (62.66) meV/A | Time/eval: 189.16 mcs/at\n",
      "2023/03/22 13:01:23 I - Iteration   #67   (84 evals):       Loss: 0.002433 | RMSE Energy(low): 54.22 (54.77) meV/at | Forces(low): 61.51 (61.59) meV/A | Time/eval: 158.96 mcs/at\n",
      "2023/03/22 13:01:23 I - Iteration   #68   (85 evals):       Loss: 0.002398 | RMSE Energy(low): 51.81 (52.31) meV/at | Forces(low): 60.90 (60.99) meV/A | Time/eval: 176.44 mcs/at\n",
      "2023/03/22 13:01:24 I - Iteration   #69   (86 evals):       Loss: 0.002340 | RMSE Energy(low): 51.56 (52.05) meV/at | Forces(low): 60.39 (60.47) meV/A | Time/eval: 189.96 mcs/at\n",
      "2023/03/22 13:01:24 I - Iteration   #70   (87 evals):       Loss: 0.002257 | RMSE Energy(low): 50.67 (51.18) meV/at | Forces(low): 59.66 (59.74) meV/A | Time/eval: 197.40 mcs/at\n",
      "2023/03/22 13:01:25 I - Iteration   #71   (88 evals):       Loss: 0.002166 | RMSE Energy(low): 48.60 (49.07) meV/at | Forces(low): 58.89 (58.97) meV/A | Time/eval: 198.60 mcs/at\n",
      "2023/03/22 13:01:25 I - Iteration   #72   (89 evals):       Loss: 0.002116 | RMSE Energy(low): 46.35 (46.73) meV/at | Forces(low): 58.70 (58.78) meV/A | Time/eval: 157.32 mcs/at\n",
      "2023/03/22 13:01:26 I - Iteration   #73   (90 evals):       Loss: 0.002042 | RMSE Energy(low): 44.30 (44.75) meV/at | Forces(low): 58.38 (58.45) meV/A | Time/eval: 170.61 mcs/at\n",
      "2023/03/22 13:01:27 I - Iteration   #74   (91 evals):       Loss: 0.001969 | RMSE Energy(low): 41.29 (41.68) meV/at | Forces(low): 57.96 (58.04) meV/A | Time/eval: 156.70 mcs/at\n",
      "2023/03/22 13:01:27 I - Iteration   #75   (92 evals):       Loss: 0.001933 | RMSE Energy(low): 37.95 (38.33) meV/at | Forces(low): 57.96 (58.04) meV/A | Time/eval: 174.34 mcs/at\n",
      "2023/03/22 13:01:28 I - Iteration   #76   (93 evals):       Loss: 0.001879 | RMSE Energy(low): 37.68 (38.02) meV/at | Forces(low): 57.24 (57.32) meV/A | Time/eval: 153.66 mcs/at\n",
      "2023/03/22 13:01:28 I - Iteration   #77   (94 evals):       Loss: 0.001802 | RMSE Energy(low): 37.66 (38.05) meV/at | Forces(low): 55.97 (56.04) meV/A | Time/eval: 163.06 mcs/at\n",
      "2023/03/22 13:01:29 I - Iteration   #78   (95 evals):       Loss: 0.001763 | RMSE Energy(low): 35.69 (36.04) meV/at | Forces(low): 55.53 (55.61) meV/A | Time/eval: 170.80 mcs/at\n",
      "2023/03/22 13:01:29 I - Iteration   #79   (96 evals):       Loss: 0.001705 | RMSE Energy(low): 35.27 (35.63) meV/at | Forces(low): 54.62 (54.69) meV/A | Time/eval: 178.57 mcs/at\n",
      "2023/03/22 13:01:30 I - Iteration   #80   (97 evals):       Loss: 0.001653 | RMSE Energy(low): 35.36 (35.72) meV/at | Forces(low): 53.78 (53.85) meV/A | Time/eval: 185.42 mcs/at\n",
      "2023/03/22 13:01:31 I - Iteration   #81   (98 evals):       Loss: 0.001597 | RMSE Energy(low): 34.28 (34.60) meV/at | Forces(low): 52.46 (52.53) meV/A | Time/eval: 198.25 mcs/at\n",
      "2023/03/22 13:01:31 I - Iteration   #82   (99 evals):       Loss: 0.001532 | RMSE Energy(low): 32.43 (32.75) meV/at | Forces(low): 51.98 (52.05) meV/A | Time/eval: 161.14 mcs/at\n",
      "2023/03/22 13:01:32 I - Iteration   #83   (100 evals):      Loss: 0.001453 | RMSE Energy(low): 29.16 (29.38) meV/at | Forces(low): 51.11 (51.18) meV/A | Time/eval: 163.80 mcs/at\n",
      "2023/03/22 13:01:32 I - Iteration   #84   (101 evals):      Loss: 0.001403 | RMSE Energy(low): 26.90 (27.11) meV/at | Forces(low): 50.27 (50.34) meV/A | Time/eval: 174.83 mcs/at\n",
      "2023/03/22 13:01:33 I - Iteration   #85   (102 evals):      Loss: 0.001355 | RMSE Energy(low): 25.56 (25.82) meV/at | Forces(low): 49.57 (49.64) meV/A | Time/eval: 146.74 mcs/at\n",
      "2023/03/22 13:01:33 I - Iteration   #86   (103 evals):      Loss: 0.001314 | RMSE Energy(low): 24.62 (24.85) meV/at | Forces(low): 48.81 (48.88) meV/A | Time/eval: 161.76 mcs/at\n",
      "2023/03/22 13:01:34 I - Iteration   #87   (104 evals):      Loss: 0.001264 | RMSE Energy(low): 23.45 (23.68) meV/at | Forces(low): 48.09 (48.15) meV/A | Time/eval: 161.87 mcs/at\n",
      "2023/03/22 13:01:35 I - Iteration   #88   (105 evals):      Loss: 0.001233 | RMSE Energy(low): 20.85 (21.05) meV/at | Forces(low): 47.92 (47.98) meV/A | Time/eval: 163.39 mcs/at\n",
      "2023/03/22 13:01:35 I - Iteration   #89   (106 evals):      Loss: 0.001196 | RMSE Energy(low): 20.68 (20.87) meV/at | Forces(low): 47.41 (47.48) meV/A | Time/eval: 174.76 mcs/at\n",
      "2023/03/22 13:01:36 I - Iteration   #90   (107 evals):      Loss: 0.001170 | RMSE Energy(low): 20.79 (20.97) meV/at | Forces(low): 47.01 (47.07) meV/A | Time/eval: 171.98 mcs/at\n",
      "2023/03/22 13:01:36 I - Iteration   #91   (108 evals):      Loss: 0.001145 | RMSE Energy(low): 21.78 (22.00) meV/at | Forces(low): 46.45 (46.51) meV/A | Time/eval: 179.68 mcs/at\n",
      "2023/03/22 13:01:37 I - Iteration   #92   (109 evals):      Loss: 0.001119 | RMSE Energy(low): 21.16 (21.36) meV/at | Forces(low): 46.34 (46.40) meV/A | Time/eval: 147.73 mcs/at\n",
      "2023/03/22 13:01:38 I - Iteration   #93   (110 evals):      Loss: 0.001110 | RMSE Energy(low): 20.32 (20.52) meV/at | Forces(low): 46.27 (46.33) meV/A | Time/eval: 161.61 mcs/at\n",
      "2023/03/22 13:01:38 I - Iteration   #94   (111 evals):      Loss: 0.001096 | RMSE Energy(low): 20.11 (20.30) meV/at | Forces(low): 46.01 (46.08) meV/A | Time/eval: 164.89 mcs/at\n",
      "2023/03/22 13:01:39 I - Iteration   #95   (112 evals):      Loss: 0.001078 | RMSE Energy(low): 19.92 (20.12) meV/at | Forces(low): 45.50 (45.56) meV/A | Time/eval: 167.41 mcs/at\n",
      "2023/03/22 13:01:39 I - Iteration   #96   (113 evals):      Loss: 0.001062 | RMSE Energy(low): 19.25 (19.44) meV/at | Forces(low): 44.85 (44.91) meV/A | Time/eval: 172.99 mcs/at\n",
      "2023/03/22 13:01:40 I - Iteration   #97   (114 evals):      Loss: 0.001043 | RMSE Energy(low): 18.65 (18.83) meV/at | Forces(low): 44.42 (44.48) meV/A | Time/eval: 184.76 mcs/at\n",
      "2023/03/22 13:01:41 I - Iteration   #98   (115 evals):      Loss: 0.001017 | RMSE Energy(low): 17.85 (18.04) meV/at | Forces(low): 43.78 (43.84) meV/A | Time/eval: 200.62 mcs/at\n",
      "2023/03/22 13:01:41 I - Iteration   #99   (116 evals):      Loss: 0.000997 | RMSE Energy(low): 16.88 (17.05) meV/at | Forces(low): 43.27 (43.33) meV/A | Time/eval: 201.36 mcs/at\n",
      "2023/03/22 13:01:42 I - \n",
      "--------------------------------------------FIT STATS--------------------------------------------\n",
      "Iteration:  #100 Loss:    Total:  9.8244e-04 (100%) \n",
      "                         Energy:  8.1305e-05 (  8%) \n",
      "                          Force:  9.0090e-04 ( 92%) \n",
      "                             L1:  2.0970e-07 (  0%) \n",
      "                             L2:  2.3729e-08 (  0%) \n",
      "Number of params./funcs:    912/294                                  Avg. time:     168.97 mcs/at\n",
      "-------------------------------------------------------------------------------------------------\n",
      "           Energy/at, meV/at   Energy_low/at, meV/at      Force, meV/A        Force_low, meV/A   \n",
      "   RMSE:           16.53                16.70                42.95                   43.00\n",
      "    MAE:            7.77                 7.90                26.10                   26.17\n",
      " MAX_AE:          137.92               137.92               563.45                  563.45\n",
      "-------------------------------------------------------------------------------------------------\n",
      "Warning: Maximum number of iterations has been exceeded.\n",
      "         Current function value: 0.000982\n",
      "         Iterations: 100\n",
      "         Function evaluations: 117\n",
      "         Gradient evaluations: 117\n",
      "Fitting took 108.01 seconds\n",
      "2023/03/22 13:01:42 I - Optimization result(success=False, status=1, message=Maximum number of iterations has been exceeded., nfev=117, njev=117)\n",
      "2023/03/22 13:01:42 I - Fitting cycle finished, final statistic:\n",
      "2023/03/22 13:01:42 I - \n",
      "--------------------------------------------Cycle last iteration:--------------------------------------------\n",
      "Iteration:  #101 Loss:    Total:  9.8244e-04 (100%) \n",
      "                         Energy:  8.1305e-05 (  8%) \n",
      "                          Force:  9.0090e-04 ( 92%) \n",
      "                             L1:  2.0970e-07 (  0%) \n",
      "                             L2:  2.3729e-08 (  0%) \n",
      "Number of params./funcs:    912/294                                  Avg. time:     168.97 mcs/at\n",
      "-------------------------------------------------------------------------------------------------\n",
      "           Energy/at, meV/at   Energy_low/at, meV/at      Force, meV/A        Force_low, meV/A   \n",
      "   RMSE:           16.53                16.70                42.95                   43.00\n",
      "    MAE:            7.77                 7.90                26.10                   26.17\n",
      " MAX_AE:          137.92               137.92               563.45                  563.45\n",
      "-------------------------------------------------------------------------------------------------\n",
      "2023/03/22 13:01:42 D - Update current_bbasisconfig.metadata = MapStringString{_fit_cycles: 1, _loss: 0.0009824356966157822, ace_evaluator_version: 2022.6.27, pacemaker_version: 0.2.7+76.g8b3c6cf, starttime: 2023-03-22 12:59:53.534728, tensorpot_version: 0+untagged.10.gd3e46ba, user: joyvan}\n",
      "2023/03/22 13:01:42 I - Select best fit #1 among all available (1)\n",
      "2023/03/22 13:01:42 I - Best fitting attempt is #1\n",
      "2023/03/22 13:01:42 I - Intermediate potential saved in interim_potential_best_cycle.yaml\n",
      "2023/03/22 13:01:42 I - Fitting done\n",
      "2023/03/22 13:01:42 D - Update metadata: MapStringString{_loss: 0.0009824356966157822, ace_evaluator_version: 2022.6.27, intermediate_time: 2023-03-22 13:01:42.572428, pacemaker_version: 0.2.7+76.g8b3c6cf, starttime: 2023-03-22 12:59:53.534728, tensorpot_version: 0+untagged.10.gd3e46ba, user: joyvan}\n",
      "2023/03/22 13:01:42 I - Final potential is saved to output_potential.yaml\n",
      "2023/03/22 13:01:42 I - Making predictions\n",
      "2023/03/22 13:01:42 I - For train data\n",
      "/srv/conda/envs/notebook/lib/python3.9/site-packages/tensorflow/python/framework/indexed_slices.py:444: UserWarning: Converting sparse IndexedSlices(IndexedSlices(indices=Tensor(\"concat_55:0\", shape=(None,), dtype=int32), values=Tensor(\"concat_54:0\", shape=(None, 3), dtype=float64), dense_shape=Tensor(\"gradient_tape/Cast_30:0\", shape=(2,), dtype=int32))) to a dense Tensor of unknown shape. This may consume a large amount of memory.\n",
      "  warnings.warn(\n",
      "/srv/conda/envs/notebook/lib/python3.9/site-packages/tensorflow/python/framework/indexed_slices.py:444: UserWarning: Converting sparse IndexedSlices(IndexedSlices(indices=Tensor(\"gradient_tape/Reshape_841:0\", shape=(None,), dtype=int32), values=Tensor(\"gradient_tape/Reshape_840:0\", shape=(None, 3, 3), dtype=float64), dense_shape=Tensor(\"gradient_tape/Cast_65:0\", shape=(3,), dtype=int32))) to a dense Tensor of unknown shape. This may consume a large amount of memory.\n",
      "  warnings.warn(\n",
      "2023/03/22 13:01:57 I - Computing nearest neighbours distances from 'tp_atoms'\n",
      "2023/03/22 13:01:57 I - Predictions are saved into train_pred.pckl.gzip (121.7KiB)\n",
      "2023/03/22 13:01:57 I - Ploting validation graphs\n",
      "Loading B-basis from 'output_potential.yaml'\n",
      "Converting to Ctilde-basis\n",
      "Saving Ctilde-basis to 'output_potential.yace'\n",
      "\n",
      "INFO:pyiron_log:run job: pacemaker_job id: 5, status: collect\n",
      "INFO:pyiron_log:update master: None 5 modal\n"
     ]
    }
   ],
   "source": [
    "job.run()"
   ]
  },
  {
   "cell_type": "code",
   "execution_count": 38,
   "id": "70ff4e16",
   "metadata": {},
   "outputs": [
    {
     "name": "stderr",
     "output_type": "stream",
     "text": [
      "DEBUG:pyiron_log:sql_query: {'project': '/home/joyvan/tutorial/potentials/ACE/training/%'}\n"
     ]
    },
    {
     "data": {
      "text/html": [
       "<div>\n",
       "<style scoped>\n",
       "    .dataframe tbody tr th:only-of-type {\n",
       "        vertical-align: middle;\n",
       "    }\n",
       "\n",
       "    .dataframe tbody tr th {\n",
       "        vertical-align: top;\n",
       "    }\n",
       "\n",
       "    .dataframe thead th {\n",
       "        text-align: right;\n",
       "    }\n",
       "</style>\n",
       "<table border=\"1\" class=\"dataframe\">\n",
       "  <thead>\n",
       "    <tr style=\"text-align: right;\">\n",
       "      <th></th>\n",
       "      <th>id</th>\n",
       "      <th>status</th>\n",
       "      <th>chemicalformula</th>\n",
       "      <th>job</th>\n",
       "      <th>subjob</th>\n",
       "      <th>projectpath</th>\n",
       "      <th>project</th>\n",
       "      <th>timestart</th>\n",
       "      <th>timestop</th>\n",
       "      <th>totalcputime</th>\n",
       "      <th>computer</th>\n",
       "      <th>hamilton</th>\n",
       "      <th>hamversion</th>\n",
       "      <th>parentid</th>\n",
       "      <th>masterid</th>\n",
       "    </tr>\n",
       "  </thead>\n",
       "  <tbody>\n",
       "    <tr>\n",
       "      <th>0</th>\n",
       "      <td>1</td>\n",
       "      <td>finished</td>\n",
       "      <td>None</td>\n",
       "      <td>full</td>\n",
       "      <td>/full</td>\n",
       "      <td>None</td>\n",
       "      <td>/home/joyvan/tutorial/potentials/ACE/training/</td>\n",
       "      <td>2022-06-03 00:02:34.816533</td>\n",
       "      <td>NaT</td>\n",
       "      <td>NaN</td>\n",
       "      <td>zora@cmti001#1</td>\n",
       "      <td>TrainingContainer</td>\n",
       "      <td>0.4</td>\n",
       "      <td>None</td>\n",
       "      <td>None</td>\n",
       "    </tr>\n",
       "    <tr>\n",
       "      <th>1</th>\n",
       "      <td>2</td>\n",
       "      <td>finished</td>\n",
       "      <td>None</td>\n",
       "      <td>basic</td>\n",
       "      <td>/basic</td>\n",
       "      <td>None</td>\n",
       "      <td>/home/joyvan/tutorial/potentials/ACE/training/</td>\n",
       "      <td>2022-06-03 00:02:47.281055</td>\n",
       "      <td>NaT</td>\n",
       "      <td>NaN</td>\n",
       "      <td>zora@cmti001#1</td>\n",
       "      <td>TrainingContainer</td>\n",
       "      <td>0.4</td>\n",
       "      <td>None</td>\n",
       "      <td>None</td>\n",
       "    </tr>\n",
       "    <tr>\n",
       "      <th>2</th>\n",
       "      <td>3</td>\n",
       "      <td>finished</td>\n",
       "      <td>None</td>\n",
       "      <td>Al_basic_atomicrex</td>\n",
       "      <td>/Al_basic_atomicrex</td>\n",
       "      <td>None</td>\n",
       "      <td>/home/joyvan/tutorial/potentials/ACE/training/</td>\n",
       "      <td>2022-06-03 02:00:15.887059</td>\n",
       "      <td>NaT</td>\n",
       "      <td>NaN</td>\n",
       "      <td>zora@cmti001#1</td>\n",
       "      <td>TrainingContainer</td>\n",
       "      <td>0.4</td>\n",
       "      <td>None</td>\n",
       "      <td>None</td>\n",
       "    </tr>\n",
       "    <tr>\n",
       "      <th>3</th>\n",
       "      <td>4</td>\n",
       "      <td>created</td>\n",
       "      <td>None</td>\n",
       "      <td>small_AlLi_training_container</td>\n",
       "      <td>/small_AlLi_training_container</td>\n",
       "      <td>None</td>\n",
       "      <td>/home/joyvan/tutorial/potentials/ACE/training/</td>\n",
       "      <td>2023-03-22 12:59:18.984183</td>\n",
       "      <td>NaT</td>\n",
       "      <td>NaN</td>\n",
       "      <td>pyiron@jupyter-matteor#1</td>\n",
       "      <td>TrainingContainer</td>\n",
       "      <td>0.4</td>\n",
       "      <td>None</td>\n",
       "      <td>None</td>\n",
       "    </tr>\n",
       "    <tr>\n",
       "      <th>4</th>\n",
       "      <td>5</td>\n",
       "      <td>finished</td>\n",
       "      <td>None</td>\n",
       "      <td>pacemaker_job</td>\n",
       "      <td>/pacemaker_job</td>\n",
       "      <td>None</td>\n",
       "      <td>/home/joyvan/tutorial/potentials/ACE/training/</td>\n",
       "      <td>2023-03-22 12:59:51.319858</td>\n",
       "      <td>2023-03-22 13:02:03.461298</td>\n",
       "      <td>132.0</td>\n",
       "      <td>pyiron@jupyter-matteor#1</td>\n",
       "      <td>Pacemaker2022</td>\n",
       "      <td>0.2</td>\n",
       "      <td>None</td>\n",
       "      <td>None</td>\n",
       "    </tr>\n",
       "  </tbody>\n",
       "</table>\n",
       "</div>"
      ],
      "text/plain": [
       "   id    status chemicalformula                            job  \\\n",
       "0   1  finished            None                           full   \n",
       "1   2  finished            None                          basic   \n",
       "2   3  finished            None             Al_basic_atomicrex   \n",
       "3   4   created            None  small_AlLi_training_container   \n",
       "4   5  finished            None                  pacemaker_job   \n",
       "\n",
       "                           subjob projectpath  \\\n",
       "0                           /full        None   \n",
       "1                          /basic        None   \n",
       "2             /Al_basic_atomicrex        None   \n",
       "3  /small_AlLi_training_container        None   \n",
       "4                  /pacemaker_job        None   \n",
       "\n",
       "                                          project                  timestart  \\\n",
       "0  /home/joyvan/tutorial/potentials/ACE/training/ 2022-06-03 00:02:34.816533   \n",
       "1  /home/joyvan/tutorial/potentials/ACE/training/ 2022-06-03 00:02:47.281055   \n",
       "2  /home/joyvan/tutorial/potentials/ACE/training/ 2022-06-03 02:00:15.887059   \n",
       "3  /home/joyvan/tutorial/potentials/ACE/training/ 2023-03-22 12:59:18.984183   \n",
       "4  /home/joyvan/tutorial/potentials/ACE/training/ 2023-03-22 12:59:51.319858   \n",
       "\n",
       "                    timestop  totalcputime                  computer  \\\n",
       "0                        NaT           NaN            zora@cmti001#1   \n",
       "1                        NaT           NaN            zora@cmti001#1   \n",
       "2                        NaT           NaN            zora@cmti001#1   \n",
       "3                        NaT           NaN  pyiron@jupyter-matteor#1   \n",
       "4 2023-03-22 13:02:03.461298         132.0  pyiron@jupyter-matteor#1   \n",
       "\n",
       "            hamilton hamversion parentid masterid  \n",
       "0  TrainingContainer        0.4     None     None  \n",
       "1  TrainingContainer        0.4     None     None  \n",
       "2  TrainingContainer        0.4     None     None  \n",
       "3  TrainingContainer        0.4     None     None  \n",
       "4      Pacemaker2022        0.2     None     None  "
      ]
     },
     "execution_count": 38,
     "metadata": {},
     "output_type": "execute_result"
    }
   ],
   "source": [
    "pr.job_table()"
   ]
  },
  {
   "cell_type": "markdown",
   "id": "d008c0ac",
   "metadata": {},
   "source": [
    "## Analyse fit"
   ]
  },
  {
   "cell_type": "markdown",
   "id": "01bd56f1",
   "metadata": {},
   "source": [
    "plot loss function"
   ]
  },
  {
   "cell_type": "code",
   "execution_count": 39,
   "id": "1640ba96",
   "metadata": {},
   "outputs": [
    {
     "data": {
      "text/plain": [
       "[]"
      ]
     },
     "execution_count": 39,
     "metadata": {},
     "output_type": "execute_result"
    },
    {
     "data": {
      "image/png": "[encoded data removed]",
      "text/plain": [
       "<Figure size 640x480 with 1 Axes>"
      ]
     },
     "metadata": {},
     "output_type": "display_data"
    }
   ],
   "source": [
    "plt.plot(job[\"output/log/loss\"])\n",
    "plt.xlabel(\"# iter\")\n",
    "plt.ylabel(\"Loss\")\n",
    "plt.loglog()"
   ]
  },
  {
   "cell_type": "markdown",
   "id": "b5a2ae0d",
   "metadata": {},
   "source": [
    "plot energy per atom RMSE"
   ]
  },
  {
   "cell_type": "code",
   "execution_count": 40,
   "id": "25e2a558",
   "metadata": {},
   "outputs": [
    {
     "data": {
      "text/plain": [
       "[]"
      ]
     },
     "execution_count": 40,
     "metadata": {},
     "output_type": "execute_result"
    },
    {
     "data": {
      "image/png": "[encoded data removed]",
      "text/plain": [
       "<Figure size 640x480 with 1 Axes>"
      ]
     },
     "metadata": {},
     "output_type": "display_data"
    }
   ],
   "source": [
    "plt.plot(job[\"output/log/rmse_epa\"])\n",
    "plt.xlabel(\"# iter\")\n",
    "plt.ylabel(\"RMSE E, eV/atom\")\n",
    "plt.loglog()"
   ]
  },
  {
   "cell_type": "markdown",
   "id": "9780dee9",
   "metadata": {},
   "source": [
    "plot force component RMSE"
   ]
  },
  {
   "cell_type": "code",
   "execution_count": 41,
   "id": "ddf9617c",
   "metadata": {},
   "outputs": [
    {
     "data": {
      "text/plain": [
       "[]"
      ]
     },
     "execution_count": 41,
     "metadata": {},
     "output_type": "execute_result"
    },
    {
     "data": {
      "image/png": "[encoded data removed]",
      "text/plain": [
       "<Figure size 640x480 with 1 Axes>"
      ]
     },
     "metadata": {},
     "output_type": "display_data"
    }
   ],
   "source": [
    "plt.plot(job[\"output/log/rmse_f_comp\"])\n",
    "plt.xlabel(\"# iter\")\n",
    "plt.ylabel(\"RMSE F_i, eV/A\")\n",
    "plt.loglog()"
   ]
  },
  {
   "cell_type": "code",
   "execution_count": null,
   "id": "f09f50f6",
   "metadata": {},
   "outputs": [],
   "source": []
  },
  {
   "cell_type": "markdown",
   "id": "3c3f336b",
   "metadata": {},
   "source": [
    "load DataFrame with predictions"
   ]
  },
  {
   "cell_type": "code",
   "execution_count": 42,
   "id": "52105a3b",
   "metadata": {},
   "outputs": [],
   "source": [
    "ref_df = job.training_data"
   ]
  },
  {
   "cell_type": "code",
   "execution_count": 43,
   "id": "0acc3ed8",
   "metadata": {},
   "outputs": [],
   "source": [
    "pred_df = job.predicted_data"
   ]
  },
  {
   "cell_type": "code",
   "execution_count": 44,
   "id": "0456dfe6",
   "metadata": {},
   "outputs": [
    {
     "data": {
      "text/plain": [
       "Text(0, 0.5, 'ACE E, eV/atom')"
      ]
     },
     "execution_count": 44,
     "metadata": {},
     "output_type": "execute_result"
    },
    {
     "data": {
      "image/png": "[encoded data removed]",
      "text/plain": [
       "<Figure size 640x480 with 1 Axes>"
      ]
     },
     "metadata": {},
     "output_type": "display_data"
    }
   ],
   "source": [
    "plt.scatter(pred_df[\"energy_per_atom_true\"],pred_df[\"energy_per_atom\"])\n",
    "plt.xlabel(\"DFT E, eV/atom\")\n",
    "plt.ylabel(\"ACE E, eV/atom\")"
   ]
  },
  {
   "cell_type": "code",
   "execution_count": 45,
   "id": "07e559d1",
   "metadata": {},
   "outputs": [
    {
     "data": {
      "text/plain": [
       "Text(0, 0.5, 'ACE F_i, eV/A')"
      ]
     },
     "execution_count": 45,
     "metadata": {},
     "output_type": "execute_result"
    },
    {
     "data": {
      "image/png": "[encoded data removed]",
      "text/plain": [
       "<Figure size 640x480 with 1 Axes>"
      ]
     },
     "metadata": {},
     "output_type": "display_data"
    }
   ],
   "source": [
    "plt.scatter(ref_df[\"forces\"],pred_df[\"forces\"])\n",
    "plt.xlabel(\"DFT F_i, eV/A\")\n",
    "plt.ylabel(\"ACE F_i, eV/A\")"
   ]
  },
  {
   "cell_type": "code",
   "execution_count": null,
   "id": "0b1d6786",
   "metadata": {},
   "outputs": [],
   "source": []
  },
  {
   "cell_type": "markdown",
   "id": "3164cfc1",
   "metadata": {},
   "source": [
    "Check more in `job.working_directory`/report folder"
   ]
  },
  {
   "cell_type": "code",
   "execution_count": 46,
   "id": "401df03b",
   "metadata": {},
   "outputs": [
    {
     "name": "stdout",
     "output_type": "stream",
     "text": [
      "train_E-dE-dist.png  train_EF-pairplots.png  train_Fi-dFi-dist.png\n",
      "train_E-dE-nn.png    train_F-dF-dist.png\n"
     ]
    }
   ],
   "source": [
    "! ls {job.working_directory}/report"
   ]
  },
  {
   "cell_type": "markdown",
   "id": "aa8476e7",
   "metadata": {},
   "source": [
    "## How actual potential file looks like ?"
   ]
  },
  {
   "cell_type": "markdown",
   "id": "cd8f5733",
   "metadata": {},
   "source": [
    "`output_potential.yaml`:\n",
    "\n",
    "```yaml\n",
    "species:\n",
    "    # Pure Al interaction block\n",
    "  - speciesblock: Al\n",
    "    radbase: SBessel\n",
    "    radcoefficients: [[[1.995274603767268, -1.1940566258712266,...]]]\n",
    "  \n",
    "    nbody:\n",
    "      # first order/ two-body functions = pair functions\n",
    "      - {type: Al Al, nr: [1], nl: [0], c: [2.0970219095074687, -3.9539202281610351]}\n",
    "      - {type: Al Al, nr: [2], nl: [0], c: [-1.8968648691718397, -2.3146574133175974]}\n",
    "      - {type: Al Al, nr: [3], nl: [0], c: [1.3504952496800906, 1.5291190439028692]}\n",
    "      - {type: Al Al, nr: [4], nl: [0], c: [0.040517989827027742, 0.11933504671036224]}\n",
    "      ...\n",
    "      # second order/ three-body functions \n",
    "      - {type: Al Al Al, nr: [1, 1], nl: [0, 0], c: [0.57788490809100468, -1.8642896163994958]}\n",
    "      - {type: Al Al Al, nr: [1, 1], nl: [1, 1], c: [-1.0126646532267587, -1.2336078784112348]}\n",
    "      - {type: Al Al Al, nr: [1, 1], nl: [2, 2], c: [-0.19324470046809467, 0.63954472122968498]}\n",
    "      - {type: Al Al Al, nr: [1, 1], nl: [3, 3], c: [-0.22018334529075642, 0.32822679746839439]}\n",
    "      ...\n",
    "      # fifth order/ six-body functions \n",
    "      - {type: Al Al Al Al Al Al, nr: [1, 1, 1, 1, 1], nl: [0, 0, 0, 0, 0], lint: [0, 0, 0], c: [-0.71...]}\n",
    "  \n",
    "  \n",
    "  # binary Al-Li interaction block    \n",
    "  - speciesblock: Al Li      \n",
    "     ...\n",
    "     nbody:\n",
    "      - {type: Al Li, nr: [1], nl: [0], c: [0.91843424537280882, -2.4170371138562308]}\n",
    "      - {type: Al Li, nr: [2], nl: [0], c: [-0.88380210517336399, -0.97055273167339651]}\n",
    "      ...\n",
    "      - {type: Al Al Al Li Li, nr: [1, 1, 1, 1], nl: [1, 1, 0, 0], lint: [0, 0], c: [-0.0050,...]}\n",
    "      ...\n",
    "  # Pure Li interaction block      \n",
    "  - speciesblock: Li\n",
    "      nbody:\n",
    "       ...\n",
    "       - {type: Li Li Li, nr: [4, 4], nl: [3, 3], c: [-0.0059111333449957159, 0.035]}\n",
    "       - {type: Li Li Li Li, nr: [1, 1, 1], nl: [0, 0, 0], lint: [0], c: [0.210,...]}\n",
    "       ...\n",
    "  # binary Al-Li interaction block    \n",
    "  - speciesblock: Li Al\n",
    "      nbody:\n",
    "       ...\n",
    "       - {type: Li Al Al, nr: [4, 4], nl: [3, 3], c: [0.014680736321211739, -0.030618474343919122]}\n",
    "       - {type: Li Al Li, nr: [1, 1], nl: [0, 0], c: [-0.22827705573988896, 0.28367909613209036]}\n",
    "       ...\n",
    "  \n",
    "```"
   ]
  },
  {
   "cell_type": "markdown",
   "id": "13e2ebaf",
   "metadata": {},
   "source": [
    "`output_potential.yaml` is in B-basis form. For efficient LAMMPS implementaion it should be converted to so-called `C-tilde` form.  This is already done by `pyiron`, but it could be also done manually by `pace_yaml2yace` utility. Check [here](https://pacemaker.readthedocs.io/en/latest/pacemaker/quickstart/#lammps) for more details"
   ]
  },
  {
   "cell_type": "markdown",
   "id": "2bdf791a",
   "metadata": {},
   "source": [
    "## Get LAMMPS potential and try some calculations"
   ]
  },
  {
   "cell_type": "code",
   "execution_count": 47,
   "id": "c229794b",
   "metadata": {},
   "outputs": [
    {
     "data": {
      "text/html": [
       "<div>\n",
       "<style scoped>\n",
       "    .dataframe tbody tr th:only-of-type {\n",
       "        vertical-align: middle;\n",
       "    }\n",
       "\n",
       "    .dataframe tbody tr th {\n",
       "        vertical-align: top;\n",
       "    }\n",
       "\n",
       "    .dataframe thead th {\n",
       "        text-align: right;\n",
       "    }\n",
       "</style>\n",
       "<table border=\"1\" class=\"dataframe\">\n",
       "  <thead>\n",
       "    <tr style=\"text-align: right;\">\n",
       "      <th></th>\n",
       "      <th>Config</th>\n",
       "      <th>Filename</th>\n",
       "      <th>Model</th>\n",
       "      <th>Name</th>\n",
       "      <th>Species</th>\n",
       "    </tr>\n",
       "  </thead>\n",
       "  <tbody>\n",
       "    <tr>\n",
       "      <th>0</th>\n",
       "      <td>[pair_style pace\\n, pair_coeff  * * /home/joyvan/tutorial/potentials/ACE/training/pacemaker_job_hdf5/pacemaker_job/output_potential.yace Al Li\\n]</td>\n",
       "      <td></td>\n",
       "      <td>ACE</td>\n",
       "      <td>pacemaker_job</td>\n",
       "      <td>[Al, Li]</td>\n",
       "    </tr>\n",
       "  </tbody>\n",
       "</table>\n",
       "</div>"
      ],
      "text/plain": [
       "                                                                                                                                              Config  \\\n",
       "0  [pair_style pace\\n, pair_coeff  * * /home/joyvan/tutorial/potentials/ACE/training/pacemaker_job_hdf5/pacemaker_job/output_potential.yace Al Li\\n]   \n",
       "\n",
       "  Filename Model           Name   Species  \n",
       "0            ACE  pacemaker_job  [Al, Li]  "
      ]
     },
     "execution_count": 47,
     "metadata": {},
     "output_type": "execute_result"
    }
   ],
   "source": [
    "pace_lammps_potential = job.get_lammps_potential()\n",
    "pace_lammps_potential"
   ]
  },
  {
   "cell_type": "code",
   "execution_count": 48,
   "id": "7d6534da",
   "metadata": {},
   "outputs": [
    {
     "name": "stderr",
     "output_type": "stream",
     "text": [
      "DEBUG:pyiron_log:sql_query: {'job': 'pace_lammps', 'project': '/home/joyvan/tutorial/potentials/ACE/training/'}\n",
      "DEBUG:pyiron_log:sql_query: {'job': 'pace_lammps', 'project': '/home/joyvan/tutorial/potentials/ACE/training/%'}\n"
     ]
    }
   ],
   "source": [
    "lammps_job = pr.create.job.Lammps(\"pace_lammps\", delete_existing_job=True)"
   ]
  },
  {
   "cell_type": "code",
   "execution_count": 49,
   "id": "658e357f-fb4c-4c5b-97d3-05e722393d92",
   "metadata": {},
   "outputs": [],
   "source": [
    "lammps_job.structure=pr.create.structure.bulk(\"Al\", cubic=True)"
   ]
  },
  {
   "cell_type": "code",
   "execution_count": 50,
   "id": "d3c13d84-05bd-421c-9f70-55df301c1c7a",
   "metadata": {},
   "outputs": [],
   "source": [
    "lammps_job.structure[0]='Li'"
   ]
  },
  {
   "cell_type": "code",
   "execution_count": 51,
   "id": "901e84bb-795b-4c75-b432-4e289b50170f",
   "metadata": {},
   "outputs": [],
   "source": [
    "lammps_job.potential=pace_lammps_potential"
   ]
  },
  {
   "cell_type": "code",
   "execution_count": 52,
   "id": "a56cdf1d-fd7d-4fff-9df7-5cac3f3a4dbd",
   "metadata": {},
   "outputs": [
    {
     "name": "stderr",
     "output_type": "stream",
     "text": [
      "INFO:pyiron_log:run job: pace_lammps id: None, status: initialized\n",
      "DEBUG:pyiron_log:Not supported parameter used!\n",
      "DEBUG:pyiron_log:Not supported parameter used!\n",
      "INFO:pyiron_log:run job: pace_lammps id: 6, status: created\n",
      "INFO:pyiron_log:job: pace_lammps id: 6, status: submitted, run job (modal)\n"
     ]
    },
    {
     "name": "stdout",
     "output_type": "stream",
     "text": [
      "The job pace_lammps was saved and received the ID: 6\n"
     ]
    },
    {
     "name": "stderr",
     "output_type": "stream",
     "text": [
      "INFO:pyiron_log:job: pace_lammps id: 6, status: running, output: LAMMPS (23 Jun 2022 - Update 1)\n",
      "Reading data file ...\n",
      "  orthogonal box = (0 0 0) to (4.05 4.05 4.05)\n",
      "  1 by 1 by 1 MPI processor grid\n",
      "  reading atoms ...\n",
      "  4 atoms\n",
      "  read_data CPU = 0.000 seconds\n",
      "ACE version: 2021.10.25\n",
      "Recursive evaluator is used\n",
      "Loading /home/joyvan/tutorial/potentials/ACE/training/pacemaker_job_hdf5/pacemaker_job/output_potential.yace\n",
      "Total number of basis functions\n",
      "\tAl: 24 (r=1) 123 (r>1)\n",
      "\tLi: 24 (r=1) 123 (r>1)\n",
      "Mapping LAMMPS atom type #1(Al) -> ACE species type #0\n",
      "Mapping LAMMPS atom type #2(Li) -> ACE species type #1\n",
      "Neighbor list info ...\n",
      "  update every 1 steps, delay 10 steps, check yes\n",
      "  max neighbors/atom: 2000, page size: 100000\n",
      "  master list distance cutoff = 7\n",
      "  ghost atom cutoff = 7\n",
      "  binsize = 3.5, bins = 2 2 2\n",
      "  1 neighbor lists, perpetual/occasional/extra = 1 0 0\n",
      "  (1) pair pace, perpetual\n",
      "      attributes: full, newton on\n",
      "      pair build: full/bin/atomonly\n",
      "      stencil: full/bin/3d\n",
      "      bin: standard\n",
      "Setting up Verlet run ...\n",
      "  Unit style    : metal\n",
      "  Current step  : 0\n",
      "  Time step     : 0.001\n",
      "Per MPI rank memory allocation (min/avg/max) = 4.209 | 4.209 | 4.209 Mbytes\n",
      "   Step          Temp          PotEng         TotEng          Pxx            Pxy            Pxz            Pyy            Pyz            Pzz           Volume    \n",
      "         0                     0    -13.1729815780286    -13.1729815780286    -19352.1681968491 -2.89992727754733e-12 -1.4381965758801e-12    -19352.1681968492 -2.20697801825965e-12    -19352.1681968492            66.430125\n",
      "Loop time of 7.34e-07 on 1 procs for 0 steps with 4 atoms\n",
      "\n",
      "136.2% CPU use with 1 MPI tasks x no OpenMP threads\n",
      "\n",
      "MPI task timing breakdown:\n",
      "Section |  min time  |  avg time  |  max time  |%varavg| %total\n",
      "---------------------------------------------------------------\n",
      "Pair    | 0          | 0          | 0          |   0.0 |  0.00\n",
      "Neigh   | 0          | 0          | 0          |   0.0 |  0.00\n",
      "Comm    | 0          | 0          | 0          |   0.0 |  0.00\n",
      "Output  | 0          | 0          | 0          |   0.0 |  0.00\n",
      "Modify  | 0          | 0          | 0          |   0.0 |  0.00\n",
      "Other   |            | 7.34e-07   |            |       |100.00\n",
      "\n",
      "Nlocal:              4 ave           4 max           4 min\n",
      "Histogram: 1 0 0 0 0 0 0 0 0 0\n",
      "Nghost:            360 ave         360 max         360 min\n",
      "Histogram: 1 0 0 0 0 0 0 0 0 0\n",
      "Neighs:              0 ave           0 max           0 min\n",
      "Histogram: 1 0 0 0 0 0 0 0 0 0\n",
      "FullNghs:          312 ave         312 max         312 min\n",
      "Histogram: 1 0 0 0 0 0 0 0 0 0\n",
      "\n",
      "Total # of neighbors = 312\n",
      "Ave neighs/atom = 78\n",
      "Neighbor list builds = 0\n",
      "Dangerous builds = 0\n",
      "Total wall time: 0:00:00\n",
      "\n",
      "INFO:pyiron_log:run job: pace_lammps id: 6, status: collect\n",
      "DEBUG:pyiron_log:sql_query: {'job': 'pace_lammps', 'project': '/home/joyvan/tutorial/potentials/ACE/training/'}\n",
      "DEBUG:pyiron_log:sql_query: {'job': 'pace_lammps', 'project': '/home/joyvan/tutorial/potentials/ACE/training/'}\n",
      "DEBUG:pyiron_log:sql_query: {'job': 'pace_lammps', 'project': '/home/joyvan/tutorial/potentials/ACE/training/'}\n",
      "DEBUG:pyiron_log:sql_query: {'job': 'pace_lammps', 'project': '/home/joyvan/tutorial/potentials/ACE/training/'}\n",
      "DEBUG:pyiron_log:sql_query: {'job': 'pace_lammps', 'project': '/home/joyvan/tutorial/potentials/ACE/training/'}\n",
      "DEBUG:pyiron_log:sql_query: {'job': 'pace_lammps', 'project': '/home/joyvan/tutorial/potentials/ACE/training/'}\n",
      "DEBUG:pyiron_log:Not supported parameter used!\n",
      "DEBUG:pyiron_log:sql_query: {'job': 'pace_lammps', 'project': '/home/joyvan/tutorial/potentials/ACE/training/'}\n",
      "DEBUG:pyiron_log:sql_query: {'job': 'pace_lammps', 'project': '/home/joyvan/tutorial/potentials/ACE/training/'}\n",
      "INFO:pyiron_log:update master: None 6 modal\n"
     ]
    }
   ],
   "source": [
    "lammps_job.run()"
   ]
  },
  {
   "cell_type": "code",
   "execution_count": 53,
   "id": "4a0e2669-5e60-4ed3-b46d-52d4cf5d16a9",
   "metadata": {},
   "outputs": [
    {
     "name": "stderr",
     "output_type": "stream",
     "text": [
      "DEBUG:pyiron_log:sql_query: {'job': 'pace_lammps', 'project': '/home/joyvan/tutorial/potentials/ACE/training/'}\n"
     ]
    },
    {
     "data": {
      "text/plain": [
       "array([-13.17298158])"
      ]
     },
     "execution_count": 53,
     "metadata": {},
     "output_type": "execute_result"
    }
   ],
   "source": [
    "lammps_job.output.energy_pot"
   ]
  },
  {
   "cell_type": "code",
   "execution_count": null,
   "id": "5b38ac8a-8a75-465b-b4e7-fbed142e7209",
   "metadata": {},
   "outputs": [],
   "source": []
  },
  {
   "cell_type": "markdown",
   "id": "75cb5206-c497-401c-b2f2-74436e219784",
   "metadata": {},
   "source": [
    "## Further reading"
   ]
  },
  {
   "cell_type": "markdown",
   "id": "b5c498c2-c6fd-4f9b-bd12-0dfd6381c085",
   "metadata": {},
   "source": [
    "Please read sources for more details:\n",
    "* [Documentation](https://pacemaker.readthedocs.io/en/latest/)\n",
    "* [`pacemaker` repository](https://github.com/ICAMS/python-ace)\n",
    "* [Bochkarev, A., Lysogorskiy, Y., Menon, S., Qamar, M., Mrovec, M. and Drautz, R. Efficient parametrization of the atomic cluster expansion. Physical Review Materials 6(1) 013804 (2022)](https://journals.aps.org/prmaterials/abstract/10.1103/PhysRevMaterials.6.013804)\n",
    "* [Lysogorskiy, Y., Oord, C. v. d., Bochkarev, A., Menon, S., Rinaldi, M., Hammerschmidt, T., Mrovec, M., Thompson, A., Csányi, G., Ortner, C. and  Drautz, R. Performant implementation of the atomic cluster expansion (PACE) and application to copper and silicon. npj Computational Materials 7(1), 1-12 (2021)](https://www.nature.com/articles/s41524-021-00559-9)\n",
    "* [Drautz, R. Atomic cluster expansion for accurate and transferable interatomic potentials. Physical Review B, 99(1), 014104 (2019)](https://journals.aps.org/prb/abstract/10.1103/PhysRevB.99.014104)\n",
    "\n"
   ]
  },
  {
   "cell_type": "code",
   "execution_count": null,
   "id": "2bb9e3a3-7807-42f5-a6b4-2ec9b11ff4c0",
   "metadata": {},
   "outputs": [],
   "source": []
  }
 ],
 "metadata": {
  "kernelspec": {
   "display_name": "Python 3 (ipykernel)",
   "language": "python",
   "name": "python3"
  },
  "language_info": {
   "codemirror_mode": {
    "name": "ipython",
    "version": 3
   },
   "file_extension": ".py",
   "mimetype": "text/x-python",
   "name": "python",
   "nbconvert_exporter": "python",
   "pygments_lexer": "ipython3",
   "version": "3.8.8"
  }
 },
 "nbformat": 4,
 "nbformat_minor": 5
}
